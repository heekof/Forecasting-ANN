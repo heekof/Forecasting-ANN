{
 "cells": [
  {
   "cell_type": "code",
   "execution_count": null,
   "metadata": {
    "collapsed": true
   },
   "outputs": [],
   "source": [
    "import datetime\n",
    "import time\n",
    "\n",
    "# Import libraries use for visualization and analysis\n",
    "import pandas as pd\n",
    "import numpy as np\n",
    "\n",
    "%matplotlib inline\n",
    "import matplotlib\n",
    "import matplotlib.pyplot as plt\n",
    "\n",
    "#import cufflinks as cf\n",
    "\n",
    "# Import the Monasca and Keystone clients\n",
    "from monascaclient import client\n",
    "from monascaclient import ksclient\n",
    "\n",
    "from pandas import Series,DataFrame\n",
    "\n",
    "# Import library to execute remote commands for monasca-agent demo\n",
    "#import spur\n",
    "\n",
    "\n",
    "import pymongo\n",
    "from pymongo import MongoClient\n",
    "\n",
    "from password import *"
   ]
  },
  {
   "cell_type": "code",
   "execution_count": null,
   "metadata": {
    "collapsed": true
   },
   "outputs": [],
   "source": [
    "\n",
    "df_Ellis.from_csv(\"/home/jaafar/anaconda2/Forecasting-ANN/Data/Ellis.csv\",sep=';',header=True,index=True,index_label='Timestamp')\n",
    "df_Bono.from_csv(\"/home/jaafar/anaconda2/Forecasting-ANN/Data/Bono.csv\",sep=';',header=True,index=True,index_label='Timestamp')\n",
    "df_Sprout.from_csv(\"/home/jaafar/anaconda2/Forecasting-ANN/Data/Sprout.csv\",sep=';',header=True,index=True,index_label='Timestamp')\n",
    "df_Homer.from_csv(\"/home/jaafar/anaconda2/Forecasting-ANN/Data/Homer.csv\",sep=';',header=True,index=True,index_label='Timestamp')\n",
    "df_HS.from_csv(\"/home/jaafar/anaconda2/Forecasting-ANN/Data/Homestead.csv\",sep=';',header=True,index=True,index_label='Timestamp')\n",
    "df_Ralf.from_csv(\"/home/jaafar/anaconda2/Forecasting-ANN/Data/Ralf.csv\",sep=';',header=True,index=True,index_label='Timestamp')"
   ]
  },
  {
   "cell_type": "markdown",
   "metadata": {},
   "source": [
    "Here I will create new features :\n",
    "\n",
    "    features powered 2 and 3 \n",
    "    \n",
    "    moving avreges 2 to 10 \n",
    "    \n",
    "    Here add new things ...\n",
    "    \n",
    "And then I will Scale and transform my features: \n",
    "\n",
    "    PCA\n",
    "    \n",
    "    Whitening \n",
    "    \n",
    "    scalling \n",
    "    \n",
    "    \n",
    "Forecasting can also be recursive f(f(f(f(t))))"
   ]
  },
  {
   "cell_type": "code",
   "execution_count": null,
   "metadata": {
    "collapsed": true
   },
   "outputs": [],
   "source": []
  }
 ],
 "metadata": {
  "kernelspec": {
   "display_name": "Python 2",
   "language": "python",
   "name": "python2"
  },
  "language_info": {
   "codemirror_mode": {
    "name": "ipython",
    "version": 2
   },
   "file_extension": ".py",
   "mimetype": "text/x-python",
   "name": "python",
   "nbconvert_exporter": "python",
   "pygments_lexer": "ipython2",
   "version": "2.7.6"
  }
 },
 "nbformat": 4,
 "nbformat_minor": 0
}
