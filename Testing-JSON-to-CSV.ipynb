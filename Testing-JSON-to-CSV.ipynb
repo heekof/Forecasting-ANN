{
 "cells": [
  {
   "cell_type": "code",
   "execution_count": 42,
   "metadata": {
    "collapsed": true
   },
   "outputs": [],
   "source": [
    "import numpy as np\n",
    "from pandas import Series,DataFrame\n",
    "import pandas as pd\n",
    "import json"
   ]
  },
  {
   "cell_type": "code",
   "execution_count": 80,
   "metadata": {
    "collapsed": false
   },
   "outputs": [],
   "source": [
    "A = \"\"\"{\n",
    "  \"metrics\": [\n",
    "    {\n",
    "      \"value\": \"466222\",\n",
    "      \"labels\": {\n",
    "        \"device\": \"sda\"\n",
    "      }\n",
    "    },\n",
    "    {\n",
    "      \"value\": \"0\",\n",
    "      \"labels\": {\n",
    "        \"device\": \"sr0\"\n",
    "      }\n",
    "    }\n",
    "  ],\n",
    "  \"type\": \"COUNTER\",\n",
    "  \"help\": \"The total number of sectors read successfully.\",\n",
    "  \"name\": \"node_disk_sectors_read\"\n",
    "}\"\"\""
   ]
  },
  {
   "cell_type": "code",
   "execution_count": 209,
   "metadata": {
    "collapsed": true
   },
   "outputs": [],
   "source": [
    "def merge_two_dicts(x, y):\n",
    "    '''Given two dicts, merge them into a new dict as a shallow copy.'''\n",
    "    z = x.copy()\n",
    "    z.update(y)\n",
    "    return z"
   ]
  },
  {
   "cell_type": "code",
   "execution_count": 215,
   "metadata": {
    "collapsed": false
   },
   "outputs": [],
   "source": [
    "with open(\"/home/jaafar/testbed/monitoring/prometheus/pluginjaafar/data/file1.json\") as json_file:\n",
    "    json_data1 = json.load(json_file)\n",
    "with open(\"/home/jaafar/testbed/monitoring/prometheus/pluginjaafar/data/file4.json\") as json_file:\n",
    "    json_data2 = json.load(json_file)\n",
    "      "
   ]
  },
  {
   "cell_type": "code",
   "execution_count": 216,
   "metadata": {
    "collapsed": false
   },
   "outputs": [
    {
     "data": {
      "text/plain": [
       "{u'help': u'The HTTP request sizes in bytes.',\n",
       " u'metrics': [{u'count': u'1884',\n",
       "   u'labels': {u'handler': u'prometheus'},\n",
       "   u'quantiles': {u'0.5': u'216', u'0.9': u'216', u'0.99': u'308'},\n",
       "   u'sum': u'460724'}],\n",
       " u'name': u'http_request_size_bytes',\n",
       " u'type': u'SUMMARY'}"
      ]
     },
     "execution_count": 216,
     "metadata": {},
     "output_type": "execute_result"
    }
   ],
   "source": [
    "A=merge_two_dicts(json_data1,json_data2)\n",
    "A\n"
   ]
  },
  {
   "cell_type": "code",
   "execution_count": 212,
   "metadata": {
    "collapsed": true
   },
   "outputs": [],
   "source": [
    "frame = DataFrame(A)"
   ]
  },
  {
   "cell_type": "code",
   "execution_count": 213,
   "metadata": {
    "collapsed": false
   },
   "outputs": [
    {
     "data": {
      "text/html": [
       "<div>\n",
       "<table border=\"1\" class=\"dataframe\">\n",
       "  <thead>\n",
       "    <tr style=\"text-align: right;\">\n",
       "      <th></th>\n",
       "      <th>help</th>\n",
       "      <th>metrics</th>\n",
       "      <th>name</th>\n",
       "      <th>type</th>\n",
       "    </tr>\n",
       "  </thead>\n",
       "  <tbody>\n",
       "    <tr>\n",
       "      <th>0</th>\n",
       "      <td>A summary of the GC invocation durations.</td>\n",
       "      <td>{u'count': u'1203', u'sum': u'1.782300197', u'...</td>\n",
       "      <td>go_gc_duration_seconds</td>\n",
       "      <td>SUMMARY</td>\n",
       "    </tr>\n",
       "  </tbody>\n",
       "</table>\n",
       "</div>"
      ],
      "text/plain": [
       "                                        help  \\\n",
       "0  A summary of the GC invocation durations.   \n",
       "\n",
       "                                             metrics                    name  \\\n",
       "0  {u'count': u'1203', u'sum': u'1.782300197', u'...  go_gc_duration_seconds   \n",
       "\n",
       "      type  \n",
       "0  SUMMARY  "
      ]
     },
     "execution_count": 213,
     "metadata": {},
     "output_type": "execute_result"
    }
   ],
   "source": [
    "frame"
   ]
  },
  {
   "cell_type": "code",
   "execution_count": 96,
   "metadata": {
    "collapsed": false
   },
   "outputs": [
    {
     "data": {
      "text/plain": [
       "array([{u'labels': {u'device': u'sda'}, u'value': u'466222'},\n",
       "       {u'labels': {u'device': u'sr0'}, u'value': u'0'}], dtype=object)"
      ]
     },
     "execution_count": 96,
     "metadata": {},
     "output_type": "execute_result"
    }
   ],
   "source": [
    "frame.metrics.get_values()"
   ]
  },
  {
   "cell_type": "code",
   "execution_count": 106,
   "metadata": {
    "collapsed": false
   },
   "outputs": [],
   "source": [
    "T = np.array(frame.metrics.get_values())"
   ]
  },
  {
   "cell_type": "code",
   "execution_count": 111,
   "metadata": {
    "collapsed": false
   },
   "outputs": [
    {
     "data": {
      "text/plain": [
       "array([{u'labels': {u'device': u'sda'}, u'value': u'466222'},\n",
       "       {u'labels': {u'device': u'sr0'}, u'value': u'0'}], dtype=object)"
      ]
     },
     "execution_count": 111,
     "metadata": {},
     "output_type": "execute_result"
    }
   ],
   "source": [
    "T.view()"
   ]
  },
  {
   "cell_type": "code",
   "execution_count": 114,
   "metadata": {
    "collapsed": false
   },
   "outputs": [],
   "source": [
    "C = frame.metrics.to_csv"
   ]
  },
  {
   "cell_type": "code",
   "execution_count": 115,
   "metadata": {
    "collapsed": false
   },
   "outputs": [
    {
     "data": {
      "text/plain": [
       "<bound method Series.to_csv of 0    {u'labels': {u'device': u'sda'}, u'value': u'4...\n",
       "1     {u'labels': {u'device': u'sr0'}, u'value': u'0'}\n",
       "Name: metrics, dtype: object>"
      ]
     },
     "execution_count": 115,
     "metadata": {},
     "output_type": "execute_result"
    }
   ],
   "source": [
    "C"
   ]
  },
  {
   "cell_type": "code",
   "execution_count": 119,
   "metadata": {
    "collapsed": false
   },
   "outputs": [
    {
     "data": {
      "text/plain": [
       "0    {u'labels': {u'device': u'sda'}, u'value': u'4...\n",
       "1     {u'labels': {u'device': u'sr0'}, u'value': u'0'}\n",
       "Name: metrics, dtype: object"
      ]
     },
     "execution_count": 119,
     "metadata": {},
     "output_type": "execute_result"
    }
   ],
   "source": [
    "C.im_self"
   ]
  },
  {
   "cell_type": "code",
   "execution_count": null,
   "metadata": {
    "collapsed": false
   },
   "outputs": [],
   "source": []
  },
  {
   "cell_type": "code",
   "execution_count": 122,
   "metadata": {
    "collapsed": true
   },
   "outputs": [],
   "source": [
    "B=\"\"\"{\n",
    "  \"metrics\": [\n",
    "    {\n",
    "      \"value\": \"1659\",\n",
    "      \"labels\": {\n",
    "        \"device\": \"sda\"\n",
    "      }\n",
    "    },\n",
    "    {\n",
    "      \"value\": \"0\",\n",
    "      \"labels\": {\n",
    "        \"device\": \"sr0\"\n",
    "      }\n",
    "    }\n",
    "  ],\n",
    "  \"type\": \"COUNTER\",\n",
    "  \"help\": \"The number of reads merged. See https://www.kernel.org/doc/Documentation/iostats.txt.\",\n",
    "  \"name\": \"node_disk_reads_merged\"\n",
    "}\n",
    "\"\"\""
   ]
  },
  {
   "cell_type": "code",
   "execution_count": 123,
   "metadata": {
    "collapsed": false
   },
   "outputs": [],
   "source": [
    "data=json.loads(B)"
   ]
  },
  {
   "cell_type": "code",
   "execution_count": 124,
   "metadata": {
    "collapsed": true
   },
   "outputs": [],
   "source": [
    "frame2 = DataFrame(data)"
   ]
  },
  {
   "cell_type": "code",
   "execution_count": 125,
   "metadata": {
    "collapsed": false
   },
   "outputs": [
    {
     "data": {
      "text/html": [
       "<div>\n",
       "<table border=\"1\" class=\"dataframe\">\n",
       "  <thead>\n",
       "    <tr style=\"text-align: right;\">\n",
       "      <th></th>\n",
       "      <th>help</th>\n",
       "      <th>metrics</th>\n",
       "      <th>name</th>\n",
       "      <th>type</th>\n",
       "    </tr>\n",
       "  </thead>\n",
       "  <tbody>\n",
       "    <tr>\n",
       "      <th>0</th>\n",
       "      <td>The number of reads merged. See https://www.ke...</td>\n",
       "      <td>{u'labels': {u'device': u'sda'}, u'value': u'1...</td>\n",
       "      <td>node_disk_reads_merged</td>\n",
       "      <td>COUNTER</td>\n",
       "    </tr>\n",
       "    <tr>\n",
       "      <th>1</th>\n",
       "      <td>The number of reads merged. See https://www.ke...</td>\n",
       "      <td>{u'labels': {u'device': u'sr0'}, u'value': u'0'}</td>\n",
       "      <td>node_disk_reads_merged</td>\n",
       "      <td>COUNTER</td>\n",
       "    </tr>\n",
       "  </tbody>\n",
       "</table>\n",
       "</div>"
      ],
      "text/plain": [
       "                                                help  \\\n",
       "0  The number of reads merged. See https://www.ke...   \n",
       "1  The number of reads merged. See https://www.ke...   \n",
       "\n",
       "                                             metrics                    name  \\\n",
       "0  {u'labels': {u'device': u'sda'}, u'value': u'1...  node_disk_reads_merged   \n",
       "1   {u'labels': {u'device': u'sr0'}, u'value': u'0'}  node_disk_reads_merged   \n",
       "\n",
       "      type  \n",
       "0  COUNTER  \n",
       "1  COUNTER  "
      ]
     },
     "execution_count": 125,
     "metadata": {},
     "output_type": "execute_result"
    }
   ],
   "source": [
    "frame2"
   ]
  },
  {
   "cell_type": "code",
   "execution_count": 131,
   "metadata": {
    "collapsed": false
   },
   "outputs": [],
   "source": [
    "frame2.to_csv('myfile.csv')"
   ]
  },
  {
   "cell_type": "code",
   "execution_count": 135,
   "metadata": {
    "collapsed": false
   },
   "outputs": [],
   "source": [
    "frame2.to_csv('myfile.csv')"
   ]
  },
  {
   "cell_type": "code",
   "execution_count": 136,
   "metadata": {
    "collapsed": false
   },
   "outputs": [],
   "source": [
    "frame2.metrics.to_csv('myfile.csv')"
   ]
  },
  {
   "cell_type": "code",
   "execution_count": 144,
   "metadata": {
    "collapsed": true
   },
   "outputs": [],
   "source": [
    "B= \"\"\"{\n",
    "  \"metrics\": [\n",
    "    {\n",
    "      \"value\": \"2.516101e+06\",\n",
    "      \"labels\": {\n",
    "        \"mountpoint\": \"/\",\n",
    "        \"fstype\": \"ext4\",\n",
    "        \"device\": \"/dev/disk/by-uuid/64ecdf77-db7b-48a8-9066-abfb837f2e24\"\n",
    "      }\n",
    "    },\n",
    "    {\n",
    "      \"value\": \"253175\",\n",
    "      \"labels\": {\n",
    "        \"mountpoint\": \"/run/lock\",\n",
    "        \"fstype\": \"tmpfs\",\n",
    "        \"device\": \"none\"\n",
    "      }\n",
    "    },\n",
    "    {\n",
    "      \"value\": \"253175\",\n",
    "      \"labels\": {\n",
    "        \"mountpoint\": \"/run/shm\",\n",
    "        \"fstype\": \"tmpfs\",\n",
    "        \"device\": \"none\"\n",
    "      }\n",
    "    },\n",
    "    {\n",
    "      \"value\": \"253174\",\n",
    "      \"labels\": {\n",
    "        \"mountpoint\": \"/run/user\",\n",
    "        \"fstype\": \"tmpfs\",\n",
    "        \"device\": \"none\"\n",
    "      }\n",
    "    },\n",
    "    {\n",
    "      \"value\": \"1000\",\n",
    "      \"labels\": {\n",
    "        \"mountpoint\": \"/vagrant\",\n",
    "        \"fstype\": \"vboxsf\",\n",
    "        \"device\": \"none\"\n",
    "      }\n",
    "    },\n",
    "    {\n",
    "      \"value\": \"2.516101e+06\",\n",
    "      \"labels\": {\n",
    "        \"mountpoint\": \"/\",\n",
    "        \"fstype\": \"rootfs\",\n",
    "        \"device\": \"rootfs\"\n",
    "      }\n",
    "    },\n",
    "    {\n",
    "      \"value\": \"0\",\n",
    "      \"labels\": {\n",
    "        \"mountpoint\": \"/run/rpc_pipefs\",\n",
    "        \"fstype\": \"rpc_pipefs\",\n",
    "        \"device\": \"rpc_pipefs\"\n",
    "      }\n",
    "    },\n",
    "    {\n",
    "      \"value\": \"252832\",\n",
    "      \"labels\": {\n",
    "        \"mountpoint\": \"/run\",\n",
    "        \"fstype\": \"tmpfs\",\n",
    "        \"device\": \"tmpfs\"\n",
    "      }\n",
    "    }\n",
    "  ],\n",
    "  \"type\": \"GAUGE\",\n",
    "  \"help\": \"Filesystem total free file nodes.\",\n",
    "  \"name\": \"node_filesystem_files_free\"\n",
    "}\n",
    "\"\"\""
   ]
  },
  {
   "cell_type": "code",
   "execution_count": 147,
   "metadata": {
    "collapsed": true
   },
   "outputs": [],
   "source": [
    "data = json.loads(B)\n",
    "frame = DataFrame(data)"
   ]
  },
  {
   "cell_type": "code",
   "execution_count": 148,
   "metadata": {
    "collapsed": false
   },
   "outputs": [
    {
     "data": {
      "text/html": [
       "<div>\n",
       "<table border=\"1\" class=\"dataframe\">\n",
       "  <thead>\n",
       "    <tr style=\"text-align: right;\">\n",
       "      <th></th>\n",
       "      <th>help</th>\n",
       "      <th>metrics</th>\n",
       "      <th>name</th>\n",
       "      <th>type</th>\n",
       "    </tr>\n",
       "  </thead>\n",
       "  <tbody>\n",
       "    <tr>\n",
       "      <th>0</th>\n",
       "      <td>Filesystem total free file nodes.</td>\n",
       "      <td>{u'labels': {u'device': u'/dev/disk/by-uuid/64...</td>\n",
       "      <td>node_filesystem_files_free</td>\n",
       "      <td>GAUGE</td>\n",
       "    </tr>\n",
       "    <tr>\n",
       "      <th>1</th>\n",
       "      <td>Filesystem total free file nodes.</td>\n",
       "      <td>{u'labels': {u'device': u'none', u'mountpoint'...</td>\n",
       "      <td>node_filesystem_files_free</td>\n",
       "      <td>GAUGE</td>\n",
       "    </tr>\n",
       "    <tr>\n",
       "      <th>2</th>\n",
       "      <td>Filesystem total free file nodes.</td>\n",
       "      <td>{u'labels': {u'device': u'none', u'mountpoint'...</td>\n",
       "      <td>node_filesystem_files_free</td>\n",
       "      <td>GAUGE</td>\n",
       "    </tr>\n",
       "    <tr>\n",
       "      <th>3</th>\n",
       "      <td>Filesystem total free file nodes.</td>\n",
       "      <td>{u'labels': {u'device': u'none', u'mountpoint'...</td>\n",
       "      <td>node_filesystem_files_free</td>\n",
       "      <td>GAUGE</td>\n",
       "    </tr>\n",
       "    <tr>\n",
       "      <th>4</th>\n",
       "      <td>Filesystem total free file nodes.</td>\n",
       "      <td>{u'labels': {u'device': u'none', u'mountpoint'...</td>\n",
       "      <td>node_filesystem_files_free</td>\n",
       "      <td>GAUGE</td>\n",
       "    </tr>\n",
       "    <tr>\n",
       "      <th>5</th>\n",
       "      <td>Filesystem total free file nodes.</td>\n",
       "      <td>{u'labels': {u'device': u'rootfs', u'mountpoin...</td>\n",
       "      <td>node_filesystem_files_free</td>\n",
       "      <td>GAUGE</td>\n",
       "    </tr>\n",
       "    <tr>\n",
       "      <th>6</th>\n",
       "      <td>Filesystem total free file nodes.</td>\n",
       "      <td>{u'labels': {u'device': u'rpc_pipefs', u'mount...</td>\n",
       "      <td>node_filesystem_files_free</td>\n",
       "      <td>GAUGE</td>\n",
       "    </tr>\n",
       "    <tr>\n",
       "      <th>7</th>\n",
       "      <td>Filesystem total free file nodes.</td>\n",
       "      <td>{u'labels': {u'device': u'tmpfs', u'mountpoint...</td>\n",
       "      <td>node_filesystem_files_free</td>\n",
       "      <td>GAUGE</td>\n",
       "    </tr>\n",
       "  </tbody>\n",
       "</table>\n",
       "</div>"
      ],
      "text/plain": [
       "                                help  \\\n",
       "0  Filesystem total free file nodes.   \n",
       "1  Filesystem total free file nodes.   \n",
       "2  Filesystem total free file nodes.   \n",
       "3  Filesystem total free file nodes.   \n",
       "4  Filesystem total free file nodes.   \n",
       "5  Filesystem total free file nodes.   \n",
       "6  Filesystem total free file nodes.   \n",
       "7  Filesystem total free file nodes.   \n",
       "\n",
       "                                             metrics  \\\n",
       "0  {u'labels': {u'device': u'/dev/disk/by-uuid/64...   \n",
       "1  {u'labels': {u'device': u'none', u'mountpoint'...   \n",
       "2  {u'labels': {u'device': u'none', u'mountpoint'...   \n",
       "3  {u'labels': {u'device': u'none', u'mountpoint'...   \n",
       "4  {u'labels': {u'device': u'none', u'mountpoint'...   \n",
       "5  {u'labels': {u'device': u'rootfs', u'mountpoin...   \n",
       "6  {u'labels': {u'device': u'rpc_pipefs', u'mount...   \n",
       "7  {u'labels': {u'device': u'tmpfs', u'mountpoint...   \n",
       "\n",
       "                         name   type  \n",
       "0  node_filesystem_files_free  GAUGE  \n",
       "1  node_filesystem_files_free  GAUGE  \n",
       "2  node_filesystem_files_free  GAUGE  \n",
       "3  node_filesystem_files_free  GAUGE  \n",
       "4  node_filesystem_files_free  GAUGE  \n",
       "5  node_filesystem_files_free  GAUGE  \n",
       "6  node_filesystem_files_free  GAUGE  \n",
       "7  node_filesystem_files_free  GAUGE  "
      ]
     },
     "execution_count": 148,
     "metadata": {},
     "output_type": "execute_result"
    }
   ],
   "source": [
    "frame"
   ]
  },
  {
   "cell_type": "code",
   "execution_count": 149,
   "metadata": {
    "collapsed": true
   },
   "outputs": [],
   "source": [
    "frame.to_csv('myfile.csv')"
   ]
  },
  {
   "cell_type": "code",
   "execution_count": 151,
   "metadata": {
    "collapsed": false
   },
   "outputs": [
    {
     "data": {
      "text/plain": [
       "array([ {u'labels': {u'device': u'/dev/disk/by-uuid/64ecdf77-db7b-48a8-9066-abfb837f2e24', u'mountpoint': u'/', u'fstype': u'ext4'}, u'value': u'2.516101e+06'},\n",
       "       {u'labels': {u'device': u'none', u'mountpoint': u'/run/lock', u'fstype': u'tmpfs'}, u'value': u'253175'},\n",
       "       {u'labels': {u'device': u'none', u'mountpoint': u'/run/shm', u'fstype': u'tmpfs'}, u'value': u'253175'},\n",
       "       {u'labels': {u'device': u'none', u'mountpoint': u'/run/user', u'fstype': u'tmpfs'}, u'value': u'253174'},\n",
       "       {u'labels': {u'device': u'none', u'mountpoint': u'/vagrant', u'fstype': u'vboxsf'}, u'value': u'1000'},\n",
       "       {u'labels': {u'device': u'rootfs', u'mountpoint': u'/', u'fstype': u'rootfs'}, u'value': u'2.516101e+06'},\n",
       "       {u'labels': {u'device': u'rpc_pipefs', u'mountpoint': u'/run/rpc_pipefs', u'fstype': u'rpc_pipefs'}, u'value': u'0'},\n",
       "       {u'labels': {u'device': u'tmpfs', u'mountpoint': u'/run', u'fstype': u'tmpfs'}, u'value': u'252832'}], dtype=object)"
      ]
     },
     "execution_count": 151,
     "metadata": {},
     "output_type": "execute_result"
    }
   ],
   "source": [
    "frame.metrics.get_values()"
   ]
  },
  {
   "cell_type": "code",
   "execution_count": 152,
   "metadata": {
    "collapsed": true
   },
   "outputs": [],
   "source": [
    "A=\"\"\"{\n",
    "  \"metrics\": [\n",
    "    {\n",
    "      \"sum\": \"0.393227957\",\n",
    "      \"count\": \"192\",\n",
    "      \"quantiles\": {\n",
    "        \"1\": \"0.003821\",\n",
    "        \"0.75\": \"0.002446457\",\n",
    "        \"0.5\": \"0.002132578\",\n",
    "        \"0.25\": \"0.0016374570000000001\",\n",
    "        \"0\": \"0.000557352\"\n",
    "      }\n",
    "    }\n",
    "  ],\n",
    "  \"type\": \"SUMMARY\",\n",
    "  \"help\": \"A summary of the GC invocation durations.\",\n",
    "  \"name\": \"go_gc_duration_seconds\"\n",
    "}\n",
    "{\n",
    "  \"metrics\": [\n",
    "    {\n",
    "      \"value\": \"19\"\n",
    "    }\n",
    "  ],\n",
    "  \"type\": \"GAUGE\",\n",
    "  \"help\": \"Number of goroutines that currently exist.\",\n",
    "  \"name\": \"go_goroutines\"\n",
    "}\"\"\"\n",
    "B=\"\"\"\n",
    "{\n",
    "  \"metrics\": [\n",
    "    {\n",
    "      \"sum\": \"3.888340002999999e+06\",\n",
    "      \"count\": \"246\",\n",
    "      \"quantiles\": {\n",
    "        \"0.99\": \"19597.366\",\n",
    "        \"0.9\": \"18697.683\",\n",
    "        \"0.5\": \"14660.919\"\n",
    "      },\n",
    "      \"labels\": {\n",
    "        \"handler\": \"prometheus\"\n",
    "      }\n",
    "    }\n",
    "  ],\n",
    "  \"type\": \"SUMMARY\",\n",
    "  \"help\": \"The HTTP request latencies in microseconds.\",\n",
    "  \"name\": \"http_request_duration_microseconds\"\n",
    "}\"\"\""
   ]
  },
  {
   "cell_type": "code",
   "execution_count": 154,
   "metadata": {
    "collapsed": false
   },
   "outputs": [
    {
     "data": {
      "text/plain": [
       "'\\n{\\n  \"metrics\": [\\n    {\\n      \"sum\": \"3.888340002999999e+06\",\\n      \"count\": \"246\",\\n      \"quantiles\": {\\n        \"0.99\": \"19597.366\",\\n        \"0.9\": \"18697.683\",\\n        \"0.5\": \"14660.919\"\\n      },\\n      \"labels\": {\\n        \"handler\": \"prometheus\"\\n      }\\n    }\\n  ],\\n  \"type\": \"SUMMARY\",\\n  \"help\": \"The HTTP request latencies in microseconds.\",\\n  \"name\": \"http_request_duration_microseconds\"\\n}'"
      ]
     },
     "execution_count": 154,
     "metadata": {},
     "output_type": "execute_result"
    }
   ],
   "source": [
    "B"
   ]
  },
  {
   "cell_type": "code",
   "execution_count": 161,
   "metadata": {
    "collapsed": false
   },
   "outputs": [],
   "source": [
    "dframe = pd.read_json('/home/jaafar/testbed/monitoring/prometheus/pluginjaafar/data/file1.json',convert_dates= True)"
   ]
  },
  {
   "cell_type": "code",
   "execution_count": 195,
   "metadata": {
    "collapsed": false
   },
   "outputs": [
    {
     "data": {
      "text/html": [
       "<div>\n",
       "<table border=\"1\" class=\"dataframe\">\n",
       "  <thead>\n",
       "    <tr style=\"text-align: right;\">\n",
       "      <th></th>\n",
       "      <th>help</th>\n",
       "      <th>metrics</th>\n",
       "      <th>name</th>\n",
       "      <th>type</th>\n",
       "    </tr>\n",
       "  </thead>\n",
       "  <tbody>\n",
       "    <tr>\n",
       "      <th>0</th>\n",
       "      <td>A summary of the GC invocation durations.</td>\n",
       "      <td>{u'count': u'1203', u'sum': u'1.782300197', u'...</td>\n",
       "      <td>go_gc_duration_seconds</td>\n",
       "      <td>SUMMARY</td>\n",
       "    </tr>\n",
       "  </tbody>\n",
       "</table>\n",
       "</div>"
      ],
      "text/plain": [
       "                                        help  \\\n",
       "0  A summary of the GC invocation durations.   \n",
       "\n",
       "                                             metrics                    name  \\\n",
       "0  {u'count': u'1203', u'sum': u'1.782300197', u'...  go_gc_duration_seconds   \n",
       "\n",
       "      type  \n",
       "0  SUMMARY  "
      ]
     },
     "execution_count": 195,
     "metadata": {},
     "output_type": "execute_result"
    }
   ],
   "source": [
    "dframe"
   ]
  },
  {
   "cell_type": "code",
   "execution_count": 199,
   "metadata": {
    "collapsed": false,
    "scrolled": true
   },
   "outputs": [
    {
     "data": {
      "text/plain": [
       "4"
      ]
     },
     "execution_count": 199,
     "metadata": {},
     "output_type": "execute_result"
    }
   ],
   "source": [
    "dframe.size"
   ]
  },
  {
   "cell_type": "code",
   "execution_count": 202,
   "metadata": {
    "collapsed": false
   },
   "outputs": [],
   "source": [
    "M=dframe.as_matrix"
   ]
  },
  {
   "cell_type": "code",
   "execution_count": 203,
   "metadata": {
    "collapsed": false
   },
   "outputs": [
    {
     "name": "stdout",
     "output_type": "stream",
     "text": [
      "Help on method as_matrix in module pandas.core.generic:\n",
      "\n",
      "as_matrix(self, columns=None) method of pandas.core.frame.DataFrame instance\n",
      "    Convert the frame to its Numpy-array representation.\n",
      "    \n",
      "    Parameters\n",
      "    ----------\n",
      "    columns: list, optional, default:None\n",
      "        If None, return all columns, otherwise, returns specified columns.\n",
      "    \n",
      "    Returns\n",
      "    -------\n",
      "    values : ndarray\n",
      "        If the caller is heterogeneous and contains booleans or objects,\n",
      "        the result will be of dtype=object. See Notes.\n",
      "    \n",
      "    \n",
      "    Notes\n",
      "    -----\n",
      "    Return is NOT a Numpy-matrix, rather, a Numpy-array.\n",
      "    \n",
      "    The dtype will be a lower-common-denominator dtype (implicit\n",
      "    upcasting); that is to say if the dtypes (even of numeric types)\n",
      "    are mixed, the one that accommodates all will be chosen. Use this\n",
      "    with care if you are not dealing with the blocks.\n",
      "    \n",
      "    e.g. If the dtypes are float16 and float32, dtype will be upcast to\n",
      "    float32.  If dtypes are int32 and uint8, dtype will be upcase to\n",
      "    int32.\n",
      "    \n",
      "    This method is provided for backwards compatibility. Generally,\n",
      "    it is recommended to use '.values'.\n",
      "    \n",
      "    See Also\n",
      "    --------\n",
      "    pandas.DataFrame.values\n",
      "\n"
     ]
    }
   ],
   "source": [
    "help(M)"
   ]
  },
  {
   "cell_type": "code",
   "execution_count": 204,
   "metadata": {
    "collapsed": false
   },
   "outputs": [
    {
     "data": {
      "text/plain": [
       "<bound method DataFrame.as_matrix of                                         help  \\\n",
       "0  A summary of the GC invocation durations.   \n",
       "\n",
       "                                             metrics                    name  \\\n",
       "0  {u'count': u'1203', u'sum': u'1.782300197', u'...  go_gc_duration_seconds   \n",
       "\n",
       "      type  \n",
       "0  SUMMARY  >"
      ]
     },
     "execution_count": 204,
     "metadata": {},
     "output_type": "execute_result"
    }
   ],
   "source": [
    "M"
   ]
  },
  {
   "cell_type": "code",
   "execution_count": null,
   "metadata": {
    "collapsed": true
   },
   "outputs": [],
   "source": []
  }
 ],
 "metadata": {
  "kernelspec": {
   "display_name": "Python 2",
   "language": "python",
   "name": "python2"
  },
  "language_info": {
   "codemirror_mode": {
    "name": "ipython",
    "version": 2
   },
   "file_extension": ".py",
   "mimetype": "text/x-python",
   "name": "python",
   "nbconvert_exporter": "python",
   "pygments_lexer": "ipython2",
   "version": "2.7.11"
  }
 },
 "nbformat": 4,
 "nbformat_minor": 0
}
