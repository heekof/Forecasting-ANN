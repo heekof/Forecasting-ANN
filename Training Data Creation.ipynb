{
 "cells": [
  {
   "cell_type": "code",
<<<<<<< HEAD
   "execution_count": 27,
=======
   "execution_count": 208,
>>>>>>> 28b30f60d6a7c97fdcdd077a6dce76103cfe7234
   "metadata": {
    "collapsed": true
   },
   "outputs": [],
   "source": [
    "import numpy as np\n",
    "import pandas as pd\n",
    "from pandas import Series,DataFrame"
   ]
  },
  {
   "cell_type": "code",
<<<<<<< HEAD
   "execution_count": 28,
=======
   "execution_count": 209,
>>>>>>> 28b30f60d6a7c97fdcdd077a6dce76103cfe7234
   "metadata": {
    "collapsed": true
   },
   "outputs": [],
   "source": [
    "dframe = pd.read_csv('streamingserverData.csv',sep=';')\n"
   ]
  },
  {
   "cell_type": "code",
<<<<<<< HEAD
   "execution_count": 29,
=======
   "execution_count": 210,
>>>>>>> 28b30f60d6a7c97fdcdd077a6dce76103cfe7234
   "metadata": {
    "collapsed": false
   },
   "outputs": [],
   "source": [
    "dframe.head(10);"
   ]
  },
  {
   "cell_type": "code",
<<<<<<< HEAD
   "execution_count": 30,
=======
   "execution_count": 211,
>>>>>>> 28b30f60d6a7c97fdcdd077a6dce76103cfe7234
   "metadata": {
    "collapsed": false
   },
   "outputs": [],
   "source": [
    "# represent this as delta \n",
    "# Then as percentages\n",
    "dframe.Value;"
   ]
  },
  {
   "cell_type": "code",
<<<<<<< HEAD
   "execution_count": 32,
=======
   "execution_count": 212,
>>>>>>> 28b30f60d6a7c97fdcdd077a6dce76103cfe7234
   "metadata": {
    "collapsed": false
   },
   "outputs": [
    {
<<<<<<< HEAD
     "data": {
      "text/plain": [
       "array([ 8.26666667,  7.4       ,  8.26666667, ...,  6.33333333,\n",
       "        8.        ,  7.53333333])"
      ]
     },
     "execution_count": 32,
     "metadata": {},
     "output_type": "execute_result"
=======
     "name": "stdout",
     "output_type": "stream",
     "text": [
      "6.6\n",
      "7.73333333333\n",
      "6.9375\n"
     ]
>>>>>>> 28b30f60d6a7c97fdcdd077a6dce76103cfe7234
    }
   ],
   "source": [
    "arr = np.asanyarray(dframe.Value)\n",
    "arr_debug = arr.copy();\n",
<<<<<<< HEAD
    "\n",
    "\n"
=======
    "print arr[3]\n",
    "print arr[4]\n",
    "print arr[5]"
>>>>>>> 28b30f60d6a7c97fdcdd077a6dce76103cfe7234
   ]
  },
  {
   "cell_type": "code",
<<<<<<< HEAD
   "execution_count": 7,
=======
   "execution_count": 213,
>>>>>>> 28b30f60d6a7c97fdcdd077a6dce76103cfe7234
   "metadata": {
    "collapsed": false
   },
   "outputs": [],
   "source": [
    "# code to replace data with their percentages\n",
    "i = 1;\n",
    "prec = 0;\n",
    "i = np.size(arr)-1;\n",
    "while i>0:\n",
    "    arr[i] = ((arr[i] - arr[i-1])/arr[i]);  \n",
    "    i -= 1;\n",
    "arr[0] = 0;        \n"
   ]
  },
  {
   "cell_type": "code",
<<<<<<< HEAD
   "execution_count": 8,
=======
   "execution_count": 214,
>>>>>>> 28b30f60d6a7c97fdcdd077a6dce76103cfe7234
   "metadata": {
    "collapsed": false
   },
   "outputs": [
    {
     "data": {
      "text/plain": [
       "array([ 0.        , -0.11711712,  0.10483871, ..., -0.48421053,\n",
       "        0.20833333, -0.0619469 ])"
      ]
     },
<<<<<<< HEAD
     "execution_count": 8,
=======
     "execution_count": 214,
>>>>>>> 28b30f60d6a7c97fdcdd077a6dce76103cfe7234
     "metadata": {},
     "output_type": "execute_result"
    }
   ],
   "source": [
    "arr"
   ]
  },
  {
   "cell_type": "code",
<<<<<<< HEAD
   "execution_count": 9,
=======
   "execution_count": 215,
>>>>>>> 28b30f60d6a7c97fdcdd077a6dce76103cfe7234
   "metadata": {
    "collapsed": false
   },
   "outputs": [
    {
     "data": {
      "text/plain": [
       "array([ 8.26666667,  7.4       ,  8.26666667, ...,  6.33333333,\n",
       "        8.        ,  7.53333333])"
      ]
     },
<<<<<<< HEAD
     "execution_count": 9,
=======
     "execution_count": 215,
>>>>>>> 28b30f60d6a7c97fdcdd077a6dce76103cfe7234
     "metadata": {},
     "output_type": "execute_result"
    }
   ],
   "source": [
    "arr_debug"
   ]
  },
  {
   "cell_type": "code",
<<<<<<< HEAD
   "execution_count": 10,
=======
   "execution_count": 216,
>>>>>>> 28b30f60d6a7c97fdcdd077a6dce76103cfe7234
   "metadata": {
    "collapsed": false
   },
   "outputs": [],
   "source": [
    "arr=arr.T"
   ]
  },
  {
   "cell_type": "code",
<<<<<<< HEAD
   "execution_count": 11,
=======
   "execution_count": 217,
>>>>>>> 28b30f60d6a7c97fdcdd077a6dce76103cfe7234
   "metadata": {
    "collapsed": false
   },
   "outputs": [
    {
     "data": {
      "text/plain": [
       "array([-0.11471471,  0.07909292, -0.18947368, ..., -0.48421053,\n",
       "        0.20833333, -0.0619469 ])"
      ]
     },
<<<<<<< HEAD
     "execution_count": 11,
=======
     "execution_count": 217,
>>>>>>> 28b30f60d6a7c97fdcdd077a6dce76103cfe7234
     "metadata": {},
     "output_type": "execute_result"
    }
   ],
   "source": [
    "window=5\n",
    "arrY = arr[window:]\n",
    "arrY"
   ]
  },
  {
   "cell_type": "code",
<<<<<<< HEAD
   "execution_count": 12,
=======
   "execution_count": 218,
>>>>>>> 28b30f60d6a7c97fdcdd077a6dce76103cfe7234
   "metadata": {
    "collapsed": false
   },
   "outputs": [],
   "source": [
    "a=arr\n",
    "window=5;\n",
    "b = [arr[i:i+window] for i in xrange(len(arr)-2)];"
   ]
  },
  {
   "cell_type": "code",
<<<<<<< HEAD
   "execution_count": 23,
=======
   "execution_count": 219,
>>>>>>> 28b30f60d6a7c97fdcdd077a6dce76103cfe7234
   "metadata": {
    "collapsed": false
   },
   "outputs": [],
   "source": [
    "myarray = b\n",
    "myarray;"
   ]
  },
  {
   "cell_type": "code",
<<<<<<< HEAD
   "execution_count": 14,
=======
   "execution_count": 220,
>>>>>>> 28b30f60d6a7c97fdcdd077a6dce76103cfe7234
   "metadata": {
    "collapsed": false
   },
   "outputs": [],
   "source": [
    "#repr(dframe.Unix_time[0])[1:-1]\n",
    "\n",
    "#Result=myarray.T\n",
    "Result=myarray\n",
    "#Result=np.arr(myarray.T)\n",
    "Result;"
   ]
  },
  {
   "cell_type": "code",
<<<<<<< HEAD
   "execution_count": 15,
=======
   "execution_count": 221,
>>>>>>> 28b30f60d6a7c97fdcdd077a6dce76103cfe7234
   "metadata": {
    "collapsed": false
   },
   "outputs": [
    {
     "data": {
      "text/html": [
       "<div>\n",
       "<table border=\"1\" class=\"dataframe\">\n",
       "  <thead>\n",
       "    <tr style=\"text-align: right;\">\n",
       "      <th></th>\n",
       "      <th>0</th>\n",
       "      <th>1</th>\n",
       "      <th>2</th>\n",
       "      <th>3</th>\n",
       "      <th>4</th>\n",
       "    </tr>\n",
       "  </thead>\n",
       "  <tbody>\n",
       "    <tr>\n",
       "      <th>0</th>\n",
       "      <td>0.000000</td>\n",
       "      <td>-0.117117</td>\n",
       "      <td>0.104839</td>\n",
       "      <td>-0.252525</td>\n",
       "      <td>0.146552</td>\n",
       "    </tr>\n",
       "    <tr>\n",
       "      <th>1</th>\n",
       "      <td>-0.117117</td>\n",
       "      <td>0.104839</td>\n",
       "      <td>-0.252525</td>\n",
       "      <td>0.146552</td>\n",
       "      <td>-0.114715</td>\n",
       "    </tr>\n",
       "    <tr>\n",
       "      <th>2</th>\n",
       "      <td>0.104839</td>\n",
       "      <td>-0.252525</td>\n",
       "      <td>0.146552</td>\n",
       "      <td>-0.114715</td>\n",
       "      <td>0.079093</td>\n",
       "    </tr>\n",
       "    <tr>\n",
       "      <th>3</th>\n",
       "      <td>-0.252525</td>\n",
       "      <td>0.146552</td>\n",
       "      <td>-0.114715</td>\n",
       "      <td>0.079093</td>\n",
       "      <td>-0.189474</td>\n",
       "    </tr>\n",
       "    <tr>\n",
       "      <th>4</th>\n",
       "      <td>0.146552</td>\n",
       "      <td>-0.114715</td>\n",
       "      <td>0.079093</td>\n",
       "      <td>-0.189474</td>\n",
       "      <td>0.194915</td>\n",
       "    </tr>\n",
       "  </tbody>\n",
       "</table>\n",
       "</div>"
      ],
      "text/plain": [
       "          0         1         2         3         4\n",
       "0  0.000000 -0.117117  0.104839 -0.252525  0.146552\n",
       "1 -0.117117  0.104839 -0.252525  0.146552 -0.114715\n",
       "2  0.104839 -0.252525  0.146552 -0.114715  0.079093\n",
       "3 -0.252525  0.146552 -0.114715  0.079093 -0.189474\n",
       "4  0.146552 -0.114715  0.079093 -0.189474  0.194915"
      ]
     },
<<<<<<< HEAD
     "execution_count": 15,
=======
     "execution_count": 221,
>>>>>>> 28b30f60d6a7c97fdcdd077a6dce76103cfe7234
     "metadata": {},
     "output_type": "execute_result"
    }
   ],
   "source": [
    "dframe=pd.DataFrame(Result)\n",
    "#for i in range(np.size(Result)):\n",
    "#    dframe[i] = dframe[i][1:-1]\n",
    "\n",
    "dframe.columns.data\n",
    "\n",
    "dframe.head()"
   ]
  },
  {
   "cell_type": "code",
   "execution_count": null,
   "metadata": {
    "collapsed": true
   },
   "outputs": [],
   "source": []
  },
  {
   "cell_type": "code",
<<<<<<< HEAD
   "execution_count": 16,
=======
   "execution_count": 222,
>>>>>>> 28b30f60d6a7c97fdcdd077a6dce76103cfe7234
   "metadata": {
    "collapsed": false
   },
   "outputs": [
    {
     "data": {
      "text/plain": [
       "1496"
      ]
     },
<<<<<<< HEAD
     "execution_count": 16,
=======
     "execution_count": 222,
>>>>>>> 28b30f60d6a7c97fdcdd077a6dce76103cfe7234
     "metadata": {},
     "output_type": "execute_result"
    }
   ],
   "source": [
    "min(dframe.count())-1"
   ]
  },
  {
   "cell_type": "code",
<<<<<<< HEAD
   "execution_count": 17,
=======
   "execution_count": 223,
>>>>>>> 28b30f60d6a7c97fdcdd077a6dce76103cfe7234
   "metadata": {
    "collapsed": false
   },
   "outputs": [
    {
     "data": {
      "text/plain": [
       "0    1496\n",
       "1    1496\n",
       "2    1496\n",
       "3    1496\n",
       "4    1496\n",
       "dtype: int64"
      ]
     },
<<<<<<< HEAD
     "execution_count": 17,
=======
     "execution_count": 223,
>>>>>>> 28b30f60d6a7c97fdcdd077a6dce76103cfe7234
     "metadata": {},
     "output_type": "execute_result"
    }
   ],
   "source": [
    "# debug\n",
    "dframe = dframe.head(min(dframe.count())-1);\n",
    "dframe.count()"
   ]
  },
  {
   "cell_type": "code",
<<<<<<< HEAD
   "execution_count": 18,
=======
   "execution_count": 224,
>>>>>>> 28b30f60d6a7c97fdcdd077a6dce76103cfe7234
   "metadata": {
    "collapsed": false
   },
   "outputs": [
    {
     "data": {
      "text/plain": [
       "0    1496\n",
       "dtype: int64"
      ]
     },
<<<<<<< HEAD
     "execution_count": 18,
=======
     "execution_count": 224,
>>>>>>> 28b30f60d6a7c97fdcdd077a6dce76103cfe7234
     "metadata": {},
     "output_type": "execute_result"
    }
   ],
   "source": [
    "dframeY=pd.DataFrame(arrY)\n",
    "dframeY.count()"
   ]
  },
  {
   "cell_type": "code",
<<<<<<< HEAD
   "execution_count": 19,
=======
   "execution_count": 225,
>>>>>>> 28b30f60d6a7c97fdcdd077a6dce76103cfe7234
   "metadata": {
    "collapsed": true
   },
   "outputs": [],
   "source": [
    "#dframeY=dframeY.T"
   ]
  },
  {
   "cell_type": "code",
   "execution_count": null,
   "metadata": {
    "collapsed": false
   },
   "outputs": [],
   "source": []
  },
  {
   "cell_type": "code",
<<<<<<< HEAD
   "execution_count": 20,
=======
   "execution_count": 226,
>>>>>>> 28b30f60d6a7c97fdcdd077a6dce76103cfe7234
   "metadata": {
    "collapsed": true
   },
   "outputs": [],
   "source": [
    "## Store matrix X and matrix Y\n",
    "dframe.to_csv('Martrix_X_streamingserver.csv',sep=';',index=False,header=None)\n",
    "dframeY.to_csv('Martrix_Y_streamingserver.csv',sep=';',index=False,header=None)"
   ]
  },
  {
   "cell_type": "code",
<<<<<<< HEAD
   "execution_count": 21,
=======
   "execution_count": 227,
>>>>>>> 28b30f60d6a7c97fdcdd077a6dce76103cfe7234
   "metadata": {
    "collapsed": false
   },
   "outputs": [
    {
     "data": {
      "text/html": [
       "<div>\n",
       "<table border=\"1\" class=\"dataframe\">\n",
       "  <thead>\n",
       "    <tr style=\"text-align: right;\">\n",
       "      <th></th>\n",
       "      <th>0</th>\n",
       "      <th>1</th>\n",
       "      <th>2</th>\n",
       "      <th>3</th>\n",
       "      <th>4</th>\n",
       "    </tr>\n",
       "  </thead>\n",
       "  <tbody>\n",
       "    <tr>\n",
       "      <th>0</th>\n",
       "      <td>0.000000</td>\n",
       "      <td>-0.117117</td>\n",
       "      <td>0.104839</td>\n",
       "      <td>-0.252525</td>\n",
       "      <td>0.146552</td>\n",
       "    </tr>\n",
       "    <tr>\n",
       "      <th>1</th>\n",
       "      <td>-0.117117</td>\n",
       "      <td>0.104839</td>\n",
       "      <td>-0.252525</td>\n",
       "      <td>0.146552</td>\n",
       "      <td>-0.114715</td>\n",
       "    </tr>\n",
       "    <tr>\n",
       "      <th>2</th>\n",
       "      <td>0.104839</td>\n",
       "      <td>-0.252525</td>\n",
       "      <td>0.146552</td>\n",
       "      <td>-0.114715</td>\n",
       "      <td>0.079093</td>\n",
       "    </tr>\n",
       "    <tr>\n",
       "      <th>3</th>\n",
       "      <td>-0.252525</td>\n",
       "      <td>0.146552</td>\n",
       "      <td>-0.114715</td>\n",
       "      <td>0.079093</td>\n",
       "      <td>-0.189474</td>\n",
       "    </tr>\n",
       "    <tr>\n",
       "      <th>4</th>\n",
       "      <td>0.146552</td>\n",
       "      <td>-0.114715</td>\n",
       "      <td>0.079093</td>\n",
       "      <td>-0.189474</td>\n",
       "      <td>0.194915</td>\n",
       "    </tr>\n",
       "  </tbody>\n",
       "</table>\n",
       "</div>"
      ],
      "text/plain": [
       "          0         1         2         3         4\n",
       "0  0.000000 -0.117117  0.104839 -0.252525  0.146552\n",
       "1 -0.117117  0.104839 -0.252525  0.146552 -0.114715\n",
       "2  0.104839 -0.252525  0.146552 -0.114715  0.079093\n",
       "3 -0.252525  0.146552 -0.114715  0.079093 -0.189474\n",
       "4  0.146552 -0.114715  0.079093 -0.189474  0.194915"
      ]
     },
<<<<<<< HEAD
     "execution_count": 21,
=======
     "execution_count": 227,
>>>>>>> 28b30f60d6a7c97fdcdd077a6dce76103cfe7234
     "metadata": {},
     "output_type": "execute_result"
    }
   ],
   "source": [
    "dframe.head()"
   ]
  },
  {
   "cell_type": "code",
<<<<<<< HEAD
   "execution_count": 22,
=======
   "execution_count": 228,
>>>>>>> 28b30f60d6a7c97fdcdd077a6dce76103cfe7234
   "metadata": {
    "collapsed": false
   },
   "outputs": [
    {
     "data": {
      "text/html": [
       "<div>\n",
       "<table border=\"1\" class=\"dataframe\">\n",
       "  <thead>\n",
       "    <tr style=\"text-align: right;\">\n",
       "      <th></th>\n",
       "      <th>0</th>\n",
       "    </tr>\n",
       "  </thead>\n",
       "  <tbody>\n",
       "    <tr>\n",
       "      <th>0</th>\n",
       "      <td>-0.114715</td>\n",
       "    </tr>\n",
       "    <tr>\n",
       "      <th>1</th>\n",
       "      <td>0.079093</td>\n",
       "    </tr>\n",
       "    <tr>\n",
       "      <th>2</th>\n",
       "      <td>-0.189474</td>\n",
       "    </tr>\n",
       "    <tr>\n",
       "      <th>3</th>\n",
       "      <td>0.194915</td>\n",
       "    </tr>\n",
       "    <tr>\n",
       "      <th>4</th>\n",
       "      <td>-0.255319</td>\n",
       "    </tr>\n",
       "  </tbody>\n",
       "</table>\n",
       "</div>"
      ],
      "text/plain": [
       "          0\n",
       "0 -0.114715\n",
       "1  0.079093\n",
       "2 -0.189474\n",
       "3  0.194915\n",
       "4 -0.255319"
      ]
     },
<<<<<<< HEAD
     "execution_count": 22,
=======
     "execution_count": 228,
>>>>>>> 28b30f60d6a7c97fdcdd077a6dce76103cfe7234
     "metadata": {},
     "output_type": "execute_result"
    }
   ],
   "source": [
    "dframeY.head()"
   ]
  },
  {
   "cell_type": "code",
   "execution_count": null,
   "metadata": {
    "collapsed": true
   },
   "outputs": [],
   "source": []
  },
  {
   "cell_type": "code",
   "execution_count": null,
   "metadata": {
    "collapsed": true
   },
   "outputs": [],
   "source": []
  },
  {
   "cell_type": "code",
   "execution_count": null,
   "metadata": {
    "collapsed": true
   },
   "outputs": [],
   "source": []
  }
 ],
 "metadata": {
  "kernelspec": {
   "display_name": "Python 2",
   "language": "python",
   "name": "python2"
  },
  "language_info": {
   "codemirror_mode": {
    "name": "ipython",
    "version": 2
   },
   "file_extension": ".py",
   "mimetype": "text/x-python",
   "name": "python",
   "nbconvert_exporter": "python",
   "pygments_lexer": "ipython2",
   "version": "2.7.11"
  }
 },
 "nbformat": 4,
 "nbformat_minor": 0
}
