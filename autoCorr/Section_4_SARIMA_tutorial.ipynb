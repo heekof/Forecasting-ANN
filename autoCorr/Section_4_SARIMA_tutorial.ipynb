{
 "cells": [
  {
   "cell_type": "markdown",
   "metadata": {},
   "source": [
    "<img src=\"img/svds_logo.png\" alt=\"SVDS\" width=\"500\" align=\"left\">"
   ]
  },
  {
   "cell_type": "markdown",
   "metadata": {},
   "source": [
    "# PyData San Francisco 2016\n",
    "## Applied Time Series Econometrics in Python (and R) Tutorial\n",
    "### Section 4: Seasonal ARIMA Models"
   ]
  },
  {
   "cell_type": "markdown",
   "metadata": {},
   "source": [
    "### Topics in this section include \n",
    "\n",
    "  - 4.1 Mathematical formulation of Seasonal ARIMA (SARIMA) models\n",
    "  - 4.2 Building a seasonal ARIMA model for forecasting\n",
    "  - Exercise 4"
   ]
  },
  {
   "cell_type": "code",
   "execution_count": 14,
   "metadata": {
    "collapsed": false
   },
   "outputs": [
    {
     "name": "stdout",
     "output_type": "stream",
     "text": [
      "The autoreload extension is already loaded. To reload it, use:\n",
      "  %reload_ext autoreload\n"
     ]
    },
    {
     "ename": "ImportError",
     "evalue": "No module named pandas_datareader.data",
     "output_type": "error",
     "traceback": [
      "\u001b[1;31m---------------------------------------------------------------------------\u001b[0m",
      "\u001b[1;31mImportError\u001b[0m                               Traceback (most recent call last)",
      "\u001b[1;32m<ipython-input-14-aee8fd3f22e3>\u001b[0m in \u001b[0;36m<module>\u001b[1;34m()\u001b[0m\n\u001b[0;32m     15\u001b[0m \u001b[1;33m\u001b[0m\u001b[0m\n\u001b[0;32m     16\u001b[0m \u001b[1;31m# Remote Data Access\u001b[0m\u001b[1;33m\u001b[0m\u001b[1;33m\u001b[0m\u001b[0m\n\u001b[1;32m---> 17\u001b[1;33m \u001b[1;32mimport\u001b[0m \u001b[0mpandas_datareader\u001b[0m\u001b[1;33m.\u001b[0m\u001b[0mdata\u001b[0m \u001b[1;32mas\u001b[0m \u001b[0mweb\u001b[0m\u001b[1;33m\u001b[0m\u001b[0m\n\u001b[0m\u001b[0;32m     18\u001b[0m \u001b[1;32mimport\u001b[0m \u001b[0mdatetime\u001b[0m\u001b[1;33m\u001b[0m\u001b[0m\n\u001b[0;32m     19\u001b[0m \u001b[1;31m# reference: https://pandas-datareader.readthedocs.io/en/latest/remote_data.html\u001b[0m\u001b[1;33m\u001b[0m\u001b[1;33m\u001b[0m\u001b[0m\n",
      "\u001b[1;31mImportError\u001b[0m: No module named pandas_datareader.data"
     ]
    }
   ],
   "source": [
    "# Set up\n",
    "\n",
    "%load_ext autoreload\n",
    "%autoreload 2\n",
    "%matplotlib inline\n",
    "%config InlineBackend.figure_format='retina'\n",
    "\n",
    "from __future__ import absolute_import, division, print_function\n",
    "\n",
    "import sys\n",
    "import os\n",
    "\n",
    "import pandas as pd\n",
    "import numpy as np\n",
    "\n",
    "# Remote Data Access\n",
    "import pandas_datareader.data as web\n",
    "import datetime\n",
    "# reference: https://pandas-datareader.readthedocs.io/en/latest/remote_data.html\n",
    "\n",
    "# TSA from Statsmodels\n",
    "import statsmodels.api as sm\n",
    "import statsmodels.formula.api as smf\n",
    "import statsmodels.tsa.api as smt\n",
    "\n",
    "from statsmodels.graphics.api import qqplot\n",
    "\n",
    "# Display and Plotting\n",
    "import matplotlib.pylab as plt\n",
    "import seaborn as sns\n",
    "\n",
    "pd.set_option('display.float_format', lambda x: '%.5f' % x) # pandas\n",
    "np.set_printoptions(precision=5, suppress=True) # numpy\n",
    "\n",
    "pd.set_option('display.max_columns', 100)\n",
    "pd.set_option('display.max_rows', 100)\n",
    "\n",
    "# seaborn plotting style\n",
    "sns.set(style='ticks', context='poster')"
   ]
  },
  {
   "cell_type": "markdown",
   "metadata": {},
   "source": [
    "### Motivation of Using Seasonal ARIMA Model"
   ]
  },
  {
   "cell_type": "code",
   "execution_count": null,
   "metadata": {
    "collapsed": false
   },
   "outputs": [],
   "source": [
    "# Import a time series\n",
    "# This is a series that we introduced in Section 1 of this tutorial\n",
    "\n",
    "air = pd.read_csv('data/international-airline-passengers.csv', header=0, index_col=0, parse_dates=[0])"
   ]
  },
  {
   "cell_type": "code",
   "execution_count": null,
   "metadata": {
    "collapsed": false
   },
   "outputs": [],
   "source": [
    "# Examine the basic structure of the data\n",
    "print(\"Data shape:\", air.shape, \"\\n\")\n",
    "print(\"First 5 observations of the data series:\", \"\\n\", air.head())\n",
    "print(\"Last 5 observations of the data series:\", \"\\n\", air.tail())"
   ]
  },
  {
   "cell_type": "code",
   "execution_count": null,
   "metadata": {
    "collapsed": true
   },
   "outputs": [],
   "source": [
    "# Examine the patterns of ACF and PACF (along with the time series plot and histogram)\n",
    "\n",
    "def tsplot(y, lags=None, title='', figsize=(14, 8)):\n",
    "    '''Examine the patterns of ACF and PACF, along with the time series plot and histogram.\n",
    "    \n",
    "    Original source: https://tomaugspurger.github.io/modern-7-timeseries.html\n",
    "    '''\n",
    "    fig = plt.figure(figsize=figsize)\n",
    "    layout = (2, 2)\n",
    "    ts_ax   = plt.subplot2grid(layout, (0, 0))\n",
    "    hist_ax = plt.subplot2grid(layout, (0, 1))\n",
    "    acf_ax  = plt.subplot2grid(layout, (1, 0))\n",
    "    pacf_ax = plt.subplot2grid(layout, (1, 1))\n",
    "    \n",
    "    y.plot(ax=ts_ax)\n",
    "    ts_ax.set_title(title)\n",
    "    y.plot(ax=hist_ax, kind='hist', bins=25)\n",
    "    hist_ax.set_title('Histogram')\n",
    "    smt.graphics.plot_acf(y, lags=lags, ax=acf_ax)\n",
    "    smt.graphics.plot_pacf(y, lags=lags, ax=pacf_ax)\n",
    "    [ax.set_xlim(0) for ax in [acf_ax, pacf_ax]]\n",
    "    sns.despine()\n",
    "    fig.tight_layout()\n",
    "    return ts_ax, acf_ax, pacf_ax"
   ]
  },
  {
   "cell_type": "code",
   "execution_count": null,
   "metadata": {
    "collapsed": false
   },
   "outputs": [],
   "source": [
    "tsplot(air, title='International airline passengers, 1949-1960', lags=20);"
   ]
  },
  {
   "cell_type": "markdown",
   "metadata": {
    "collapsed": false
   },
   "source": [
    "### Observations of these graphs:\n",
    "\n",
    "* The airline passengers displays an increasing trend (over time)\n",
    "* There appears to be *seasonality*\n",
    "* The autocorrelations do not just gradually decline"
   ]
  },
  {
   "cell_type": "code",
   "execution_count": 2,
   "metadata": {
    "collapsed": false
   },
   "outputs": [
    {
     "ename": "NameError",
     "evalue": "name 'air' is not defined",
     "output_type": "error",
     "traceback": [
      "\u001b[1;31m---------------------------------------------------------------------------\u001b[0m",
      "\u001b[1;31mNameError\u001b[0m                                 Traceback (most recent call last)",
      "\u001b[1;32m<ipython-input-2-c02fe55b90ad>\u001b[0m in \u001b[0;36m<module>\u001b[1;34m()\u001b[0m\n\u001b[0;32m      1\u001b[0m \u001b[1;31m# Take log of the series\u001b[0m\u001b[1;33m\u001b[0m\u001b[1;33m\u001b[0m\u001b[0m\n\u001b[1;32m----> 2\u001b[1;33m \u001b[0mair\u001b[0m\u001b[1;33m[\u001b[0m\u001b[1;34m'lnair'\u001b[0m\u001b[1;33m]\u001b[0m \u001b[1;33m=\u001b[0m \u001b[0mnp\u001b[0m\u001b[1;33m.\u001b[0m\u001b[0mlog\u001b[0m\u001b[1;33m(\u001b[0m\u001b[0mair\u001b[0m\u001b[1;33m)\u001b[0m\u001b[1;33m\u001b[0m\u001b[0m\n\u001b[0m\u001b[0;32m      3\u001b[0m \u001b[1;32mprint\u001b[0m\u001b[1;33m(\u001b[0m\u001b[0mair\u001b[0m\u001b[1;33m[\u001b[0m\u001b[1;34m'lnair'\u001b[0m\u001b[1;33m]\u001b[0m\u001b[1;33m.\u001b[0m\u001b[0mhead\u001b[0m\u001b[1;33m(\u001b[0m\u001b[1;33m)\u001b[0m\u001b[1;33m,\u001b[0m\u001b[1;34m\"\\n\"\u001b[0m\u001b[1;33m)\u001b[0m\u001b[1;33m\u001b[0m\u001b[0m\n\u001b[0;32m      4\u001b[0m \u001b[1;32mprint\u001b[0m\u001b[1;33m(\u001b[0m\u001b[0mair\u001b[0m\u001b[1;33m[\u001b[0m\u001b[1;34m'lnair'\u001b[0m\u001b[1;33m]\u001b[0m\u001b[1;33m.\u001b[0m\u001b[0mshape\u001b[0m\u001b[1;33m,\u001b[0m\u001b[1;34m\"\\n\"\u001b[0m\u001b[1;33m)\u001b[0m\u001b[1;33m\u001b[0m\u001b[0m\n\u001b[0;32m      5\u001b[0m \u001b[1;33m\u001b[0m\u001b[0m\n",
      "\u001b[1;31mNameError\u001b[0m: name 'air' is not defined"
     ]
    }
   ],
   "source": [
    "# Take log of the series\n",
    "air['lnair'] = np.log(air)\n",
    "print(air['lnair'].head(),\"\\n\")\n",
    "print(air['lnair'].shape,\"\\n\")\n",
    "\n",
    "# Take first difference of the series\n",
    "#air_ln_diff = air['lnair'].diff() - air['lnair'].shift()\n",
    "air_ln_diff = air['lnair'].diff()\n",
    "air_ln_diff = air_ln_diff.dropna()\n",
    "print(air_ln_diff.head(),\"\\n\")\n",
    "print(air_ln_diff.shape,\"\\n\")"
   ]
  },
  {
   "cell_type": "code",
   "execution_count": null,
   "metadata": {
    "collapsed": false
   },
   "outputs": [],
   "source": [
    "tsplot(air['lnair'], title='Natural Log of nternational airline passengers, 1949-1960', lags=20);"
   ]
  },
  {
   "cell_type": "code",
   "execution_count": 3,
   "metadata": {
    "collapsed": false
   },
   "outputs": [
    {
     "ename": "NameError",
     "evalue": "name 'tsplot' is not defined",
     "output_type": "error",
     "traceback": [
      "\u001b[1;31m---------------------------------------------------------------------------\u001b[0m",
      "\u001b[1;31mNameError\u001b[0m                                 Traceback (most recent call last)",
      "\u001b[1;32m<ipython-input-3-61f61957e38e>\u001b[0m in \u001b[0;36m<module>\u001b[1;34m()\u001b[0m\n\u001b[1;32m----> 1\u001b[1;33m \u001b[0mtsplot\u001b[0m\u001b[1;33m(\u001b[0m\u001b[0mair_ln_diff\u001b[0m\u001b[1;33m[\u001b[0m\u001b[1;36m1\u001b[0m\u001b[1;33m:\u001b[0m\u001b[1;33m]\u001b[0m\u001b[1;33m,\u001b[0m \u001b[0mtitle\u001b[0m\u001b[1;33m=\u001b[0m\u001b[1;34m'Differences of Log of International airline passengers, 1949-1960'\u001b[0m\u001b[1;33m,\u001b[0m \u001b[0mlags\u001b[0m\u001b[1;33m=\u001b[0m\u001b[1;36m40\u001b[0m\u001b[1;33m)\u001b[0m\u001b[1;33m;\u001b[0m\u001b[1;33m\u001b[0m\u001b[0m\n\u001b[0m",
      "\u001b[1;31mNameError\u001b[0m: name 'tsplot' is not defined"
     ]
    }
   ],
   "source": [
    "tsplot(air_ln_diff[1:], title='Differences of Log of International airline passengers, 1949-1960', lags=40);"
   ]
  },
  {
   "cell_type": "code",
   "execution_count": 4,
   "metadata": {
    "collapsed": false
   },
   "outputs": [
    {
     "ename": "NameError",
     "evalue": "name 'air' is not defined",
     "output_type": "error",
     "traceback": [
      "\u001b[1;31m---------------------------------------------------------------------------\u001b[0m",
      "\u001b[1;31mNameError\u001b[0m                                 Traceback (most recent call last)",
      "\u001b[1;32m<ipython-input-4-ad38a913317d>\u001b[0m in \u001b[0;36m<module>\u001b[1;34m()\u001b[0m\n\u001b[0;32m      1\u001b[0m \u001b[1;31m# An alternative way to detect seasonality\u001b[0m\u001b[1;33m\u001b[0m\u001b[1;33m\u001b[0m\u001b[0m\n\u001b[0;32m      2\u001b[0m \u001b[1;33m\u001b[0m\u001b[0m\n\u001b[1;32m----> 3\u001b[1;33m \u001b[0mair\u001b[0m\u001b[1;33m[\u001b[0m\u001b[1;34m'Month'\u001b[0m\u001b[1;33m]\u001b[0m \u001b[1;33m=\u001b[0m \u001b[0mair\u001b[0m\u001b[1;33m.\u001b[0m\u001b[0mindex\u001b[0m\u001b[1;33m.\u001b[0m\u001b[0mstrftime\u001b[0m\u001b[1;33m(\u001b[0m\u001b[1;34m'%b'\u001b[0m\u001b[1;33m)\u001b[0m\u001b[1;33m\u001b[0m\u001b[0m\n\u001b[0m\u001b[0;32m      4\u001b[0m \u001b[0mair\u001b[0m\u001b[1;33m[\u001b[0m\u001b[1;34m'Year'\u001b[0m\u001b[1;33m]\u001b[0m \u001b[1;33m=\u001b[0m \u001b[0mair\u001b[0m\u001b[1;33m.\u001b[0m\u001b[0mindex\u001b[0m\u001b[1;33m.\u001b[0m\u001b[0myear\u001b[0m\u001b[1;33m\u001b[0m\u001b[0m\n\u001b[0;32m      5\u001b[0m \u001b[1;33m\u001b[0m\u001b[0m\n",
      "\u001b[1;31mNameError\u001b[0m: name 'air' is not defined"
     ]
    }
   ],
   "source": [
    "# An alternative way to detect seasonality\n",
    "\n",
    "air['Month'] = air.index.strftime('%b')\n",
    "air['Year'] = air.index.year\n",
    "\n",
    "air_piv = air.pivot(index='Year', columns='Month', values='n_pass_thousands')\n",
    "\n",
    "air = air.drop(['Month', 'Year'], axis=1)\n",
    "\n",
    "# put the months in order\n",
    "month_names = pd.date_range(start='2016-01-01', periods=12, freq='MS').strftime('%b')\n",
    "air_piv = air_piv.reindex(columns=month_names)\n",
    "\n",
    "# plot it\n",
    "fig, ax = plt.subplots(figsize=(8, 6))\n",
    "air_piv.plot(ax=ax, kind='box');\n",
    "\n",
    "ax.set_xlabel('Month');\n",
    "ax.set_ylabel('Thousands of passengers');\n",
    "ax.set_title('Boxplot of seasonal values');\n",
    "ax.xaxis.set_ticks_position('bottom')\n",
    "fig.tight_layout();"
   ]
  },
  {
   "cell_type": "markdown",
   "metadata": {},
   "source": [
    "### 4.1 Formulation of the Seasonal ARIMA Model\n",
    "\n",
    "The *pure* seasonal autoregressive and moving average model, $ARMA(P,Q)$, take the from\n",
    "\n",
    "$$\\Phi_P(B^s)z_t=\\Theta_Q(B^s)\\epsilon_t$$ \n",
    "\n",
    "where \n",
    "\n",
    "$$\\Phi_P(B^2)=1 - \\Phi_1 B^s - \\Phi_2 B^{2s} - \\cdots - \\Phi_P B^{Ps}$$\n",
    "\n",
    "and \n",
    "\n",
    "$$\\Theta_Q(B^2)=1 - \\Theta_1 B^s - \\Theta_2 B^{2s} - \\cdots - \\Theta_Q B^{Qs}$$\n",
    "\n",
    "are the **seasonal autoregressive operator** and the **seasonal moving average operator** of orders $P$ and $Q$ with **seasonal period s**.\n",
    "\n",
    "**Example:**\n",
    "\n",
    "A first-order seasonal autoregressive moving average series over months (or $SARIMA(1,0,1,12)$) can be expressed as\n",
    "\n",
    "$$ z_t = \\Phi z_{t-12} + \\epsilon_t + \\Theta \\epsilon_{t-12} $$\n",
    "\n",
    "or\n",
    "\n",
    "$$ (1 - \\Phi B^{12})z_t = (1 + \\Theta B^{12})\\epsilon_t $$\n",
    "\n",
    "In other words, this model capture the relationship between $z_t$ and its lags at the multiple of the yearly seasonal period $s=12$ months.  \n",
    "\n",
    "The stationarity condition requires that $|\\Phi|<1$ and the invertible condition requires that $|\\Theta|<1$.\n",
    "\n",
    "Similar to that for the ARIMA models, the table below summarize the behavior of the theoretical ACF and PACF of the pure seasonal ARMA models:\n",
    "\n",
    "|  Process      |          ACF         |          PACF        |\n",
    "|---------------|:--------------------:|:--------------------:|\n",
    "| **AR(P)**     |    tails off         | cutoff after lag $P$ |\n",
    "| **MA(Q)**     | cutoff after lag $Q$ |    tails off         |\n",
    "| **ARMA(P,Q)** |    tails off         |    tails off         |\n",
    "\n",
    "* **Note that we use (p,d,q) to denote the orders for the non-seasonal components of the ARIMA models and (P,D,Q,s) to denote the orders for the seasonal components of the ARIMA model.**\n",
    "\n",
    "The general formulation of the **Multiplicative Seasonal Autoregressive Integrated Moving Average (SARIMA)** model takes the following form:\n",
    "\n",
    "$$ \\phi_p(B) \\Phi_P(B^s) \\bigtriangledown^d \\bigtriangledown^D_s z_t = \\theta_q(B) \\Theta_Q(B^s) \\epsilon_t $$ \n",
    "\n",
    "where \n",
    "\n",
    "$\\epsilon_t$ is a white noise process\n",
    "\n",
    "$\\phi_p(B)$ and $\\theta_q(B)$ are non-seasonal autoregressive and moving average lag polynomials\n",
    "\n",
    "$\\Phi_P(B^s)$ and $\\Theta_Q(B^s)$ are seasonal autoregressive and moving average lag polynomials\n",
    "\n",
    "$\\bigtriangledown^d \\equiv (1-B)^d$ and $\\bigtriangledown^D_s \\equiv (1-B^s)^D$ are the difference (or integrated) components\n",
    "\n",
    "Therefore, the general model is denoted as $\\mathbf{ARIMA(p,d,q)\\times(P,D,Q)_s}$\n",
    "\n"
   ]
  },
  {
   "cell_type": "markdown",
   "metadata": {},
   "source": [
    "**Example:**\n",
    "\n",
    "Unpacking the notation, the $\\mathbf{ARIMA(0,1,1)\\times(P,1,1)_12}$ model becomes\n",
    "\n",
    "$$(1-B)(1-B^{12})z_t = (1+\\theta B)(1+\\Theta B^{12}) \\epsilon_t$$\n",
    "\n",
    "When multiplying the lag polynomials on both side, we get\n",
    "\n",
    "$$ (1 - B - B^{12} + B^{13}) z_t = (1 + \\theta B + \\Theta B^{12} + \\theta \\Theta B^{13}) \\epsilon_t $$\n",
    "\n",
    "Simplify gives\n",
    "\n",
    "$$ z_t = z_{t-1} + (z_{t-12} - z_{t-13}) + \\epsilon_t + \\theta \\epsilon_{t-1} + \\Theta \\epsilon_{t-12} + \\theta \\Theta \\epsilon_{t-13}$$\n"
   ]
  },
  {
   "cell_type": "markdown",
   "metadata": {},
   "source": [
    "### 4.2 Building a Seasonal ARIMA Model for Forecasting"
   ]
  },
  {
   "cell_type": "code",
   "execution_count": 5,
   "metadata": {
    "collapsed": false
   },
   "outputs": [
    {
     "ename": "NameError",
     "evalue": "name 'sm' is not defined",
     "output_type": "error",
     "traceback": [
      "\u001b[1;31m---------------------------------------------------------------------------\u001b[0m",
      "\u001b[1;31mNameError\u001b[0m                                 Traceback (most recent call last)",
      "\u001b[1;32m<ipython-input-5-405a20415631>\u001b[0m in \u001b[0;36m<module>\u001b[1;34m()\u001b[0m\n\u001b[0;32m      1\u001b[0m \u001b[1;31m# Air Passengers Series\u001b[0m\u001b[1;33m\u001b[0m\u001b[1;33m\u001b[0m\u001b[0m\n\u001b[1;32m----> 2\u001b[1;33m \u001b[0mmod\u001b[0m \u001b[1;33m=\u001b[0m \u001b[0msm\u001b[0m\u001b[1;33m.\u001b[0m\u001b[0mtsa\u001b[0m\u001b[1;33m.\u001b[0m\u001b[0mstatespace\u001b[0m\u001b[1;33m.\u001b[0m\u001b[0mSARIMAX\u001b[0m\u001b[1;33m(\u001b[0m\u001b[0mair\u001b[0m\u001b[1;33m[\u001b[0m\u001b[1;34m'lnair'\u001b[0m\u001b[1;33m]\u001b[0m\u001b[1;33m,\u001b[0m \u001b[0morder\u001b[0m\u001b[1;33m=\u001b[0m\u001b[1;33m(\u001b[0m\u001b[1;36m2\u001b[0m\u001b[1;33m,\u001b[0m\u001b[1;36m1\u001b[0m\u001b[1;33m,\u001b[0m\u001b[1;36m0\u001b[0m\u001b[1;33m)\u001b[0m\u001b[1;33m,\u001b[0m \u001b[0mseasonal_order\u001b[0m\u001b[1;33m=\u001b[0m\u001b[1;33m(\u001b[0m\u001b[1;36m1\u001b[0m\u001b[1;33m,\u001b[0m\u001b[1;36m1\u001b[0m\u001b[1;33m,\u001b[0m\u001b[1;36m0\u001b[0m\u001b[1;33m,\u001b[0m\u001b[1;36m12\u001b[0m\u001b[1;33m)\u001b[0m\u001b[1;33m,\u001b[0m \u001b[0msimple_differencing\u001b[0m\u001b[1;33m=\u001b[0m\u001b[0mTrue\u001b[0m\u001b[1;33m)\u001b[0m\u001b[1;33m\u001b[0m\u001b[0m\n\u001b[0m\u001b[0;32m      3\u001b[0m \u001b[0msarima_fit1\u001b[0m \u001b[1;33m=\u001b[0m \u001b[0mmod\u001b[0m\u001b[1;33m.\u001b[0m\u001b[0mfit\u001b[0m\u001b[1;33m(\u001b[0m\u001b[1;33m)\u001b[0m\u001b[1;33m\u001b[0m\u001b[0m\n\u001b[0;32m      4\u001b[0m \u001b[1;32mprint\u001b[0m\u001b[1;33m(\u001b[0m\u001b[0msarima_fit1\u001b[0m\u001b[1;33m.\u001b[0m\u001b[0msummary\u001b[0m\u001b[1;33m(\u001b[0m\u001b[1;33m)\u001b[0m\u001b[1;33m)\u001b[0m\u001b[1;33m\u001b[0m\u001b[0m\n",
      "\u001b[1;31mNameError\u001b[0m: name 'sm' is not defined"
     ]
    }
   ],
   "source": [
    "# Air Passengers Series\n",
    "mod = sm.tsa.statespace.SARIMAX(air['lnair'], order=(2,1,0), seasonal_order=(1,1,0,12), simple_differencing=True)\n",
    "sarima_fit1 = mod.fit()\n",
    "print(sarima_fit1.summary())"
   ]
  },
  {
   "cell_type": "markdown",
   "metadata": {},
   "source": [
    "* Notice an additional argument *simple_differencing=True*. \n",
    "\n",
    "* This controls how the order of integration is handled in ARIMA models. \n",
    "\n",
    "* If *simple_differencing=True*, then the time series provided as endog is literally differenced and an ARMA model is fit to the resulting new time series. This implies that a number of initial periods are lost to the differencing process, however it may be necessary either to compare results to other packages (e.g. Stata's arima always uses simple differencing) or if the seasonal periodicity is large"
   ]
  },
  {
   "cell_type": "code",
   "execution_count": 6,
   "metadata": {
    "collapsed": false
   },
   "outputs": [
    {
     "ename": "NameError",
     "evalue": "name 'sarima_fit1' is not defined",
     "output_type": "error",
     "traceback": [
      "\u001b[1;31m---------------------------------------------------------------------------\u001b[0m",
      "\u001b[1;31mNameError\u001b[0m                                 Traceback (most recent call last)",
      "\u001b[1;32m<ipython-input-6-0927b4ed9661>\u001b[0m in \u001b[0;36m<module>\u001b[1;34m()\u001b[0m\n\u001b[0;32m      1\u001b[0m \u001b[1;31m# Model Diagnostic\u001b[0m\u001b[1;33m\u001b[0m\u001b[1;33m\u001b[0m\u001b[0m\n\u001b[0;32m      2\u001b[0m \u001b[1;33m\u001b[0m\u001b[0m\n\u001b[1;32m----> 3\u001b[1;33m \u001b[0msarima_fit1\u001b[0m\u001b[1;33m.\u001b[0m\u001b[0mplot_diagnostics\u001b[0m\u001b[1;33m(\u001b[0m\u001b[0mfigsize\u001b[0m\u001b[1;33m=\u001b[0m\u001b[1;33m(\u001b[0m\u001b[1;36m16\u001b[0m\u001b[1;33m,\u001b[0m \u001b[1;36m12\u001b[0m\u001b[1;33m)\u001b[0m\u001b[1;33m)\u001b[0m\u001b[1;33m;\u001b[0m\u001b[1;33m\u001b[0m\u001b[0m\n\u001b[0m",
      "\u001b[1;31mNameError\u001b[0m: name 'sarima_fit1' is not defined"
     ]
    }
   ],
   "source": [
    "# Model Diagnostic\n",
    "\n",
    "sarima_fit1.plot_diagnostics(figsize=(16, 12));"
   ]
  },
  {
   "cell_type": "markdown",
   "metadata": {},
   "source": [
    "### Exercise 4: "
   ]
  },
  {
   "cell_type": "code",
   "execution_count": 7,
   "metadata": {
    "collapsed": false
   },
   "outputs": [
    {
     "name": "stdout",
     "output_type": "stream",
     "text": [
      "(279L,)\n",
      "(14L,)\n",
      "Training Series: \n",
      " Period\n",
      "2014-11-01    4133\n",
      "2014-12-01    5606\n",
      "2015-01-01    3576\n",
      "2015-02-01    3517\n",
      "2015-03-01    3881\n",
      "Name: Value, dtype: int64 \n",
      "\n",
      "Testing Series: \n",
      " Period\n",
      "2015-04-01    3864\n",
      "2015-05-01    4369\n",
      "2015-06-01    4241\n",
      "2015-07-01    4524\n",
      "2015-08-01    4248\n",
      "Name: Value, dtype: int64\n"
     ]
    }
   ],
   "source": [
    "# Step 1: Import the data series\n",
    "liquor = pd.read_csv('data/liquor.csv', header=0, index_col=0, parse_dates=[0])\n",
    "\n",
    "# Step 1b: Create the training and testing series before analyzing the series\n",
    "n_sample = liquor.shape[0]\n",
    "n_train=int(0.95*n_sample)+1\n",
    "n_forecast=n_sample-n_train\n",
    "\n",
    "liquor_train = liquor.iloc[:n_train]['Value']\n",
    "liquor_test  = liquor.iloc[n_train:]['Value']\n",
    "print(liquor_train.shape)\n",
    "print(liquor_test.shape)\n",
    "print(\"Training Series:\", \"\\n\", liquor_train.tail(), \"\\n\")\n",
    "print(\"Testing Series:\", \"\\n\", liquor_test.head())"
   ]
  },
  {
   "cell_type": "code",
   "execution_count": 8,
   "metadata": {
    "collapsed": false
   },
   "outputs": [
    {
     "name": "stdout",
     "output_type": "stream",
     "text": [
      "Data shape: (279L,) \n",
      "\n",
      "First 5 observations of the training data series: \n",
      " Period\n",
      "1992-01-01    1509\n",
      "1992-02-01    1541\n",
      "1992-03-01    1597\n",
      "1992-04-01    1675\n",
      "1992-05-01    1822\n",
      "Name: Value, dtype: int64 \n",
      "\n",
      "Last 5 observations of the training data series: \n",
      " Period\n",
      "2014-11-01    4133\n",
      "2014-12-01    5606\n",
      "2015-01-01    3576\n",
      "2015-02-01    3517\n",
      "2015-03-01    3881\n",
      "Name: Value, dtype: int64\n"
     ]
    }
   ],
   "source": [
    "# Step 2a: Examine the basic structure of the data\n",
    "print(\"Data shape:\", liquor_train.shape, \"\\n\")\n",
    "print(\"First 5 observations of the training data series:\", \"\\n\", liquor_train.head(), \"\\n\")\n",
    "print(\"Last 5 observations of the training data series:\", \"\\n\", liquor_train.tail())"
   ]
  },
  {
   "cell_type": "code",
   "execution_count": 9,
   "metadata": {
    "collapsed": false
   },
   "outputs": [
    {
     "ename": "NameError",
     "evalue": "name 'tsplot' is not defined",
     "output_type": "error",
     "traceback": [
      "\u001b[1;31m---------------------------------------------------------------------------\u001b[0m",
      "\u001b[1;31mNameError\u001b[0m                                 Traceback (most recent call last)",
      "\u001b[1;32m<ipython-input-9-ccecec68367e>\u001b[0m in \u001b[0;36m<module>\u001b[1;34m()\u001b[0m\n\u001b[0;32m      1\u001b[0m \u001b[1;31m# Step 2b: Examine the series and use the visuals as clues for the choice of the orders of the ARIMA model\u001b[0m\u001b[1;33m\u001b[0m\u001b[1;33m\u001b[0m\u001b[0m\n\u001b[0;32m      2\u001b[0m \u001b[1;31m#tsplot(liquor_train, title='Liquor Sales (in millions of dollars), 2007-2016', lags=??);\u001b[0m\u001b[1;33m\u001b[0m\u001b[1;33m\u001b[0m\u001b[0m\n\u001b[1;32m----> 3\u001b[1;33m \u001b[0mtsplot\u001b[0m\u001b[1;33m(\u001b[0m\u001b[0mliquor_train\u001b[0m\u001b[1;33m,\u001b[0m \u001b[0mtitle\u001b[0m\u001b[1;33m=\u001b[0m\u001b[1;34m'Liquor Sales (in millions of dollars)'\u001b[0m\u001b[1;33m,\u001b[0m \u001b[0mlags\u001b[0m\u001b[1;33m=\u001b[0m\u001b[1;36m40\u001b[0m\u001b[1;33m)\u001b[0m\u001b[1;33m;\u001b[0m\u001b[1;33m\u001b[0m\u001b[0m\n\u001b[0m",
      "\u001b[1;31mNameError\u001b[0m: name 'tsplot' is not defined"
     ]
    }
   ],
   "source": [
    "# Step 2b: Examine the series and use the visuals as clues for the choice of the orders of the ARIMA model\n",
    "#tsplot(liquor_train, title='Liquor Sales (in millions of dollars), 2007-2016', lags=??);\n",
    "tsplot(liquor_train, title='Liquor Sales (in millions of dollars)', lags=40);"
   ]
  },
  {
   "cell_type": "code",
   "execution_count": 10,
   "metadata": {
    "collapsed": true
   },
   "outputs": [],
   "source": [
    "# Step 2c: Conduct any necessary transformations (such as natural log, difference, difference in natural log, etc )\n",
    "# and repeat Step 2b\n"
   ]
  },
  {
   "cell_type": "code",
   "execution_count": 11,
   "metadata": {
    "collapsed": false
   },
   "outputs": [
    {
     "ename": "NameError",
     "evalue": "name 'sm' is not defined",
     "output_type": "error",
     "traceback": [
      "\u001b[1;31m---------------------------------------------------------------------------\u001b[0m",
      "\u001b[1;31mNameError\u001b[0m                                 Traceback (most recent call last)",
      "\u001b[1;32m<ipython-input-11-99bfc5a8170e>\u001b[0m in \u001b[0;36m<module>\u001b[1;34m()\u001b[0m\n\u001b[0;32m      4\u001b[0m \u001b[1;31m#mod = sm.tsa.statespace.SARIMAX(liquor, order=(?,?,?), seasonal_order=(?,?,?,?))\u001b[0m\u001b[1;33m\u001b[0m\u001b[1;33m\u001b[0m\u001b[0m\n\u001b[0;32m      5\u001b[0m \u001b[1;33m\u001b[0m\u001b[0m\n\u001b[1;32m----> 6\u001b[1;33m \u001b[0mmod\u001b[0m \u001b[1;33m=\u001b[0m \u001b[0msm\u001b[0m\u001b[1;33m.\u001b[0m\u001b[0mtsa\u001b[0m\u001b[1;33m.\u001b[0m\u001b[0mstatespace\u001b[0m\u001b[1;33m.\u001b[0m\u001b[0mSARIMAX\u001b[0m\u001b[1;33m(\u001b[0m\u001b[0mliquor_train\u001b[0m\u001b[1;33m,\u001b[0m \u001b[0morder\u001b[0m\u001b[1;33m=\u001b[0m\u001b[1;33m(\u001b[0m\u001b[1;36m0\u001b[0m\u001b[1;33m,\u001b[0m\u001b[1;36m1\u001b[0m\u001b[1;33m,\u001b[0m\u001b[1;36m1\u001b[0m\u001b[1;33m)\u001b[0m\u001b[1;33m,\u001b[0m \u001b[0mseasonal_order\u001b[0m\u001b[1;33m=\u001b[0m\u001b[1;33m(\u001b[0m\u001b[1;36m0\u001b[0m\u001b[1;33m,\u001b[0m\u001b[1;36m1\u001b[0m\u001b[1;33m,\u001b[0m\u001b[1;36m0\u001b[0m\u001b[1;33m,\u001b[0m\u001b[1;36m12\u001b[0m\u001b[1;33m)\u001b[0m\u001b[1;33m)\u001b[0m\u001b[1;33m\u001b[0m\u001b[0m\n\u001b[0m\u001b[0;32m      7\u001b[0m \u001b[0msarima_fit2\u001b[0m \u001b[1;33m=\u001b[0m \u001b[0mmod\u001b[0m\u001b[1;33m.\u001b[0m\u001b[0mfit\u001b[0m\u001b[1;33m(\u001b[0m\u001b[1;33m)\u001b[0m\u001b[1;33m\u001b[0m\u001b[0m\n\u001b[0;32m      8\u001b[0m \u001b[1;32mprint\u001b[0m\u001b[1;33m(\u001b[0m\u001b[0msarima_fit2\u001b[0m\u001b[1;33m.\u001b[0m\u001b[0msummary\u001b[0m\u001b[1;33m(\u001b[0m\u001b[1;33m)\u001b[0m\u001b[1;33m)\u001b[0m\u001b[1;33m\u001b[0m\u001b[0m\n",
      "\u001b[1;31mNameError\u001b[0m: name 'sm' is not defined"
     ]
    }
   ],
   "source": [
    "# Step 3: Estimate an Seasonal ARIMA model\n",
    "# Note: you will have to pick the orders (p,d,q)(P,D,Q)_s\n",
    "\n",
    "#mod = sm.tsa.statespace.SARIMAX(liquor, order=(?,?,?), seasonal_order=(?,?,?,?))\n",
    "\n",
    "mod = sm.tsa.statespace.SARIMAX(liquor_train, order=(0,1,1), seasonal_order=(0,1,0,12))\n",
    "sarima_fit2 = mod.fit()\n",
    "print(sarima_fit2.summary())"
   ]
  },
  {
   "cell_type": "code",
   "execution_count": 12,
   "metadata": {
    "collapsed": false
   },
   "outputs": [
    {
     "ename": "NameError",
     "evalue": "name 'sarima_fit2' is not defined",
     "output_type": "error",
     "traceback": [
      "\u001b[1;31m---------------------------------------------------------------------------\u001b[0m",
      "\u001b[1;31mNameError\u001b[0m                                 Traceback (most recent call last)",
      "\u001b[1;32m<ipython-input-12-6192eb44450d>\u001b[0m in \u001b[0;36m<module>\u001b[1;34m()\u001b[0m\n\u001b[0;32m      1\u001b[0m \u001b[1;31m# Step 4: Conduct model diagnostic check\u001b[0m\u001b[1;33m\u001b[0m\u001b[1;33m\u001b[0m\u001b[0m\n\u001b[1;32m----> 2\u001b[1;33m \u001b[0msarima_fit2\u001b[0m\u001b[1;33m.\u001b[0m\u001b[0mplot_diagnostics\u001b[0m\u001b[1;33m(\u001b[0m\u001b[1;33m)\u001b[0m\u001b[1;33m;\u001b[0m\u001b[1;33m\u001b[0m\u001b[0m\n\u001b[0m\u001b[0;32m      3\u001b[0m \u001b[1;33m\u001b[0m\u001b[0m\n\u001b[0;32m      4\u001b[0m \u001b[1;31m# Discuss these plots\u001b[0m\u001b[1;33m\u001b[0m\u001b[1;33m\u001b[0m\u001b[0m\n",
      "\u001b[1;31mNameError\u001b[0m: name 'sarima_fit2' is not defined"
     ]
    }
   ],
   "source": [
    "# Step 4: Conduct model diagnostic check\n",
    "sarima_fit2.plot_diagnostics();\n",
    "\n",
    "# Discuss these plots"
   ]
  },
  {
   "cell_type": "code",
   "execution_count": 13,
   "metadata": {
    "collapsed": false
   },
   "outputs": [
    {
     "ename": "NameError",
     "evalue": "name 'plt' is not defined",
     "output_type": "error",
     "traceback": [
      "\u001b[1;31m---------------------------------------------------------------------------\u001b[0m",
      "\u001b[1;31mNameError\u001b[0m                                 Traceback (most recent call last)",
      "\u001b[1;32m<ipython-input-13-a9e4b500dac7>\u001b[0m in \u001b[0;36m<module>\u001b[1;34m()\u001b[0m\n\u001b[0;32m      1\u001b[0m \u001b[1;31m# Step 5: Do a 14-step ahead forecast\u001b[0m\u001b[1;33m\u001b[0m\u001b[1;33m\u001b[0m\u001b[0m\n\u001b[0;32m      2\u001b[0m \u001b[1;33m\u001b[0m\u001b[0m\n\u001b[1;32m----> 3\u001b[1;33m \u001b[0mfig\u001b[0m\u001b[1;33m,\u001b[0m \u001b[0max1\u001b[0m \u001b[1;33m=\u001b[0m \u001b[0mplt\u001b[0m\u001b[1;33m.\u001b[0m\u001b[0msubplots\u001b[0m\u001b[1;33m(\u001b[0m\u001b[0mnrows\u001b[0m\u001b[1;33m=\u001b[0m\u001b[1;36m1\u001b[0m\u001b[1;33m,\u001b[0m \u001b[0mncols\u001b[0m\u001b[1;33m=\u001b[0m\u001b[1;36m1\u001b[0m\u001b[1;33m,\u001b[0m \u001b[0mfigsize\u001b[0m\u001b[1;33m=\u001b[0m\u001b[1;33m(\u001b[0m\u001b[1;36m12\u001b[0m\u001b[1;33m,\u001b[0m \u001b[1;36m8\u001b[0m\u001b[1;33m)\u001b[0m\u001b[1;33m)\u001b[0m\u001b[1;33m\u001b[0m\u001b[0m\n\u001b[0m\u001b[0;32m      4\u001b[0m \u001b[1;33m\u001b[0m\u001b[0m\n\u001b[0;32m      5\u001b[0m \u001b[0max1\u001b[0m\u001b[1;33m.\u001b[0m\u001b[0mplot\u001b[0m\u001b[1;33m(\u001b[0m\u001b[0mliquor_train\u001b[0m\u001b[1;33m,\u001b[0m \u001b[0mlabel\u001b[0m\u001b[1;33m=\u001b[0m\u001b[1;34m'In-sample data'\u001b[0m\u001b[1;33m,\u001b[0m \u001b[0mlinestyle\u001b[0m\u001b[1;33m=\u001b[0m\u001b[1;34m'-'\u001b[0m\u001b[1;33m)\u001b[0m\u001b[1;33m\u001b[0m\u001b[0m\n",
      "\u001b[1;31mNameError\u001b[0m: name 'plt' is not defined"
     ]
    }
   ],
   "source": [
    "# Step 5: Do a 14-step ahead forecast\n",
    "\n",
    "fig, ax1 = plt.subplots(nrows=1, ncols=1, figsize=(12, 8))\n",
    "    \n",
    "ax1.plot(liquor_train, label='In-sample data', linestyle='-')\n",
    "# subtract 1 only to connect it to previous point in the graph\n",
    "ax1.plot(liquor_test, label='Held-out data', linestyle='--')\n",
    "\n",
    "# yes DatetimeIndex\n",
    "pred_begin = liquor_train.index[sarima_fit2.loglikelihood_burn]\n",
    "pred_end = liquor_test.index[-1]\n",
    "pred = sarima_fit2.get_prediction(start=pred_begin.strftime('%Y-%m-%d'),\n",
    "                                    end=pred_end.strftime('%Y-%m-%d'))\n",
    "pred_mean = pred.predicted_mean\n",
    "pred_ci = pred.conf_int(alpha=0.05)\n",
    "\n",
    "ax1.plot(pred_mean, 'r', alpha=.6, label='Predicted values')\n",
    "ax1.fill_between(pred_ci.index,\n",
    "                 pred_ci.iloc[:, 0],\n",
    "                 pred_ci.iloc[:, 1], color='k', alpha=.2)\n",
    "ax1.set_xlabel(\"Year\")\n",
    "ax1.set_ylabel(\"Liquor Sales (in millions of dollars)\")\n",
    "ax1.legend(loc='best');\n",
    "fig.tight_layout();\n",
    "## Discuss the results.  How does your forecast look?"
   ]
  },
  {
   "cell_type": "code",
   "execution_count": null,
   "metadata": {
    "collapsed": true
   },
   "outputs": [],
   "source": []
  },
  {
   "cell_type": "code",
   "execution_count": null,
   "metadata": {
    "collapsed": true
   },
   "outputs": [],
   "source": []
  },
  {
   "cell_type": "code",
   "execution_count": null,
   "metadata": {
    "collapsed": true
   },
   "outputs": [],
   "source": []
  }
 ],
 "metadata": {
  "kernelspec": {
   "display_name": "Python 2",
   "language": "python",
   "name": "python2"
  },
  "language_info": {
   "codemirror_mode": {
    "name": "ipython",
    "version": 2
   },
   "file_extension": ".py",
   "mimetype": "text/x-python",
   "name": "python",
   "nbconvert_exporter": "python",
   "pygments_lexer": "ipython2",
   "version": "2.7.11"
  }
 },
 "nbformat": 4,
 "nbformat_minor": 0
}
