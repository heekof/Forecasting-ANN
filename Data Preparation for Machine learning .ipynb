{
 "cells": [
  {
   "cell_type": "code",
   "execution_count": 1,
   "metadata": {
    "collapsed": true
   },
   "outputs": [],
   "source": [
    "import numpy as np\n",
    "import pandas as pd\n",
    "from pandas import Series,DataFrame\n",
    "import time as t\n",
    "import datetime as dt\n",
    "import string as st"
   ]
  },
  {
   "cell_type": "code",
   "execution_count": 28,
   "metadata": {
    "collapsed": false
   },
   "outputs": [],
   "source": [
    "dframe = pd.read_csv('grafana_data_export.csv',sep=';')"
   ]
  },
  {
   "cell_type": "code",
   "execution_count": 29,
   "metadata": {
    "collapsed": false
   },
   "outputs": [
    {
     "data": {
      "text/html": [
       "<div>\n",
       "<table border=\"1\" class=\"dataframe\">\n",
       "  <thead>\n",
       "    <tr style=\"text-align: right;\">\n",
       "      <th></th>\n",
       "      <th>Series</th>\n",
       "      <th>Time</th>\n",
       "      <th>Value</th>\n",
       "    </tr>\n",
       "  </thead>\n",
       "  <tbody>\n",
       "    <tr>\n",
       "      <th>20224</th>\n",
       "      <td>net.out_packets_sec.value(device=eth0,hostname...</td>\n",
       "      <td>2016-05-19T17:31:44.000Z</td>\n",
       "      <td>0.433333</td>\n",
       "    </tr>\n",
       "    <tr>\n",
       "      <th>20225</th>\n",
       "      <td>net.out_packets_sec.value(device=eth0,hostname...</td>\n",
       "      <td>2016-05-19T17:32:14.000Z</td>\n",
       "      <td>0.433333</td>\n",
       "    </tr>\n",
       "    <tr>\n",
       "      <th>20226</th>\n",
       "      <td>net.out_packets_sec.value(device=eth0,hostname...</td>\n",
       "      <td>2016-05-19T17:32:44.000Z</td>\n",
       "      <td>0.566667</td>\n",
       "    </tr>\n",
       "    <tr>\n",
       "      <th>20227</th>\n",
       "      <td>net.out_packets_sec.value(device=eth0,hostname...</td>\n",
       "      <td>2016-05-19T17:33:14.000Z</td>\n",
       "      <td>0.433333</td>\n",
       "    </tr>\n",
       "    <tr>\n",
       "      <th>20228</th>\n",
       "      <td>net.out_packets_sec.value(device=eth0,hostname...</td>\n",
       "      <td>2016-05-19T17:33:44.000Z</td>\n",
       "      <td>0.433333</td>\n",
       "    </tr>\n",
       "    <tr>\n",
       "      <th>20229</th>\n",
       "      <td>net.out_packets_sec.value(device=eth0,hostname...</td>\n",
       "      <td>2016-05-19T17:34:14.000Z</td>\n",
       "      <td>0.433333</td>\n",
       "    </tr>\n",
       "    <tr>\n",
       "      <th>20230</th>\n",
       "      <td>net.out_packets_sec.value(device=eth0,hostname...</td>\n",
       "      <td>2016-05-19T17:34:44.000Z</td>\n",
       "      <td>0.566667</td>\n",
       "    </tr>\n",
       "    <tr>\n",
       "      <th>20231</th>\n",
       "      <td>net.out_packets_sec.value(device=eth0,hostname...</td>\n",
       "      <td>2016-05-19T17:35:14.000Z</td>\n",
       "      <td>0.433333</td>\n",
       "    </tr>\n",
       "    <tr>\n",
       "      <th>20232</th>\n",
       "      <td>net.out_packets_sec.value(device=eth0,hostname...</td>\n",
       "      <td>2016-05-19T17:35:44.000Z</td>\n",
       "      <td>0.433333</td>\n",
       "    </tr>\n",
       "    <tr>\n",
       "      <th>20233</th>\n",
       "      <td>net.out_packets_sec.value(device=eth0,hostname...</td>\n",
       "      <td>2016-05-19T17:36:14.000Z</td>\n",
       "      <td>0.433333</td>\n",
       "    </tr>\n",
       "  </tbody>\n",
       "</table>\n",
       "</div>"
      ],
      "text/plain": [
       "                                                  Series  \\\n",
       "20224  net.out_packets_sec.value(device=eth0,hostname...   \n",
       "20225  net.out_packets_sec.value(device=eth0,hostname...   \n",
       "20226  net.out_packets_sec.value(device=eth0,hostname...   \n",
       "20227  net.out_packets_sec.value(device=eth0,hostname...   \n",
       "20228  net.out_packets_sec.value(device=eth0,hostname...   \n",
       "20229  net.out_packets_sec.value(device=eth0,hostname...   \n",
       "20230  net.out_packets_sec.value(device=eth0,hostname...   \n",
       "20231  net.out_packets_sec.value(device=eth0,hostname...   \n",
       "20232  net.out_packets_sec.value(device=eth0,hostname...   \n",
       "20233  net.out_packets_sec.value(device=eth0,hostname...   \n",
       "\n",
       "                           Time     Value  \n",
       "20224  2016-05-19T17:31:44.000Z  0.433333  \n",
       "20225  2016-05-19T17:32:14.000Z  0.433333  \n",
       "20226  2016-05-19T17:32:44.000Z  0.566667  \n",
       "20227  2016-05-19T17:33:14.000Z  0.433333  \n",
       "20228  2016-05-19T17:33:44.000Z  0.433333  \n",
       "20229  2016-05-19T17:34:14.000Z  0.433333  \n",
       "20230  2016-05-19T17:34:44.000Z  0.566667  \n",
       "20231  2016-05-19T17:35:14.000Z  0.433333  \n",
       "20232  2016-05-19T17:35:44.000Z  0.433333  \n",
       "20233  2016-05-19T17:36:14.000Z  0.433333  "
      ]
     },
     "execution_count": 29,
     "metadata": {},
     "output_type": "execute_result"
    }
   ],
   "source": [
    "dframe.tail(10)"
   ]
  },
  {
   "cell_type": "code",
   "execution_count": 30,
   "metadata": {
    "collapsed": false
   },
   "outputs": [
    {
     "data": {
      "text/plain": [
       "Index([u'Series', u'Time', u'Value'], dtype='object')"
      ]
     },
     "execution_count": 30,
     "metadata": {},
     "output_type": "execute_result"
    }
   ],
   "source": [
    "dframe.columns"
   ]
  },
  {
   "cell_type": "code",
   "execution_count": 31,
   "metadata": {
    "collapsed": false
   },
   "outputs": [],
   "source": [
    "#DataFrame(dframe,columns=['Time','Value'])"
   ]
  },
  {
   "cell_type": "code",
   "execution_count": 32,
   "metadata": {
    "collapsed": false
   },
   "outputs": [],
   "source": [
    "#dframe['Series']"
   ]
  },
  {
   "cell_type": "code",
   "execution_count": 33,
   "metadata": {
    "collapsed": false
   },
   "outputs": [],
   "source": [
    "# grabe only the data concerning a specific VM guest\n",
    "dframe_client1=dframe[dframe['Series']=='net.out_packets_sec.value(device=eth0,hostname=mini-mon,service=monitoring,)']\n",
    "\n",
    "# get ride of the metric name\n",
    "dframe=DataFrame(dframe_client1,columns=['Time','Unix_time','Value'])\n",
    "\n",
    "# reindex from 0 to data size\n",
    "dframe.index = range(0,dframe.Value.size)\n",
    "\n",
    "# Use datetime to convert it to a timestamp\n",
    "dframe.Unix_time = dframe.Time\n"
   ]
  },
  {
   "cell_type": "code",
   "execution_count": 34,
   "metadata": {
    "collapsed": false
   },
   "outputs": [
    {
     "name": "stderr",
     "output_type": "stream",
     "text": [
      "C:\\Users\\jaafar\\Anaconda2\\lib\\site-packages\\ipykernel\\__main__.py:6: SettingWithCopyWarning: \n",
      "A value is trying to be set on a copy of a slice from a DataFrame\n",
      "\n",
      "See the caveats in the documentation: http://pandas.pydata.org/pandas-docs/stable/indexing.html#indexing-view-versus-copy\n"
     ]
    }
   ],
   "source": [
    "\n",
    "i=0;\n",
    "\n",
    "\n",
    "for stamp in dframe.Unix_time:\n",
    "  dframe.Unix_time[i]=t.mktime(dt.datetime.strptime(repr(stamp)[1:-1], '%Y-%m-%dT%H:%M:%S.%fZ').timetuple())\n",
    "  i=i+1;\n"
   ]
  },
  {
   "cell_type": "code",
   "execution_count": 35,
   "metadata": {
    "collapsed": false
   },
   "outputs": [],
   "source": [
    "#repr(dframe.Unix_time[0])[1:-1]\n",
    "dframe=DataFrame(dframe,columns=['Unix_time','Value'])"
   ]
  },
  {
   "cell_type": "code",
   "execution_count": 36,
   "metadata": {
    "collapsed": false
   },
   "outputs": [
    {
     "data": {
      "text/html": [
       "<div>\n",
       "<table border=\"1\" class=\"dataframe\">\n",
       "  <thead>\n",
       "    <tr style=\"text-align: right;\">\n",
       "      <th></th>\n",
       "      <th>Unix_time</th>\n",
       "      <th>Value</th>\n",
       "    </tr>\n",
       "  </thead>\n",
       "  <tbody>\n",
       "    <tr>\n",
       "      <th>0</th>\n",
       "      <td>1.46365e+09</td>\n",
       "      <td>8.266667</td>\n",
       "    </tr>\n",
       "    <tr>\n",
       "      <th>1</th>\n",
       "      <td>1.46365e+09</td>\n",
       "      <td>7.400000</td>\n",
       "    </tr>\n",
       "    <tr>\n",
       "      <th>2</th>\n",
       "      <td>1.46365e+09</td>\n",
       "      <td>8.266667</td>\n",
       "    </tr>\n",
       "    <tr>\n",
       "      <th>3</th>\n",
       "      <td>1.46365e+09</td>\n",
       "      <td>6.600000</td>\n",
       "    </tr>\n",
       "    <tr>\n",
       "      <th>4</th>\n",
       "      <td>1.46365e+09</td>\n",
       "      <td>7.733333</td>\n",
       "    </tr>\n",
       "  </tbody>\n",
       "</table>\n",
       "</div>"
      ],
      "text/plain": [
       "     Unix_time     Value\n",
       "0  1.46365e+09  8.266667\n",
       "1  1.46365e+09  7.400000\n",
       "2  1.46365e+09  8.266667\n",
       "3  1.46365e+09  6.600000\n",
       "4  1.46365e+09  7.733333"
      ]
     },
     "execution_count": 36,
     "metadata": {},
     "output_type": "execute_result"
    }
   ],
   "source": [
    "\n",
    "dframe.head()\n"
   ]
  },
  {
   "cell_type": "code",
   "execution_count": 38,
   "metadata": {
    "collapsed": false
   },
   "outputs": [],
   "source": [
    "dframe.to_csv('streamingserverData.csv',sep=';',index=False)"
   ]
  },
  {
   "cell_type": "code",
   "execution_count": null,
   "metadata": {
    "collapsed": true
   },
   "outputs": [],
   "source": []
  },
  {
   "cell_type": "code",
   "execution_count": null,
   "metadata": {
    "collapsed": true
   },
   "outputs": [],
   "source": []
  },
  {
   "cell_type": "code",
   "execution_count": null,
   "metadata": {
    "collapsed": true
   },
   "outputs": [],
   "source": []
  },
  {
   "cell_type": "code",
   "execution_count": null,
   "metadata": {
    "collapsed": true
   },
   "outputs": [],
   "source": []
  }
 ],
 "metadata": {
  "kernelspec": {
   "display_name": "Python 2",
   "language": "python",
   "name": "python2"
  },
  "language_info": {
   "codemirror_mode": {
    "name": "ipython",
    "version": 2
   },
   "file_extension": ".py",
   "mimetype": "text/x-python",
   "name": "python",
   "nbconvert_exporter": "python",
   "pygments_lexer": "ipython2",
   "version": "2.7.11"
  }
 },
 "nbformat": 4,
 "nbformat_minor": 0
}
