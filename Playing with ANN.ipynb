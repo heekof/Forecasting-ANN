{
 "cells": [
  {
   "cell_type": "code",
   "execution_count": 329,
   "metadata": {
    "collapsed": true
   },
   "outputs": [],
   "source": [
    "import numpy as np\n",
    "import pandas as pd\n",
    "from pandas import Series,DataFrame\n",
    "import time as t\n",
    "import datetime as dt\n",
    "import string as st\n",
    "%matplotlib inline\n",
    "import matplotlib\n",
    "import matplotlib.pyplot as plt\n",
    "from numpy import genfromtxt\n",
    "import math as m\n"
   ]
  },
  {
   "cell_type": "code",
   "execution_count": 371,
   "metadata": {
    "collapsed": true
   },
   "outputs": [],
   "source": [
    "def f(x):\n",
    "    return np.sin(x);"
   ]
  },
  {
   "cell_type": "code",
   "execution_count": 386,
   "metadata": {
    "collapsed": false
   },
   "outputs": [],
   "source": [
    "X_matrix = np.genfromtxt('Martrix_X_streamingserver.csv', delimiter=';');\n",
    "#Y_matrix = np.genfromtxt('Martrix_Y_streamingserver.csv', delimiter=';');\n",
    "Y_matrix = pd.read_csv('Martrix_Y_streamingserver.csv',sep=';')\n",
    "y = np.asanyarray(Y_matrix)\n",
    "X = X_matrix.copy()\n",
    "X_l = X.tolist();\n",
    "y_l = y.tolist();"
   ]
  },
  {
   "cell_type": "code",
   "execution_count": 372,
   "metadata": {
    "collapsed": false
   },
   "outputs": [],
   "source": [
    "X =np.arange(0.0,10,0.1)\n"
   ]
  },
  {
   "cell_type": "code",
   "execution_count": 373,
   "metadata": {
    "collapsed": false
   },
   "outputs": [],
   "source": [
    "y = f(X)"
   ]
  },
  {
   "cell_type": "code",
   "execution_count": null,
   "metadata": {
    "collapsed": false
   },
   "outputs": [],
   "source": []
  },
  {
   "cell_type": "code",
   "execution_count": 374,
   "metadata": {
    "collapsed": false
   },
   "outputs": [
    {
     "data": {
      "text/plain": [
       "[<matplotlib.lines.Line2D at 0xf676240>]"
      ]
     },
     "execution_count": 374,
     "metadata": {},
     "output_type": "execute_result"
    },
    {
     "data": {
      "image/png": "[encoded data removed]",
      "text/plain": [
       "<matplotlib.figure.Figure at 0xf53fc18>"
      ]
     },
     "metadata": {},
     "output_type": "display_data"
    }
   ],
   "source": [
    "plt.plot(X,y,'b*')\n"
   ]
  },
  {
   "cell_type": "code",
   "execution_count": 375,
   "metadata": {
    "collapsed": true
   },
   "outputs": [],
   "source": [
    "xmin = X.min()\n",
    "xmax = X.max()\n",
    "ymin = y.min()\n",
    "ymax = y.max()\n",
    "y2 = y.copy()\n",
    "x2 = X.copy()\n",
    "x2 -= xmin\n",
    "x2 /= (xmax-xmin)\n",
    "y2 -= ymin\n",
    "y2 /= (ymax-ymin)"
   ]
  },
  {
   "cell_type": "code",
   "execution_count": 376,
   "metadata": {
    "collapsed": true
   },
   "outputs": [],
   "source": [
    "import numpy as np\n",
    "from sklearn.cross_validation import train_test_split \n",
    "from sklearn.metrics import confusion_matrix, classification_report\n",
    "from sklearn.preprocessing import LabelBinarizer, MinMaxScaler"
   ]
  },
  {
   "cell_type": "markdown",
   "metadata": {},
   "source": [
    "#scale the matrix with all the 4 features\n",
    "xsc = MinMaxScaler(feature_range=(0, 1), copy=True)\n",
    "xsc.fit(X)\n",
    "xsc.fit(y)\n",
    "\n",
    "' xsc will remember the min and max for each feature\n",
    "X_train, X_test, y_train, y_test = train_test_split(xsc.transform(X), xsc.transform(y))\n",
    "\n",
    "' our network uses lists (pure Python, no frameworks) so passing numpy arrays 'will fail\n",
    "X_train_l = X_train.tolist()\n",
    "y_train_l = y_train.tolist()\n",
    "X_test_l = X_test.tolist()\n",
    "\n",
    "\n"
   ]
  },
  {
   "cell_type": "markdown",
   "metadata": {},
   "source": [
    "# Training vs Testing"
   ]
  },
  {
   "cell_type": "code",
   "execution_count": 377,
   "metadata": {
    "collapsed": false
   },
   "outputs": [
    {
     "data": {
      "text/plain": [
       "array([ 0.        ,  0.01010101,  0.02020202,  0.03030303,  0.04040404,\n",
       "        0.05050505,  0.06060606,  0.07070707,  0.08080808,  0.09090909,\n",
       "        0.1010101 ,  0.11111111,  0.12121212,  0.13131313,  0.14141414,\n",
       "        0.15151515,  0.16161616,  0.17171717,  0.18181818,  0.19191919,\n",
       "        0.2020202 ,  0.21212121,  0.22222222,  0.23232323,  0.24242424,\n",
       "        0.25252525,  0.26262626,  0.27272727,  0.28282828,  0.29292929,\n",
       "        0.3030303 ,  0.31313131,  0.32323232,  0.33333333,  0.34343434,\n",
       "        0.35353535,  0.36363636,  0.37373737,  0.38383838,  0.39393939,\n",
       "        0.4040404 ,  0.41414141,  0.42424242,  0.43434343,  0.44444444,\n",
       "        0.45454545,  0.46464646,  0.47474747,  0.48484848,  0.49494949,\n",
       "        0.50505051,  0.51515152,  0.52525253,  0.53535354,  0.54545455,\n",
       "        0.55555556,  0.56565657,  0.57575758,  0.58585859,  0.5959596 ,\n",
       "        0.60606061,  0.61616162,  0.62626263,  0.63636364,  0.64646465,\n",
       "        0.65656566,  0.66666667,  0.67676768,  0.68686869,  0.6969697 ,\n",
       "        0.70707071,  0.71717172,  0.72727273,  0.73737374,  0.74747475,\n",
       "        0.75757576,  0.76767677,  0.77777778,  0.78787879,  0.7979798 ,\n",
       "        0.80808081,  0.81818182,  0.82828283,  0.83838384,  0.84848485,\n",
       "        0.85858586,  0.86868687,  0.87878788,  0.88888889,  0.8989899 ,\n",
       "        0.90909091,  0.91919192,  0.92929293,  0.93939394,  0.94949495,\n",
       "        0.95959596,  0.96969697,  0.97979798,  0.98989899,  1.        ])"
      ]
     },
     "execution_count": 377,
     "metadata": {},
     "output_type": "execute_result"
    }
   ],
   "source": [
    "x2"
   ]
  },
  {
   "cell_type": "code",
   "execution_count": 378,
   "metadata": {
    "collapsed": false
   },
   "outputs": [],
   "source": [
    "inputs = [[i] for i in x2]\n",
    "targets = [[t] for t in y2]\n",
    "#inputs"
   ]
  },
  {
   "cell_type": "code",
   "execution_count": 389,
   "metadata": {
    "collapsed": false
   },
   "outputs": [
    {
     "name": "stdout",
     "output_type": "stream",
     "text": [
      "(0, 45870.062902070604)\n",
      "(100, 45862.58305799325)\n",
      "(200, 45862.58092135661)\n",
      "(300, 45862.580206421175)\n",
      "(400, 45862.579848612644)\n",
      "(500, 45862.5796338688)\n",
      "(600, 45862.57949070186)\n",
      "(700, 45862.57938844688)\n",
      "(800, 45862.57931176483)\n",
      "(900, 45862.5792521314)\n"
     ]
    }
   ],
   "source": [
    "from ann import ANN\n",
    "\n",
    "# 4 input neurons: sepal length (cm),sepal width (cm), petal length (cm), petal width (cm)\n",
    "# 10 hidden neurons\n",
    "# 3 output neurons: setosa [1, 0, 0], versicolor [0, 1, 0], virginica [0, 0, 1]\n",
    "nn = ANN([1,5,1])\n",
    "\n",
    "\n",
    "# Here please Try to represent the input data as percentage so that you can capture patterns\n",
    "\n",
    "# train the ANN\n",
    "#nn.train(inputs, targets, 1600)\n",
    "nn.train(X_l,y_l,1000)"
   ]
  },
  {
   "cell_type": "code",
   "execution_count": 380,
   "metadata": {
    "collapsed": false
   },
   "outputs": [],
   "source": [
    "# to uncomment\n",
    "#example_id = 3\n",
    "#pred = nn.predict(X_l[example_id])\n",
    "#print('prediction', pred)\n",
    "\n",
    "\n",
    "\n"
   ]
  },
  {
   "cell_type": "code",
   "execution_count": 381,
   "metadata": {
    "collapsed": false
   },
   "outputs": [
    {
     "data": {
      "text/plain": [
       "array([ 0.90117951,  0.89887864,  0.89636504,  0.89361698,  0.89061045,\n",
       "        0.88731898,  0.88371337,  0.87976152,  0.87542818,  0.87067471,\n",
       "        0.86545891,  0.85973482,  0.85345265,  0.84655866,  0.83899526,\n",
       "        0.83070118,  0.82161178,  0.81165964,  0.80077528,  0.78888831,\n",
       "        0.77592879,  0.76182898,  0.74652547,  0.72996169,  0.71209066,\n",
       "        0.69287815,  0.67230579,  0.65037439,  0.62710688,  0.60255096,\n",
       "        0.57678109,  0.54989962,  0.52203687,  0.49335013,  0.4640214 ,\n",
       "        0.43425409,  0.40426869,  0.37429776,  0.3445806 ,  0.31535787,\n",
       "        0.28686657,  0.25933583,  0.23298369,  0.20801541,  0.18462325,\n",
       "        0.16298824,  0.14328412,  0.12568363,  0.11036772,  0.0975378 ,\n",
       "        0.08743175,  0.08034358,  0.07664701,  0.07682169,  0.08147973,\n",
       "        0.09138732,  0.10747178,  0.13079825,  0.16249266,  0.20358142,\n",
       "        0.25472291,  0.3158344 ,  0.38568765,  0.46164717,  0.53978815,\n",
       "        0.61553542,  0.68467284,  0.74427702,  0.79313567,  0.83155079,\n",
       "        0.8607789 ,  0.88244693,  0.89814321,  0.90921346,  0.91670369,\n",
       "        0.92138012,  0.92377708,  0.92424712,  0.92300299,  0.92014939,\n",
       "        0.91570545,  0.90962021,  0.90178299,  0.89203068,  0.88015331,\n",
       "        0.86589946,  0.84898253,  0.82908911,  0.80589038,  0.77905727,\n",
       "        0.74827983,  0.71329054,  0.67389061,  0.62997746,  0.58157048,\n",
       "        0.52883187,  0.47207881,  0.41178396,  0.34856261,  0.28314658])"
      ]
     },
     "execution_count": 381,
     "metadata": {},
     "output_type": "execute_result"
    }
   ],
   "source": [
    "preds = np.array([nn.predict(input)[0] for input in inputs])\n",
    "preds\n"
   ]
  },
  {
   "cell_type": "code",
   "execution_count": 382,
   "metadata": {
    "collapsed": false
   },
   "outputs": [],
   "source": [
    "predsscaled = preds * (ymax-ymin)+ymin"
   ]
  },
  {
   "cell_type": "code",
   "execution_count": 383,
   "metadata": {
    "collapsed": false
   },
   "outputs": [
    {
     "data": {
      "text/plain": [
       "[<matplotlib.lines.Line2D at 0xf830e48>]"
      ]
     },
     "execution_count": 383,
     "metadata": {},
     "output_type": "execute_result"
    },
    {
     "data": {
      "image/png": "[encoded data removed]",
      "text/plain": [
       "<matplotlib.figure.Figure at 0xf500eb8>"
      ]
     },
     "metadata": {},
     "output_type": "display_data"
    }
   ],
   "source": [
    "plt.plot(x,predsscaled,'r*')"
   ]
  },
  {
   "cell_type": "code",
   "execution_count": 384,
   "metadata": {
    "collapsed": false
   },
   "outputs": [
    {
     "data": {
      "text/plain": [
       "[<matplotlib.lines.Line2D at 0xf9bcda0>,\n",
       " <matplotlib.lines.Line2D at 0xf9bce80>]"
      ]
     },
     "execution_count": 384,
     "metadata": {},
     "output_type": "execute_result"
    },
    {
     "data": {
      "image/png": "[encoded data removed]",
      "text/plain": [
       "<matplotlib.figure.Figure at 0xf7ea7b8>"
      ]
     },
     "metadata": {},
     "output_type": "display_data"
    }
   ],
   "source": [
    "plt.plot(x,y,'bo',x,predsscaled,'r*')"
   ]
  },
  {
   "cell_type": "code",
   "execution_count": 385,
   "metadata": {
    "collapsed": false
   },
   "outputs": [
    {
     "name": "stdout",
     "output_type": "stream",
     "text": [
      "('prediction error in percentage : ', 5.4813035964995089, '%')\n"
     ]
    }
   ],
   "source": [
    "\n",
    "print(\"prediction error in percentage : \", np.mean((predsscaled - y)**2)*100,\"%\")"
   ]
  },
  {
   "cell_type": "code",
   "execution_count": null,
   "metadata": {
    "collapsed": true
   },
   "outputs": [],
   "source": []
  }
 ],
 "metadata": {
  "kernelspec": {
   "display_name": "Python 2",
   "language": "python",
   "name": "python2"
  },
  "language_info": {
   "codemirror_mode": {
    "name": "ipython",
    "version": 2
   },
   "file_extension": ".py",
   "mimetype": "text/x-python",
   "name": "python",
   "nbconvert_exporter": "python",
   "pygments_lexer": "ipython2",
   "version": "2.7.11"
  }
 },
 "nbformat": 4,
 "nbformat_minor": 0
}
