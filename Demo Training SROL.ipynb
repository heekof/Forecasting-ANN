{
 "cells": [
  {
   "cell_type": "code",
   "execution_count": 7,
   "metadata": {
    "collapsed": false
   },
   "outputs": [],
   "source": [
    "import pandas\n",
    "import numpy\n",
    "import math\n",
    "import datetime\n",
    "import time\n",
    "from time import gmtime, strftime\n",
    "import os\n",
    "# Import libraries use for visualization and analysis\n",
    "import pandas as pd\n",
    "import numpy as np\n",
    "%matplotlib inline\n",
    "import matplotlib\n",
    "import matplotlib.pyplot as plt\n",
    "\n",
    "\n",
    "import math\n",
    "from __future__ import division\n",
    "\n",
    "# Import library to execute remote commands for monasca-agent demo\n",
    "#import spur\n",
    "import matplotlib.pyplot as plt\n",
    "#import seaborn as sns\n",
    "\n",
    "import time as t\n",
    "import datetime as dt\n",
    "\n",
    "\n",
    "# We will use Keras library\n",
    "from keras.models import Sequential\n",
    "from keras.layers import Dense\n",
    "from keras.layers import LSTM\n",
    "# And Scikit-Learn\n",
    "from sklearn.preprocessing import MinMaxScaler"
   ]
  },
  {
   "cell_type": "code",
   "execution_count": 8,
   "metadata": {
    "collapsed": false
   },
   "outputs": [
    {
     "name": "stdout",
     "output_type": "stream",
     "text": [
      "(66, 33)\n",
      "Epoch 1/20\n",
      "0s - loss: 111.5359\n",
      "Epoch 2/20\n",
      "0s - loss: 107.5791\n",
      "Epoch 3/20\n",
      "0s - loss: 103.7387\n",
      "Epoch 4/20\n",
      "0s - loss: 99.9782\n",
      "Epoch 5/20\n",
      "0s - loss: 96.7795\n",
      "Epoch 6/20\n",
      "0s - loss: 93.8116\n",
      "Epoch 7/20\n",
      "0s - loss: 91.0278\n",
      "Epoch 8/20\n",
      "0s - loss: 88.3889\n",
      "Epoch 9/20\n",
      "0s - loss: 85.8453\n",
      "Epoch 10/20\n",
      "0s - loss: 83.4090\n",
      "Epoch 11/20\n",
      "0s - loss: 81.0436\n",
      "Epoch 12/20\n",
      "0s - loss: 78.7635\n",
      "Epoch 13/20\n",
      "0s - loss: 76.5227\n",
      "Epoch 14/20\n",
      "0s - loss: 74.3690\n",
      "Epoch 15/20\n",
      "0s - loss: 72.2537\n",
      "Epoch 16/20\n",
      "0s - loss: 70.2179\n",
      "Epoch 17/20\n",
      "0s - loss: 68.2338\n",
      "Epoch 18/20\n",
      "0s - loss: 66.2932\n",
      "Epoch 19/20\n",
      "0s - loss: 64.4237\n",
      "Epoch 20/20\n",
      "0s - loss: 62.5970\n"
     ]
    },
    {
     "data": {
      "text/plain": [
       "<keras.callbacks.History at 0x7fb179466ed0>"
      ]
     },
     "execution_count": 8,
     "metadata": {},
     "output_type": "execute_result"
    }
   ],
   "source": [
    "dataframe = pandas.read_csv(\"Data/training_data.csv\", usecols=[\"cpu.wait_perc\"], engine='python',sep=\";\")\n",
    "dataframe = dataframe[1:100]\n",
    "dataset = dataframe.values\n",
    "dataset = dataset.astype('float32')\n",
    "dataset;\n",
    "\n",
    "# normalize the dataset thanks to scikit-learn\n",
    "scaler = MinMaxScaler(feature_range=(2.3, 18.1))\n",
    "dataset = scaler.fit_transform(dataset)\n",
    "dataset;\n",
    "# split into train and test sets\n",
    "train_size = int(len(dataset) * 0.67)\n",
    "test_size = len(dataset) - train_size\n",
    "train, test = dataset[0:train_size,:], dataset[train_size:len(dataset),:]\n",
    "print(len(train), len(test))\n",
    "\n",
    "# convert an array of values into a dataset matrix\n",
    "def create_dataset(dataset, look_back=1):\n",
    "    dataX, dataY = [], []\n",
    "    for i in range(len(dataset)-look_back-1):\n",
    "        a = dataset[i:(i+look_back), 0]\n",
    "        dataX.append(a)\n",
    "        dataY.append(dataset[i + look_back, 0])\n",
    "    return numpy.array(dataX), numpy.array(dataY)\n",
    "# X=t and Y=t+1\n",
    "X, Y = create_dataset(dataset[1:10],1)\n",
    "\n",
    "# reshape into X=t and Y=t+1\n",
    "\n",
    "## The window \n",
    "\n",
    "look_back = 1\n",
    "\n",
    "trainX, trainY = create_dataset(train, look_back)\n",
    "testX, testY = create_dataset(test, look_back)\n",
    "\n",
    "# reshape input to be [samples, time steps, features]\n",
    "trainX = numpy.reshape(trainX, (trainX.shape[0], 1, trainX.shape[1]))\n",
    "testX = numpy.reshape(testX, (testX.shape[0], 1, testX.shape[1]))\n",
    "\n",
    "\n",
    "# create and fit the LSTM network\n",
    "model = Sequential()\n",
    "model.add(LSTM(2, input_dim=look_back))\n",
    "model.add(Dense(1))\n",
    "model.compile(loss='mean_squared_error', optimizer='adam')\n",
    "model.fit(trainX, trainY, nb_epoch=20, batch_size=1, verbose=2)"
   ]
  },
  {
   "cell_type": "code",
   "execution_count": 6,
   "metadata": {
    "collapsed": false
   },
   "outputs": [
    {
     "name": "stdout",
     "output_type": "stream",
     "text": [
      "32/64 [==============>...............] - ETA: 0sTrain Score: 12.42 RMSE\n",
      "31/31 [==============================] - 0s\n",
      "Test Score: 12.70 RMSE\n"
     ]
    }
   ],
   "source": [
    "# Estimate model performance\n",
    "trainScore = model.evaluate(trainX, trainY, verbose=1)\n",
    "trainScore = math.sqrt(trainScore)\n",
    "trainScore = scaler.inverse_transform(numpy.array([[trainScore]]))\n",
    "print('Train Score: %.2f RMSE' % (trainScore))\n",
    "\n",
    "testScore = model.evaluate(testX, testY, verbose=1)\n",
    "testScore = math.sqrt(testScore)\n",
    "testScore = scaler.inverse_transform(numpy.array([[testScore]]))\n",
    "print('Test Score: %.2f RMSE' % (testScore))"
   ]
  },
  {
   "cell_type": "code",
   "execution_count": null,
   "metadata": {
    "collapsed": true
   },
   "outputs": [],
   "source": []
  }
 ],
 "metadata": {
  "kernelspec": {
   "display_name": "Python 2",
   "language": "python",
   "name": "python2"
  },
  "language_info": {
   "codemirror_mode": {
    "name": "ipython",
    "version": 2
   },
   "file_extension": ".py",
   "mimetype": "text/x-python",
   "name": "python",
   "nbconvert_exporter": "python",
   "pygments_lexer": "ipython2",
   "version": "2.7.6"
  }
 },
 "nbformat": 4,
 "nbformat_minor": 1
}
