{
 "cells": [
  {
   "cell_type": "code",
   "execution_count": 1,
   "metadata": {},
   "outputs": [],
   "source": [
    "import yaml\n",
    "#from yaml import load,dump"
   ]
  },
  {
   "cell_type": "code",
   "execution_count": 2,
   "metadata": {},
   "outputs": [],
   "source": [
    "def yaml_load(file_path):\n",
    "    ''' Read Data from a YAML file '''\n",
    "    with open(file_path,'r') as file_descriptor:\n",
    "        data = yaml.load(file_descriptor)\n",
    "    return data    \n",
    "        \n",
    "def yaml_dump(file_path):\n",
    "    ''' Dump Data to a YAML file '''\n",
    "    with open(file_path,'w') as file_descriptor:\n",
    "        yaml.dump(data, file_descriptor)\n",
    "        \n",
    "        "
   ]
  },
  {
   "cell_type": "code",
   "execution_count": 3,
   "metadata": {},
   "outputs": [],
   "source": [
    "#if __name__ == \"__main__\":\n",
    "file_path = \"SLA-descriptor/SLO/service-name-slo.yaml\" \n",
    "data = yaml_load(file_path)"
   ]
  },
  {
   "cell_type": "code",
   "execution_count": 5,
   "metadata": {},
   "outputs": [
    {
     "ename": "NameError",
     "evalue": "name 'data' is not defined",
     "output_type": "error",
     "traceback": [
      "\u001b[0;31m---------------------------------------------------------------------------\u001b[0m",
      "\u001b[0;31mNameError\u001b[0m                                 Traceback (most recent call last)",
      "\u001b[0;32m<ipython-input-5-6366fa0bd05b>\u001b[0m in \u001b[0;36m<module>\u001b[0;34m()\u001b[0m\n\u001b[0;32m----> 1\u001b[0;31m \u001b[0mitems\u001b[0m \u001b[0;34m=\u001b[0m \u001b[0mdata\u001b[0m\u001b[0;34m\u001b[0m\u001b[0m\n\u001b[0m",
      "\u001b[0;31mNameError\u001b[0m: name 'data' is not defined"
     ]
    }
   ],
   "source": [
    "items = data"
   ]
  },
  {
   "cell_type": "code",
   "execution_count": 39,
   "metadata": {},
   "outputs": [
    {
     "name": "stdout",
     "output_type": "stream",
     "text": [
      "['include'] ['metrics']\n",
      "---\n",
      "['include'] ['service']\n",
      "---\n",
      "['include'] ['profiles']\n",
      "---\n",
      "['service', 'slo', 'actors', 'actions', 'profiles'] ['service-name', [{'threshold': 'avg=true value=2', 'metric': 'name=cpu', 'name': 'xxxxxxxxxx', 'condition': 'predicat=less percentile=0.2', 'time': 'start=1 end=1 format=Unix'}], None, None, 'name=basics']\n",
      "---\n"
     ]
    }
   ],
   "source": [
    "for item in data:\n",
    "    print item.keys(), item.values()\n",
    "    print \"---\""
   ]
  },
  {
   "cell_type": "code",
   "execution_count": null,
   "metadata": {
    "collapsed": true
   },
   "outputs": [],
   "source": []
  }
 ],
 "metadata": {
  "kernelspec": {
   "display_name": "Python 2",
   "language": "python",
   "name": "python2"
  },
  "language_info": {
   "codemirror_mode": {
    "name": "ipython",
    "version": 2
   },
   "file_extension": ".py",
   "mimetype": "text/x-python",
   "name": "python",
   "nbconvert_exporter": "python",
   "pygments_lexer": "ipython2",
   "version": "2.7.13"
  }
 },
 "nbformat": 4,
 "nbformat_minor": 1
}
