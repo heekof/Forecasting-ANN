{
 "cells": [
  {
   "cell_type": "code",
   "execution_count": 95,
   "metadata": {
    "collapsed": true
   },
   "outputs": [],
   "source": [
    "import numpy as np\n",
    "import pandas as pd\n",
    "from pandas import Series,DataFrame\n",
    "import time as t\n",
    "import datetime as dt\n",
    "import string as st\n",
    "%matplotlib inline\n",
    "import matplotlib\n",
    "import matplotlib.pyplot as plt\n",
    "from numpy import genfromtxt\n",
    "import math as m\n",
    "from __future__ import print_function"
   ]
  },
  {
   "cell_type": "code",
   "execution_count": 103,
   "metadata": {
    "collapsed": false
   },
   "outputs": [
    {
     "name": "stdout",
     "output_type": "stream",
     "text": [
      "[ 7.53333333  6.33333333  7.86666667 ...,  8.33333333  7.33333333\n",
      "  7.26666667]\n"
     ]
    }
   ],
   "source": [
    "X_matrix = np.genfromtxt('Martrix_X_streamingserver.csv', delimiter=';');\n",
    "#Y_matrix = np.genfromtxt('Martrix_Y_streamingserver.csv', delimiter=';');\n",
    "y = np.genfromtxt('Martrix_Y_streamingserver.csv',delimiter=';')\n",
    "\n",
    "#data = [1] * 3 + [2] * 3\n",
    "#data *= 3\n",
    "data = y[1:1050];\n",
    "print(data)"
   ]
  },
  {
   "cell_type": "code",
   "execution_count": 104,
   "metadata": {
    "collapsed": false
   },
   "outputs": [],
   "source": [
    "from pybrain.datasets import SequentialDataSet\n",
    "from itertools import cycle\n",
    "\n",
    "ds = SequentialDataSet(1, 1)\n",
    "for sample, next_sample in zip(data, cycle(data[1:])):\n",
    "    ds.addSample(sample, next_sample)"
   ]
  },
  {
   "cell_type": "code",
   "execution_count": 105,
   "metadata": {
    "collapsed": true
   },
   "outputs": [],
   "source": [
    "from pybrain.tools.shortcuts import buildNetwork\n",
    "from pybrain.structure.modules import LSTMLayer\n",
    "\n",
    "net = buildNetwork(1, 5, 1, \n",
    "                   hiddenclass=LSTMLayer, outputbias=False, recurrent=True)"
   ]
  },
  {
   "cell_type": "code",
   "execution_count": 106,
   "metadata": {
    "collapsed": false
   },
   "outputs": [
    {
     "name": "stdout",
     "output_type": "stream",
     "text": [
      " epoch 500/500\n",
      "final error = 9.47245914512\n"
     ]
    }
   ],
   "source": [
    "from pybrain.supervised import RPropMinusTrainer\n",
    "from sys import stdout\n",
    "\n",
    "trainer = RPropMinusTrainer(net, dataset=ds)\n",
    "train_errors = [] # save errors for plotting later\n",
    "EPOCHS_PER_CYCLE = 5\n",
    "CYCLES = 100\n",
    "EPOCHS = EPOCHS_PER_CYCLE * CYCLES\n",
    "for i in xrange(CYCLES):\n",
    "    trainer.trainEpochs(EPOCHS_PER_CYCLE)\n",
    "    train_errors.append(trainer.testOnData())\n",
    "    epoch = (i+1) * EPOCHS_PER_CYCLE\n",
    "    print(\"\\r epoch {}/{}\".format(epoch, EPOCHS), end=\"\")\n",
    "    stdout.flush()\n",
    "\n",
    "print()\n",
    "print(\"final error =\", train_errors[-1])"
   ]
  },
  {
   "cell_type": "code",
   "execution_count": 107,
   "metadata": {
    "collapsed": false
   },
   "outputs": [
    {
     "data": {
      "text/plain": [
       "<matplotlib.text.Text at 0xc792d68>"
      ]
     },
     "execution_count": 107,
     "metadata": {},
     "output_type": "execute_result"
    },
    {
     "data": {
      "image/png": "[encoded data removed]",
      "text/plain": [
       "<matplotlib.figure.Figure at 0xc97e278>"
      ]
     },
     "metadata": {},
     "output_type": "display_data"
    }
   ],
   "source": [
    "import matplotlib.pyplot as plt\n",
    "\n",
    "plt.plot(range(0, EPOCHS, EPOCHS_PER_CYCLE), train_errors)\n",
    "plt.xlabel('epoch')\n",
    "plt.ylabel('error')"
   ]
  },
  {
   "cell_type": "code",
   "execution_count": 140,
   "metadata": {
    "collapsed": false
   },
   "outputs": [
    {
     "name": "stdout",
     "output_type": "stream",
     "text": [
      "The Root Mean Squared Error  1.7076843204\n"
     ]
    },
    {
     "data": {
      "text/plain": [
       "\"    \\nfor i in range(np.size(y)-1):\\n    error += (y[i] - net.activate(y[i]))**2;\\nprint('The error is Error = ', (error/np.size(y)))\\n\""
      ]
     },
     "execution_count": 140,
     "metadata": {},
     "output_type": "execute_result"
    }
   ],
   "source": [
    "#from sklearn.metrics import mean_squared_error\n",
    "from math import sqrt\n",
    "#from __future__ import math\n",
    "\n",
    "\n",
    "sample = y[1050:1495];\n",
    "target = y[1051:1496];\n",
    "error = 0.0;\n",
    "printl = 0;\n",
    "eer = 0.0;\n",
    "for i in range(np.size(sample)):\n",
    "    error += (net.activate(sample[i])-sample[i])**2;\n",
    "    if printl :\n",
    "        print(\"               sample = %4.1f\" % sample[i])\n",
    "        print(\"predicted next sample = %4.1f\" % net.activate(sample[i]))\n",
    "        print(\"   actual next sample = %4.1f\" % target[i])\n",
    "        print()      \n",
    "err = sqrt(error/np.size(sample));    \n",
    "print(\"The Root Mean Squared Error \",err);\n",
    "    \n",
    "'''    \n",
    "for i in range(np.size(y)-1):\n",
    "    error += (y[i] - net.activate(y[i]))**2;\n",
    "print('The error is Error = ', (error/np.size(y)))\n",
    "'''"
   ]
  },
  {
   "cell_type": "code",
   "execution_count": null,
   "metadata": {
    "collapsed": true
   },
   "outputs": [],
   "source": [
    "# draw the two function side by side please"
   ]
  }
 ],
 "metadata": {
  "kernelspec": {
   "display_name": "Python 2",
   "language": "python",
   "name": "python2"
  },
  "language_info": {
   "codemirror_mode": {
    "name": "ipython",
    "version": 2
   },
   "file_extension": ".py",
   "mimetype": "text/x-python",
   "name": "python",
   "nbconvert_exporter": "python",
   "pygments_lexer": "ipython2",
   "version": "2.7.11"
  }
 },
 "nbformat": 4,
 "nbformat_minor": 0
}
