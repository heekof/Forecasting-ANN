{
 "cells": [
  {
   "cell_type": "code",
   "execution_count": 95,
   "metadata": {
    "collapsed": true
   },
   "outputs": [],
   "source": [
    "import numpy as np\n",
    "import pandas as pd\n",
    "from pandas import Series,DataFrame\n",
    "import time as t\n",
    "import datetime as dt\n",
    "import string as st\n",
    "%matplotlib inline\n",
    "import matplotlib\n",
    "import matplotlib.pyplot as plt\n",
    "from numpy import genfromtxt\n",
    "import math as m\n",
    "from __future__ import print_function"
   ]
  },
  {
   "cell_type": "code",
   "execution_count": 96,
   "metadata": {
    "collapsed": false
   },
   "outputs": [
    {
     "name": "stdout",
     "output_type": "stream",
     "text": [
      "[ 6.9375      7.53333333  6.33333333 ...,  6.33333333  8.          7.53333333]\n"
     ]
    }
   ],
   "source": [
    "X_matrix = np.genfromtxt('Martrix_X_streamingserver.csv', delimiter=';');\n",
    "#Y_matrix = np.genfromtxt('Martrix_Y_streamingserver.csv', delimiter=';');\n",
    "y = np.genfromtxt('Martrix_Y_streamingserver.csv',delimiter=';')\n",
    "\n",
    "#data = [1] * 3 + [2] * 3\n",
    "#data *= 3\n",
    "data = y;\n",
    "print(data)"
   ]
  },
  {
   "cell_type": "code",
   "execution_count": 97,
   "metadata": {
    "collapsed": false
   },
   "outputs": [],
   "source": [
    "from pybrain.datasets import SequentialDataSet\n",
    "from itertools import cycle\n",
    "\n",
    "ds = SequentialDataSet(1, 1)\n",
    "for sample, next_sample in zip(data, cycle(data[1:])):\n",
    "    ds.addSample(sample, next_sample)"
   ]
  },
  {
   "cell_type": "code",
   "execution_count": 98,
   "metadata": {
    "collapsed": true
   },
   "outputs": [],
   "source": [
    "from pybrain.tools.shortcuts import buildNetwork\n",
    "from pybrain.structure.modules import LSTMLayer\n",
    "\n",
    "net = buildNetwork(1, 5, 1, \n",
    "                   hiddenclass=LSTMLayer, outputbias=False, recurrent=True)"
   ]
  },
  {
   "cell_type": "code",
   "execution_count": 99,
   "metadata": {
    "collapsed": false
   },
   "outputs": [
    {
     "name": "stdout",
     "output_type": "stream",
     "text": [
      " epoch 500/500\n",
      "final error = 1.65987949037\n"
     ]
    }
   ],
   "source": [
    "from pybrain.supervised import RPropMinusTrainer\n",
    "from sys import stdout\n",
    "\n",
    "trainer = RPropMinusTrainer(net, dataset=ds)\n",
    "train_errors = [] # save errors for plotting later\n",
    "EPOCHS_PER_CYCLE = 5\n",
    "CYCLES = 100\n",
    "EPOCHS = EPOCHS_PER_CYCLE * CYCLES\n",
    "for i in xrange(CYCLES):\n",
    "    trainer.trainEpochs(EPOCHS_PER_CYCLE)\n",
    "    train_errors.append(trainer.testOnData())\n",
    "    epoch = (i+1) * EPOCHS_PER_CYCLE\n",
    "    print(\"\\r epoch {}/{}\".format(epoch, EPOCHS), end=\"\")\n",
    "    stdout.flush()\n",
    "\n",
    "print()\n",
    "print(\"final error =\", train_errors[-1])"
   ]
  },
  {
   "cell_type": "code",
   "execution_count": 100,
   "metadata": {
    "collapsed": false
   },
   "outputs": [
    {
     "data": {
      "text/plain": [
       "<matplotlib.text.Text at 0xc1dd1d0>"
      ]
     },
     "execution_count": 100,
     "metadata": {},
     "output_type": "execute_result"
    },
    {
     "data": {
      "image/png": "[encoded data removed]",
      "text/plain": [
       "<matplotlib.figure.Figure at 0xc1c4710>"
      ]
     },
     "metadata": {},
     "output_type": "display_data"
    }
   ],
   "source": [
    "import matplotlib.pyplot as plt\n",
    "\n",
    "plt.plot(range(0, EPOCHS, EPOCHS_PER_CYCLE), train_errors)\n",
    "plt.xlabel('epoch')\n",
    "plt.ylabel('error')"
   ]
  },
  {
   "cell_type": "code",
   "execution_count": 102,
   "metadata": {
    "collapsed": false
   },
   "outputs": [
    {
     "name": "stdout",
     "output_type": "stream",
     "text": [
      "               sample =  7.5\n",
      "predicted next sample =  7.7\n",
      "   actual next sample = 10.3\n",
      "\n",
      "               sample = 10.3\n",
      "predicted next sample =  6.4\n",
      "   actual next sample =  6.4\n",
      "\n",
      "               sample =  6.4\n",
      "predicted next sample =  8.6\n",
      "   actual next sample =  7.9\n",
      "\n",
      "               sample =  7.9\n",
      "predicted next sample =  7.3\n",
      "   actual next sample =  6.3\n",
      "\n",
      "               sample =  6.3\n",
      "predicted next sample =  8.6\n",
      "   actual next sample =  8.9\n",
      "\n",
      "               sample =  8.9\n",
      "predicted next sample =  6.8\n",
      "   actual next sample =  6.5\n",
      "\n",
      "               sample =  6.5\n",
      "predicted next sample =  8.5\n",
      "   actual next sample =  8.3\n",
      "\n",
      "               sample =  8.3\n",
      "predicted next sample =  7.1\n",
      "   actual next sample =  7.5\n",
      "\n",
      "               sample =  7.5\n",
      "predicted next sample =  7.8\n",
      "   actual next sample =  7.9\n",
      "\n",
      "               sample =  7.9\n",
      "predicted next sample =  7.5\n",
      "   actual next sample =  7.9\n",
      "\n",
      "               sample =  7.9\n",
      "predicted next sample =  7.5\n",
      "   actual next sample =  9.1\n",
      "\n",
      "               sample =  9.1\n",
      "predicted next sample =  6.8\n",
      "   actual next sample =  6.4\n",
      "\n",
      "               sample =  6.4\n",
      "predicted next sample =  8.7\n",
      "   actual next sample =  9.1\n",
      "\n",
      "               sample =  9.1\n",
      "predicted next sample =  6.7\n",
      "   actual next sample =  7.1\n",
      "\n",
      "               sample =  7.1\n",
      "predicted next sample =  8.1\n",
      "   actual next sample =  9.2\n",
      "\n",
      "               sample =  9.2\n",
      "predicted next sample =  6.8\n",
      "   actual next sample =  8.3\n",
      "\n",
      "               sample =  8.3\n",
      "predicted next sample =  7.2\n",
      "   actual next sample =  8.3\n",
      "\n",
      "               sample =  8.3\n",
      "predicted next sample =  7.2\n",
      "   actual next sample =  8.1\n",
      "\n",
      "               sample =  8.1\n",
      "predicted next sample =  7.4\n",
      "   actual next sample =  8.9\n",
      "\n",
      "               sample =  8.9\n",
      "predicted next sample =  6.9\n",
      "   actual next sample =  5.9\n",
      "\n",
      "The error is Error =  [ 566.46049798]\n"
     ]
    }
   ],
   "source": [
    "sample = y[10:30];\n",
    "target = y[11:31];\n",
    "error = 0.0;\n",
    "for i in range(np.size(sample)):\n",
    "    print(\"               sample = %4.1f\" % sample[i])\n",
    "    print(\"predicted next sample = %4.1f\" % net.activate(sample[i]))\n",
    "    print(\"   actual next sample = %4.1f\" % target[i])\n",
    "    #error += (sample[i] - net.activate(sample[i]))**2;\n",
    "    print()\n",
    "    \n",
    "    \n",
    "for i in range(np.size(y)-1):\n",
    "    error += (y[i] - net.activate(y[i]))**2;\n",
    "print('The error is Error = ', (error/np.size(y)))"
   ]
  },
  {
   "cell_type": "code",
   "execution_count": null,
   "metadata": {
    "collapsed": true
   },
   "outputs": [],
   "source": []
  }
 ],
 "metadata": {
  "kernelspec": {
   "display_name": "Python 2",
   "language": "python",
   "name": "python2"
  },
  "language_info": {
   "codemirror_mode": {
    "name": "ipython",
    "version": 2
   },
   "file_extension": ".py",
   "mimetype": "text/x-python",
   "name": "python",
   "nbconvert_exporter": "python",
   "pygments_lexer": "ipython2",
   "version": "2.7.11"
  }
 },
 "nbformat": 4,
 "nbformat_minor": 0
}
