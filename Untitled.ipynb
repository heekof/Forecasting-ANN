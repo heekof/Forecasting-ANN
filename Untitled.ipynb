{
 "cells": [
  {
   "cell_type": "code",
   "execution_count": 30,
   "metadata": {
    "collapsed": false
   },
   "outputs": [],
   "source": [
    "import matplotlib\n",
    "matplotlib.use(\"TkAgg\")\n",
    "from matplotlib.backends.backend_tkagg import FigureCanvasTkAgg, NavigationToolbar2TkAgg\n",
    "from matplotlib.figure import Figure\n",
    "import matplotlib.animation as animation\n",
    "from matplotlib import style\n",
    "import numpy as np\n",
    "from util import *\n",
    "#%matplotlib inline\n",
    "import matplotlib\n",
    "import matplotlib.pyplot as plt\n",
    "import pandas as pd\n",
    "from pandas import Series,DataFrame\n",
    "import matplotlib.animation as animation\n",
    "import time\n",
    "import datetime as dt\n",
    "\n",
    "\n",
    "\n",
    "import pandas as pd\n",
    "import numpy as np\n",
    "\n",
    "\n",
    "LARGE_FONT= (\"Verdana\", 12)\n",
    "style.use(\"ggplot\")\n",
    "\n",
    "\n",
    "\n",
    "\n",
    "fig = plt.figure(figsize=(10,6), dpi=100)\n",
    "ax1 = fig.add_subplot(1,1,1)\n",
    "\n",
    "def animate(i):\n",
    "\n",
    "\n",
    "    data = DataFrame.from_csv(\"data_df.csv\",sep=';')\n",
    "    buys = data.index\n",
    "    buys\n",
    "    temps = np.array(buys).astype(\"datetime64[s]\")\n",
    "    buyDates = temps.tolist()\n",
    "    buyDates\n",
    "    \n",
    "    A = data['load.avg_1_min'];\n",
    "    B = data['cpu.wait_perc'];\n",
    "\n",
    "    ax1.clear()\n",
    "    \n",
    "    \n",
    "    ax1.set_title(\"Realtime metric \"+str(data.columns.values))\n",
    "    ax1.set_xlabel(\"Time\")\n",
    "    ax1.set_ylabel(\"Values of\")\n",
    "    ax1.\n",
    "    ax1.plot_date(buyDates,A)\n",
    "    ax1.plot_date(buyDates,B)\n",
    "\n",
    "\n",
    "\n",
    "\n",
    "\n",
    "\n",
    "ani = animation.FuncAnimation(fig, animate, interval=1000)\n",
    "\n",
    "plt.show()"
   ]
  },
  {
   "cell_type": "code",
   "execution_count": 31,
   "metadata": {
    "collapsed": false
   },
   "outputs": [
    {
     "data": {
      "text/plain": [
       "matplotlib.axes._subplots.AxesSubplot"
      ]
     },
     "execution_count": 31,
     "metadata": {},
     "output_type": "execute_result"
    }
   ],
   "source": [
    "ax1 = fig.add_subplot(1,1,1)\n",
    "type(ax1)"
   ]
  },
  {
   "cell_type": "markdown",
   "metadata": {},
   "source": [
    "##### sfddfs\n"
   ]
  },
  {
   "cell_type": "markdown",
   "metadata": {},
   "source": [
    "###  kfslkds\n"
   ]
  },
  {
   "cell_type": "code",
   "execution_count": 1,
   "metadata": {
    "collapsed": true
   },
   "outputs": [],
   "source": [
    "import datetime\n",
    "import time\n",
    "from time import gmtime, strftime\n",
    "import os\n",
    "# Import libraries use for visualization and analysis\n",
    "import pandas as pd\n",
    "import numpy as np\n",
    "%matplotlib inline\n",
    "import matplotlib\n",
    "import matplotlib.pyplot as plt\n",
    "\n",
    "import cufflinks as cf\n",
    "\n",
    "from monascaclient import client\n",
    "from monascaclient import ksclient\n",
    "\n",
    "\n",
    "from pandas import Series,DataFrame\n",
    "\n",
    "import math\n",
    "from __future__ import division\n",
    "\n",
    "# Import library to execute remote commands for monasca-agent demo\n",
    "import spur\n",
    "import matplotlib.pyplot as plt\n",
    "import seaborn as sns\n",
    "\n",
    "import time as t\n",
    "import datetime as dt"
   ]
  },
  {
   "cell_type": "code",
   "execution_count": null,
   "metadata": {
    "collapsed": true
   },
   "outputs": [],
   "source": []
  },
  {
   "cell_type": "code",
   "execution_count": null,
   "metadata": {
    "collapsed": true
   },
   "outputs": [],
   "source": []
  },
  {
   "cell_type": "code",
   "execution_count": null,
   "metadata": {
    "collapsed": true
   },
   "outputs": [],
   "source": []
  },
  {
   "cell_type": "code",
   "execution_count": null,
   "metadata": {
    "collapsed": true
   },
   "outputs": [],
   "source": []
  },
  {
   "cell_type": "code",
   "execution_count": null,
   "metadata": {
    "collapsed": true
   },
   "outputs": [],
   "source": []
  },
  {
   "cell_type": "code",
   "execution_count": 2,
   "metadata": {
    "collapsed": true
   },
   "outputs": [],
   "source": [
    " data = DataFrame.from_csv(\"Data/data_df.csv\",sep=';')\n"
   ]
  },
  {
   "cell_type": "code",
   "execution_count": 3,
   "metadata": {
    "collapsed": true
   },
   "outputs": [],
   "source": [
    "    A = data['predict'];\n",
    "    B = data['cpu.wait_perc'];"
   ]
  },
  {
   "cell_type": "code",
   "execution_count": 5,
   "metadata": {
    "collapsed": false
   },
   "outputs": [
    {
     "data": {
      "text/plain": [
       "Timestamp\n",
       "1473786630    10.4\n",
       "1473786660    10.1\n",
       "1473786690    11.4\n",
       "1473786720    14.4\n",
       "1473786750    14.5\n",
       "1473786780    11.4\n",
       "1473786810    10.2\n",
       "1473786840    10.4\n",
       "1473786870    12.0\n",
       "1473786900    15.6\n",
       "1473786930    15.4\n",
       "1473786960    14.7\n",
       "1473786990    11.4\n",
       "1473787020    10.3\n",
       "1473787050    10.7\n",
       "1473787080    10.6\n",
       "1473787110    11.6\n",
       "1473787140    11.8\n",
       "1473787170    10.5\n",
       "1473787200    10.7\n",
       "1473787230    10.1\n",
       "1473787260    10.2\n",
       "1473787290    10.2\n",
       "1473787320    12.1\n",
       "1473787350    11.2\n",
       "1473787380    10.8\n",
       "1473787410    13.0\n",
       "1473787440    13.6\n",
       "1473787470    13.1\n",
       "1473787500    13.3\n",
       "              ... \n",
       "1473787770    11.6\n",
       "1473787800    11.2\n",
       "1473787830    13.6\n",
       "1473787860    13.4\n",
       "1473787890    13.1\n",
       "1473787920    12.6\n",
       "1473787950    13.9\n",
       "1473787980    14.5\n",
       "1473788010    14.9\n",
       "1473788040    14.8\n",
       "1473788070    12.3\n",
       "1473788100    10.4\n",
       "1473788130    10.5\n",
       "1473788160    12.6\n",
       "1473788190    14.7\n",
       "1473788220    13.1\n",
       "1473788250    12.7\n",
       "1473788280    11.2\n",
       "1473788310    10.8\n",
       "1473788340    10.5\n",
       "1473788370    13.0\n",
       "1473788400    15.2\n",
       "1473788430    15.0\n",
       "1473788460    12.1\n",
       "1473788490    10.2\n",
       "1473788520    10.0\n",
       "1473788550    13.8\n",
       "1473788580    14.8\n",
       "1473788610    14.8\n",
       "1473788640    13.6\n",
       "Name: cpu.wait_perc, dtype: float64"
      ]
     },
     "execution_count": 5,
     "metadata": {},
     "output_type": "execute_result"
    }
   ],
   "source": [
    "B"
   ]
  },
  {
   "cell_type": "code",
   "execution_count": null,
   "metadata": {
    "collapsed": true
   },
   "outputs": [],
   "source": []
  }
 ],
 "metadata": {
  "kernelspec": {
   "display_name": "Python 2",
   "language": "python",
   "name": "python2"
  },
  "language_info": {
   "codemirror_mode": {
    "name": "ipython",
    "version": 2
   },
   "file_extension": ".py",
   "mimetype": "text/x-python",
   "name": "python",
   "nbconvert_exporter": "python",
   "pygments_lexer": "ipython2",
   "version": "2.7.11"
  }
 },
 "nbformat": 4,
 "nbformat_minor": 0
}
