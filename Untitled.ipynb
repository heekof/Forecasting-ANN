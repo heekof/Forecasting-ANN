{
 "cells": [
  {
   "cell_type": "code",
   "execution_count": 30,
   "metadata": {
    "collapsed": false
   },
   "outputs": [],
   "source": [
    "import matplotlib\n",
    "matplotlib.use(\"TkAgg\")\n",
    "from matplotlib.backends.backend_tkagg import FigureCanvasTkAgg, NavigationToolbar2TkAgg\n",
    "from matplotlib.figure import Figure\n",
    "import matplotlib.animation as animation\n",
    "from matplotlib import style\n",
    "import numpy as np\n",
    "from util import *\n",
    "#%matplotlib inline\n",
    "import matplotlib\n",
    "import matplotlib.pyplot as plt\n",
    "import pandas as pd\n",
    "from pandas import Series,DataFrame\n",
    "import matplotlib.animation as animation\n",
    "import time\n",
    "import datetime as dt\n",
    "\n",
    "\n",
    "\n",
    "import pandas as pd\n",
    "import numpy as np\n",
    "\n",
    "\n",
    "LARGE_FONT= (\"Verdana\", 12)\n",
    "style.use(\"ggplot\")\n",
    "\n",
    "\n",
    "\n",
    "\n",
    "fig = plt.figure(figsize=(10,6), dpi=100)\n",
    "ax1 = fig.add_subplot(1,1,1)\n",
    "\n",
    "def animate(i):\n",
    "\n",
    "\n",
    "    data = DataFrame.from_csv(\"data_df.csv\",sep=';')\n",
    "    buys = data.index\n",
    "    buys\n",
    "    temps = np.array(buys).astype(\"datetime64[s]\")\n",
    "    buyDates = temps.tolist()\n",
    "    buyDates\n",
    "    \n",
    "    A = data['load.avg_1_min'];\n",
    "    B = data['cpu.wait_perc'];\n",
    "\n",
    "    ax1.clear()\n",
    "    \n",
    "    \n",
    "    ax1.set_title(\"Realtime metric \"+str(data.columns.values))\n",
    "    ax1.set_xlabel(\"Time\")\n",
    "    ax1.set_ylabel(\"Values of\")\n",
    "    ax1.\n",
    "    ax1.plot_date(buyDates,A)\n",
    "    ax1.plot_date(buyDates,B)\n",
    "\n",
    "\n",
    "\n",
    "\n",
    "\n",
    "\n",
    "ani = animation.FuncAnimation(fig, animate, interval=1000)\n",
    "\n",
    "plt.show()"
   ]
  },
  {
   "cell_type": "code",
   "execution_count": 31,
   "metadata": {
    "collapsed": false
   },
   "outputs": [
    {
     "data": {
      "text/plain": [
       "matplotlib.axes._subplots.AxesSubplot"
      ]
     },
     "execution_count": 31,
     "metadata": {},
     "output_type": "execute_result"
    }
   ],
   "source": [
    "ax1 = fig.add_subplot(1,1,1)\n",
    "type(ax1)"
   ]
  },
  {
   "cell_type": "markdown",
   "metadata": {},
   "source": [
    "##### sfddfs\n"
   ]
  },
  {
   "cell_type": "markdown",
   "metadata": {},
   "source": [
    "###  kfslkds\n"
   ]
  },
  {
   "cell_type": "code",
   "execution_count": null,
   "metadata": {
    "collapsed": true
   },
   "outputs": [],
   "source": []
  }
 ],
 "metadata": {
  "kernelspec": {
   "display_name": "Python 2",
   "language": "python",
   "name": "python2"
  },
  "language_info": {
   "codemirror_mode": {
    "name": "ipython",
    "version": 2
   },
   "file_extension": ".py",
   "mimetype": "text/x-python",
   "name": "python",
   "nbconvert_exporter": "python",
   "pygments_lexer": "ipython2",
   "version": "2.7.11"
  }
 },
 "nbformat": 4,
 "nbformat_minor": 0
}
