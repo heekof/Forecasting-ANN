{
 "cells": [
  {
   "cell_type": "markdown",
   "metadata": {},
   "source": [
    "# MNIST dataset"
   ]
  },
  {
   "cell_type": "code",
   "execution_count": 1,
   "metadata": {
    "collapsed": true
   },
   "outputs": [],
   "source": [
    "from __future__ import print_function\n",
    "\n",
    "%matplotlib inline\n",
    "import matplotlib.pyplot as plt\n",
    "\n",
    "import numpy as np\n",
    "from sklearn.metrics import confusion_matrix, classification_report, accuracy_score\n",
    "from sklearn.preprocessing import LabelBinarizer\n",
    "import ann_util"
   ]
  },
  {
   "cell_type": "markdown",
   "metadata": {},
   "source": [
    "# Load the MNIST dataset"
   ]
  },
  {
   "cell_type": "code",
   "execution_count": 2,
   "metadata": {
    "collapsed": true
   },
   "outputs": [],
   "source": [
    "# The MNIST database of handwritten digits, available from this page, \n",
    "# has a training set of 60,000 examples, and a test set of 10,000 examples.\n",
    "# 28 x 28 pixels\n",
    "\n",
    "# text version of http://yann.lecun.com/exdb/mnist/ (Yann LeCun)\n",
    "# has TEST ERROR RATE (%) for different approaches - so check it out!\n",
    "\n",
    "# unzip the files at /data/mnist/mnist_train_data.zip\n",
    "data_fname = 'data/mnist/mnist_test_data.txt'\n",
    "label_fname = 'data/mnist/mnist_test_label.txt'"
   ]
  },
  {
   "cell_type": "code",
   "execution_count": 3,
   "metadata": {
    "collapsed": false
   },
   "outputs": [],
   "source": [
    "X = [] # sample\n",
    "y = [] # label\n",
    "with open(data_fname, 'r') as fd, open(label_fname, 'r') as fl:\n",
    "    for line in fd:\n",
    "        img = line.split()\n",
    "        pixels = [int(pixel) for pixel in img]\n",
    "        X.append(pixels)\n",
    "    for line in fl:\n",
    "        label = int(line)\n",
    "        y.append(label)"
   ]
  },
  {
   "cell_type": "code",
   "execution_count": 4,
   "metadata": {
    "collapsed": false
   },
   "outputs": [
    {
     "name": "stdout",
     "output_type": "stream",
     "text": [
      "(10000L, 784L)\n",
      "(10000L,)\n"
     ]
    }
   ],
   "source": [
    "X = np.array(X, np.float)\n",
    "y = np.array(y, np.float)\n",
    "print(X.shape)\n",
    "print(y.shape)"
   ]
  },
  {
   "cell_type": "code",
   "execution_count": 5,
   "metadata": {
    "collapsed": false
   },
   "outputs": [],
   "source": [
    "# for consistency\n",
    "X_test, y_test = X, y"
   ]
  },
  {
   "cell_type": "markdown",
   "metadata": {},
   "source": [
    "# Visualize"
   ]
  },
  {
   "cell_type": "code",
   "execution_count": 6,
   "metadata": {
    "collapsed": true
   },
   "outputs": [],
   "source": [
    "def print_digits(X, y, y_pred=None):\n",
    "    # set up the figure\n",
    "    fig = plt.figure(figsize=(6, 6))  # figure size in inches\n",
    "    fig.subplots_adjust(left=0, right=1, bottom=0, top=1, hspace=0.05, wspace=0.05)\n",
    "    \n",
    "    n = np.min([25, len(X)])\n",
    "    for i in range(n):\n",
    "        img = X[i]\n",
    "        img = np.array(img, np.float)\n",
    "        img = img.reshape((28, 28))\n",
    "\n",
    "        ax = fig.add_subplot(5, 5, i + 1, xticks=[], yticks=[])\n",
    "        ax.imshow(img, cmap=plt.cm.binary, interpolation='nearest')\n",
    "\n",
    "        # label the image with the target value\n",
    "        if y_pred is None:\n",
    "            ax.text(0, 7, str(int(y[i])), color='b')\n",
    "        elif y_pred[i] == y[i]:\n",
    "            ax.text(0, 7, str(int(y_pred[i])), color='g')\n",
    "        else:\n",
    "            ax.text(0, 7, str(int(y_pred[i])), color='r')"
   ]
  },
  {
   "cell_type": "code",
   "execution_count": 7,
   "metadata": {
    "collapsed": false
   },
   "outputs": [
    {
     "data": {
      "image/png": "[encoded data removed]",
      "text/plain": [
       "<matplotlib.figure.Figure at 0x9800c50>"
      ]
     },
     "metadata": {},
     "output_type": "display_data"
    }
   ],
   "source": [
    "print_digits(X_test, y_test)"
   ]
  },
  {
   "cell_type": "markdown",
   "metadata": {},
   "source": [
    "# Transform the data"
   ]
  },
  {
   "cell_type": "code",
   "execution_count": 8,
   "metadata": {
    "collapsed": true
   },
   "outputs": [],
   "source": [
    "# scale\n",
    "X -= X.min()\n",
    "X /= X.max()"
   ]
  },
  {
   "cell_type": "code",
   "execution_count": 9,
   "metadata": {
    "collapsed": false
   },
   "outputs": [
    {
     "data": {
      "text/plain": [
       "LabelBinarizer(neg_label=0, pos_label=1, sparse_output=False)"
      ]
     },
     "execution_count": 9,
     "metadata": {},
     "output_type": "execute_result"
    }
   ],
   "source": [
    "ylb = LabelBinarizer()\n",
    "ylb.fit(y)"
   ]
  },
  {
   "cell_type": "markdown",
   "metadata": {},
   "source": [
    "# Load a saved ANN model"
   ]
  },
  {
   "cell_type": "code",
   "execution_count": 10,
   "metadata": {
    "collapsed": true
   },
   "outputs": [],
   "source": [
    "# load a nn model ex: /models/nn_mnist_iter1600000.pickle\n",
    "model_fname = 'nn_mnist_iter1600000.pickle'\n",
    "nn = ann_util.deserialize('models/' + model_fname)"
   ]
  },
  {
   "cell_type": "code",
   "execution_count": 11,
   "metadata": {
    "collapsed": false
   },
   "outputs": [
    {
     "name": "stdout",
     "output_type": "stream",
     "text": [
      "0 784\n",
      "1 300\n",
      "2 10\n"
     ]
    }
   ],
   "source": [
    "# print the layer sizes\n",
    "for layer in nn.layers:\n",
    "    print(layer.id, layer.n_neurons)"
   ]
  },
  {
   "cell_type": "code",
   "execution_count": 12,
   "metadata": {
    "collapsed": true
   },
   "outputs": [],
   "source": [
    "# skip this cell to process all testing data\n",
    "# use the first 1000 samples to speed up\n",
    "X_test = X_test[:1000]\n",
    "y_test = y_test[:1000]"
   ]
  },
  {
   "cell_type": "markdown",
   "metadata": {},
   "source": [
    "# Predict"
   ]
  },
  {
   "cell_type": "code",
   "execution_count": 13,
   "metadata": {
    "collapsed": false
   },
   "outputs": [],
   "source": [
    "preds = np.array([nn.predict(record) for record in X_test])"
   ]
  },
  {
   "cell_type": "code",
   "execution_count": 14,
   "metadata": {
    "collapsed": true
   },
   "outputs": [],
   "source": [
    "y_pred = ylb.inverse_transform(preds)"
   ]
  },
  {
   "cell_type": "markdown",
   "metadata": {},
   "source": [
    "# Measure"
   ]
  },
  {
   "cell_type": "code",
   "execution_count": 15,
   "metadata": {
    "collapsed": false
   },
   "outputs": [
    {
     "name": "stdout",
     "output_type": "stream",
     "text": [
      "[[ 85   0   0   0   0   0   0   0   0   0]\n",
      " [  0 124   1   0   0   0   0   0   1   0]\n",
      " [  0   1 114   0   0   0   0   1   0   0]\n",
      " [  0   0   0 105   0   1   0   1   0   0]\n",
      " [  0   0   1   0 109   0   0   0   0   0]\n",
      " [  0   0   0   1   0  83   1   1   1   0]\n",
      " [  2   0   0   0   0   0  85   0   0   0]\n",
      " [  0   0   0   1   0   0   0  98   0   0]\n",
      " [  0   0   2   0   0   0   0   1  86   0]\n",
      " [  0   0   0   1   0   0   0   1   1  91]]\n"
     ]
    }
   ],
   "source": [
    "print(confusion_matrix(y_test, y_pred))"
   ]
  },
  {
   "cell_type": "code",
   "execution_count": 16,
   "metadata": {
    "collapsed": false
   },
   "outputs": [
    {
     "name": "stdout",
     "output_type": "stream",
     "text": [
      "             precision    recall  f1-score   support\n",
      "\n",
      "        0.0       0.98      1.00      0.99        85\n",
      "        1.0       0.99      0.98      0.99       126\n",
      "        2.0       0.97      0.98      0.97       116\n",
      "        3.0       0.97      0.98      0.98       107\n",
      "        4.0       1.00      0.99      1.00       110\n",
      "        5.0       0.99      0.95      0.97        87\n",
      "        6.0       0.99      0.98      0.98        87\n",
      "        7.0       0.95      0.99      0.97        99\n",
      "        8.0       0.97      0.97      0.97        89\n",
      "        9.0       1.00      0.97      0.98        94\n",
      "\n",
      "avg / total       0.98      0.98      0.98      1000\n",
      "\n"
     ]
    }
   ],
   "source": [
    "print(classification_report(y_test, y_pred))"
   ]
  },
  {
   "cell_type": "code",
   "execution_count": 17,
   "metadata": {
    "collapsed": false
   },
   "outputs": [
    {
     "name": "stdout",
     "output_type": "stream",
     "text": [
      "0.98\n"
     ]
    }
   ],
   "source": [
    "print(accuracy_score(y_test, y_pred))"
   ]
  },
  {
   "cell_type": "code",
   "execution_count": 18,
   "metadata": {
    "collapsed": false
   },
   "outputs": [
    {
     "data": {
      "image/png": "[encoded data removed]",
      "text/plain": [
       "<matplotlib.figure.Figure at 0x35f95c0>"
      ]
     },
     "metadata": {},
     "output_type": "display_data"
    }
   ],
   "source": [
    "print_digits(X_test, y_test, y_pred)"
   ]
  },
  {
   "cell_type": "code",
   "execution_count": 19,
   "metadata": {
    "collapsed": false
   },
   "outputs": [
    {
     "data": {
      "image/png": "[encoded data removed]",
      "text/plain": [
       "<matplotlib.figure.Figure at 0x1f6e9e48>"
      ]
     },
     "metadata": {},
     "output_type": "display_data"
    }
   ],
   "source": [
    "failed = y_pred != y_test\n",
    "X2_test = X_test[failed] \n",
    "y2_pred = y_pred[failed] \n",
    "y2_test = y_test[failed]\n",
    "print_digits(X2_test, y2_test, y2_pred)"
   ]
  },
  {
   "cell_type": "markdown",
   "metadata": {
    "collapsed": true
   },
   "source": [
    "# Congratulations!"
   ]
  },
  {
   "cell_type": "code",
   "execution_count": null,
   "metadata": {
    "collapsed": true
   },
   "outputs": [],
   "source": []
  }
 ],
 "metadata": {
  "kernelspec": {
   "display_name": "Python 2",
   "language": "python",
   "name": "python2"
  },
  "language_info": {
   "codemirror_mode": {
    "name": "ipython",
    "version": 2
   },
   "file_extension": ".py",
   "mimetype": "text/x-python",
   "name": "python",
   "nbconvert_exporter": "python",
   "pygments_lexer": "ipython2",
   "version": "2.7.11"
  }
 },
 "nbformat": 4,
 "nbformat_minor": 0
}
