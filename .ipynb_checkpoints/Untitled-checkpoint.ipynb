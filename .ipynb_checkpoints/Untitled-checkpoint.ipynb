{
 "cells": [
  {
   "cell_type": "code",
   "execution_count": null,
   "metadata": {
    "collapsed": false
   },
   "outputs": [
    {
     "name": "stderr",
     "output_type": "stream",
     "text": [
      "Exception in Tkinter callback\n",
      "Traceback (most recent call last):\n",
      "  File \"/home/jaafar/anaconda2/lib/python2.7/lib-tk/Tkinter.py\", line 1536, in __call__\n",
      "    return self.func(*args)\n",
      "  File \"/home/jaafar/anaconda2/lib/python2.7/lib-tk/Tkinter.py\", line 587, in callit\n",
      "    func(*args)\n",
      "  File \"/home/jaafar/anaconda2/lib/python2.7/site-packages/matplotlib/backends/backend_tkagg.py\", line 373, in idle_draw\n",
      "    self.draw()\n",
      "  File \"/home/jaafar/anaconda2/lib/python2.7/site-packages/matplotlib/backends/backend_tkagg.py\", line 354, in draw\n",
      "    FigureCanvasAgg.draw(self)\n",
      "  File \"/home/jaafar/anaconda2/lib/python2.7/site-packages/matplotlib/backends/backend_agg.py\", line 474, in draw\n",
      "    self.figure.draw(self.renderer)\n",
      "  File \"/home/jaafar/anaconda2/lib/python2.7/site-packages/matplotlib/artist.py\", line 61, in draw_wrapper\n",
      "    draw(artist, renderer, *args, **kwargs)\n",
      "  File \"/home/jaafar/anaconda2/lib/python2.7/site-packages/matplotlib/figure.py\", line 1159, in draw\n",
      "    func(*args)\n",
      "  File \"/home/jaafar/anaconda2/lib/python2.7/site-packages/matplotlib/artist.py\", line 61, in draw_wrapper\n",
      "    draw(artist, renderer, *args, **kwargs)\n",
      "  File \"/home/jaafar/anaconda2/lib/python2.7/site-packages/matplotlib/axes/_base.py\", line 2324, in draw\n",
      "    a.draw(renderer)\n",
      "  File \"/home/jaafar/anaconda2/lib/python2.7/site-packages/matplotlib/artist.py\", line 61, in draw_wrapper\n",
      "    draw(artist, renderer, *args, **kwargs)\n",
      "  File \"/home/jaafar/anaconda2/lib/python2.7/site-packages/matplotlib/axis.py\", line 1106, in draw\n",
      "    ticks_to_draw = self._update_ticks(renderer)\n",
      "  File \"/home/jaafar/anaconda2/lib/python2.7/site-packages/matplotlib/axis.py\", line 949, in _update_ticks\n",
      "    tick_tups = [t for t in self.iter_ticks()]\n",
      "  File \"/home/jaafar/anaconda2/lib/python2.7/site-packages/matplotlib/axis.py\", line 892, in iter_ticks\n",
      "    majorLocs = self.major.locator()\n",
      "  File \"/home/jaafar/anaconda2/lib/python2.7/site-packages/matplotlib/dates.py\", line 1006, in __call__\n",
      "    self.refresh()\n",
      "  File \"/home/jaafar/anaconda2/lib/python2.7/site-packages/matplotlib/dates.py\", line 1026, in refresh\n",
      "    dmin, dmax = self.viewlim_to_dt()\n",
      "  File \"/home/jaafar/anaconda2/lib/python2.7/site-packages/matplotlib/dates.py\", line 770, in viewlim_to_dt\n",
      "    return num2date(vmin, self.tz), num2date(vmax, self.tz)\n",
      "  File \"/home/jaafar/anaconda2/lib/python2.7/site-packages/matplotlib/dates.py\", line 419, in num2date\n",
      "    return _from_ordinalf(x, tz)\n",
      "  File \"/home/jaafar/anaconda2/lib/python2.7/site-packages/matplotlib/dates.py\", line 271, in _from_ordinalf\n",
      "    dt = datetime.datetime.fromordinal(ix).replace(tzinfo=UTC)\n",
      "ValueError: year is out of range\n",
      "Exception in Tkinter callback\n",
      "Traceback (most recent call last):\n",
      "  File \"/home/jaafar/anaconda2/lib/python2.7/lib-tk/Tkinter.py\", line 1536, in __call__\n",
      "    return self.func(*args)\n",
      "  File \"/home/jaafar/anaconda2/lib/python2.7/lib-tk/Tkinter.py\", line 587, in callit\n",
      "    func(*args)\n",
      "  File \"/home/jaafar/anaconda2/lib/python2.7/site-packages/matplotlib/backends/backend_tkagg.py\", line 373, in idle_draw\n",
      "    self.draw()\n",
      "  File \"/home/jaafar/anaconda2/lib/python2.7/site-packages/matplotlib/backends/backend_tkagg.py\", line 354, in draw\n",
      "    FigureCanvasAgg.draw(self)\n",
      "  File \"/home/jaafar/anaconda2/lib/python2.7/site-packages/matplotlib/backends/backend_agg.py\", line 474, in draw\n",
      "    self.figure.draw(self.renderer)\n",
      "  File \"/home/jaafar/anaconda2/lib/python2.7/site-packages/matplotlib/artist.py\", line 61, in draw_wrapper\n",
      "    draw(artist, renderer, *args, **kwargs)\n",
      "  File \"/home/jaafar/anaconda2/lib/python2.7/site-packages/matplotlib/figure.py\", line 1159, in draw\n",
      "    func(*args)\n",
      "  File \"/home/jaafar/anaconda2/lib/python2.7/site-packages/matplotlib/artist.py\", line 61, in draw_wrapper\n",
      "    draw(artist, renderer, *args, **kwargs)\n",
      "  File \"/home/jaafar/anaconda2/lib/python2.7/site-packages/matplotlib/axes/_base.py\", line 2324, in draw\n",
      "    a.draw(renderer)\n",
      "  File \"/home/jaafar/anaconda2/lib/python2.7/site-packages/matplotlib/artist.py\", line 61, in draw_wrapper\n",
      "    draw(artist, renderer, *args, **kwargs)\n",
      "  File \"/home/jaafar/anaconda2/lib/python2.7/site-packages/matplotlib/axis.py\", line 1106, in draw\n",
      "    ticks_to_draw = self._update_ticks(renderer)\n",
      "  File \"/home/jaafar/anaconda2/lib/python2.7/site-packages/matplotlib/axis.py\", line 949, in _update_ticks\n",
      "    tick_tups = [t for t in self.iter_ticks()]\n",
      "  File \"/home/jaafar/anaconda2/lib/python2.7/site-packages/matplotlib/axis.py\", line 892, in iter_ticks\n",
      "    majorLocs = self.major.locator()\n",
      "  File \"/home/jaafar/anaconda2/lib/python2.7/site-packages/matplotlib/dates.py\", line 1006, in __call__\n",
      "    self.refresh()\n",
      "  File \"/home/jaafar/anaconda2/lib/python2.7/site-packages/matplotlib/dates.py\", line 1026, in refresh\n",
      "    dmin, dmax = self.viewlim_to_dt()\n",
      "  File \"/home/jaafar/anaconda2/lib/python2.7/site-packages/matplotlib/dates.py\", line 770, in viewlim_to_dt\n",
      "    return num2date(vmin, self.tz), num2date(vmax, self.tz)\n",
      "  File \"/home/jaafar/anaconda2/lib/python2.7/site-packages/matplotlib/dates.py\", line 419, in num2date\n",
      "    return _from_ordinalf(x, tz)\n",
      "  File \"/home/jaafar/anaconda2/lib/python2.7/site-packages/matplotlib/dates.py\", line 271, in _from_ordinalf\n",
      "    dt = datetime.datetime.fromordinal(ix).replace(tzinfo=UTC)\n",
      "ValueError: year is out of range\n"
     ]
    }
   ],
   "source": [
    "import matplotlib\n",
    "matplotlib.use(\"TkAgg\")\n",
    "from matplotlib.backends.backend_tkagg import FigureCanvasTkAgg, NavigationToolbar2TkAgg\n",
    "from matplotlib.figure import Figure\n",
    "import matplotlib.animation as animation\n",
    "from matplotlib import style\n",
    "import numpy as np\n",
    "from util import *\n",
    "#%matplotlib inline\n",
    "import matplotlib\n",
    "import matplotlib.pyplot as plt\n",
    "import pandas as pd\n",
    "from pandas import Series,DataFrame\n",
    "import matplotlib.animation as animation\n",
    "import time\n",
    "import datetime as dt\n",
    "\n",
    "\n",
    "\n",
    "import pandas as pd\n",
    "import numpy as np\n",
    "\n",
    "\n",
    "LARGE_FONT= (\"Verdana\", 12)\n",
    "style.use(\"ggplot\")\n",
    "\n",
    "\n",
    "\n",
    "\n",
    "fig = plt.figure(figsize=(10,6), dpi=100)\n",
    "ax1 = fig.add_subplot(1,1,1)\n",
    "\n",
    "def animate(i):\n",
    "\n",
    "\n",
    "    data = DataFrame.from_csv(\"data_df.csv\",sep=';')\n",
    "    buys = data.index\n",
    "    buys\n",
    "    temps = np.array(buys).astype(\"datetime64[s]\")\n",
    "    buyDates = temps.tolist()\n",
    "    buyDates\n",
    "    \n",
    "    A = data['load.avg_1_min'];\n",
    "    B = data['cpu.wait_perc'];\n",
    "\n",
    "    ax1.clear()\n",
    "    \n",
    "    \n",
    "    ax1.set_title(\"Realtime metric \"+str(data.columns.values))\n",
    "    ax1.set_xlabel(\"Time\")\n",
    "    ax1.set_ylabel(\"Values of\")\n",
    "\n",
    "    ax1.plot_date(buyDates,A)\n",
    "    ax1.plot_date(buyDates,B)\n",
    "\n",
    "\n",
    "\n",
    "\n",
    "\n",
    "\n",
    "ani = animation.FuncAnimation(fig, animate, interval=1000)\n",
    "\n",
    "plt.show()"
   ]
  },
  {
   "cell_type": "code",
   "execution_count": 27,
   "metadata": {
    "collapsed": false
   },
   "outputs": [
    {
     "data": {
      "text/plain": [
       "\"['load.avg_1_min' 'cpu.wait_perc' 'cpu.system_perc' 'mem.free_mb']\""
      ]
     },
     "execution_count": 27,
     "metadata": {},
     "output_type": "execute_result"
    }
   ],
   "source": [
    "data = DataFrame.from_csv(\"data_df.csv\",sep=\";\")\n",
    "\n",
    "\n",
    "str(data.columns.values)"
   ]
  },
  {
   "cell_type": "markdown",
   "metadata": {},
   "source": [
    "##### sfddfs\n"
   ]
  },
  {
   "cell_type": "markdown",
   "metadata": {},
   "source": [
    "###  kfslkds\n"
   ]
  },
  {
   "cell_type": "code",
   "execution_count": null,
   "metadata": {
    "collapsed": true
   },
   "outputs": [],
   "source": []
  }
 ],
 "metadata": {
  "kernelspec": {
   "display_name": "Python 2",
   "language": "python",
   "name": "python2"
  },
  "language_info": {
   "codemirror_mode": {
    "name": "ipython",
    "version": 2
   },
   "file_extension": ".py",
   "mimetype": "text/x-python",
   "name": "python",
   "nbconvert_exporter": "python",
   "pygments_lexer": "ipython2",
   "version": "2.7.11"
  }
 },
 "nbformat": 4,
 "nbformat_minor": 0
}
