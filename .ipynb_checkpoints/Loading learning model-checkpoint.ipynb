{
 "cells": [
  {
   "cell_type": "code",
   "execution_count": 10,
   "metadata": {
    "collapsed": false
   },
   "outputs": [],
   "source": [
    "import pandas\n",
    "import numpy\n",
    "import math\n",
    "\n",
    "\n",
    "%matplotlib inline\n",
    "import matplotlib\n",
    "import matplotlib.pyplot as plt\n",
    "# We will use Keras library\n",
    "from keras.models import Sequential\n",
    "from keras.layers import Dense\n",
    "from keras.layers import LSTM\n",
    "# And Scikit-Learn\n",
    "from keras.models import model_from_yaml\n",
    "import numpy\n",
    "import os\n",
    "import datetime\n",
    "import time\n",
    "from time import gmtime, strftime\n",
    "import os\n",
    "# Import libraries use for visualization and analysis\n",
    "import pandas as pd\n",
    "import numpy as np\n",
    "%matplotlib inline\n",
    "import matplotlib\n",
    "import matplotlib.pyplot as plt\n",
    "\n",
    "import cufflinks as cf\n",
    "\n",
    "from monascaclient import client\n",
    "from monascaclient import ksclient\n",
    "\n",
    "\n",
    "from pandas import Series,DataFrame\n",
    "\n",
    "import math\n",
    "from __future__ import division\n",
    "\n",
    "# Import library to execute remote commands for monasca-agent demo\n",
    "import spur\n",
    "import matplotlib.pyplot as plt\n",
    "import seaborn as sns\n",
    "\n",
    "import time as t\n",
    "import datetime as dt"
   ]
  },
  {
   "cell_type": "code",
   "execution_count": 11,
   "metadata": {
    "collapsed": true
   },
   "outputs": [],
   "source": [
    "KEYSTONE_URL = 'http://157.159.232.218:35357/v3/'\n",
    "PROJECT_NAME = 'mini-mon'\n",
    "USERNAME = 'mini-mon'\n",
    "PASSWORD = 'password'"
   ]
  },
  {
   "cell_type": "code",
   "execution_count": 12,
   "metadata": {
    "collapsed": false
   },
   "outputs": [
    {
     "name": "stdout",
     "output_type": "stream",
     "text": [
      "env: OS_PROJECT_NAME=mini-mon\n",
      "env: OS_PASSWORD=password\n",
      "env: OS_AUTH_URL=http://157.159.232.218:35357/v3/\n",
      "env: OS_USERNAME=mini-mon\n"
     ]
    }
   ],
   "source": [
    "api_version = '2_0'\n",
    "monasca_url = 'http://157.159.232.217:8070/v2.0/'\n",
    "# Authenticate to Keystone\n",
    "keystone_url = 'http://157.159.232.218:35357/v3/'\n",
    "\n",
    "ks = ksclient.KSClient(auth_url=KEYSTONE_URL, username=USERNAME, password=PASSWORD)\n",
    "    # construct the mon client\n",
    "monasca_client = client.Client(api_version, monasca_url, token=ks.token)\n",
    "\n",
    "\n",
    "\n",
    "# Initialize environment variables to use the Monasca CLI\n",
    "%env OS_PROJECT_NAME=$PROJECT_NAME\n",
    "%env OS_PASSWORD=$PASSWORD\n",
    "%env OS_AUTH_URL=$KEYSTONE_URL\n",
    "%env OS_USERNAME=$USERNAME\n",
    "#%env OS_TEST=\"test\""
   ]
  },
  {
   "cell_type": "code",
   "execution_count": 13,
   "metadata": {
    "collapsed": true
   },
   "outputs": [],
   "source": [
    "# getting the metrics information\n",
    "def get_metrics(names=[None], dimensions={}, limit=25):\n",
    "    metrics = []\n",
    "    for name in names:\n",
    "        # Invoke the Monasca client\n",
    "        metrics = metrics + monasca_client.metrics.list(name=name, dimensions=dimensions,limit=limit)\n",
    "    return metrics\n",
    "\n",
    "# function get measurements\n",
    "def get_measurements(metrics, start_time = None, end_time = None, limit=None):\n",
    "    measurements = []\n",
    "\n",
    "    if start_time == None:\n",
    "        start_date = datetime.datetime.utcnow() - datetime.timedelta(seconds=3600)\n",
    "        start_time = start_date.strftime(\"%Y-%m-%dT%H:%M:%SZ\")\n",
    "\n",
    "    if end_time == None:\n",
    "        end_date = datetime.datetime.utcnow() - datetime.timedelta(seconds=0)\n",
    "        end_time = end_date.strftime(\"%Y-%m-%dT%H:%M:%SZ\")\n",
    "\n",
    "    for metric in metrics:\n",
    "        # Invoke the Monasca client\n",
    "        measurements.append(monasca_client.metrics.list_measurements(\n",
    "                name=metric['name'],\n",
    "                dimensions=metric['dimensions'],\n",
    "                start_time=start_time,\n",
    "                end_time=end_time))\n",
    "\n",
    "    return measurements\n",
    "\n",
    "\n",
    "\n",
    "\n",
    "\n",
    "def df_from_measurements2(raw, group):\n",
    "    i=0\n",
    "    log=0;\n",
    "    df = pd.DataFrame()\n",
    "    for s in raw:\n",
    "        if s[0]['measurements'] and s[0]['dimensions']['hostname'] == group:\n",
    "            m = np.array(s[0]['measurements'])\n",
    "            timestamps = m[:, s[0]['columns'].index('timestamp')]\n",
    "            df = pd.DataFrame(index = timestamps)\n",
    "            break;\n",
    "    m=0;\n",
    "    for measure in raw:\n",
    "        if measure[0]['measurements'] and measure[0]['dimensions']['hostname'] == group:\n",
    "            hostname=group\n",
    "            m = np.array(measure[0]['measurements'])\n",
    "            timestamps = m[:, measure[0]['columns'].index('timestamp')]\n",
    "            #df = pd.DataFrame(index = timestamps)\n",
    "            #getting name\n",
    "            if(log==1):\n",
    "                print 'metric : \\n'\n",
    "                print measure[0]['name']\n",
    "            name = measure[0]['name'];\n",
    "            #getting dimensions\n",
    "            if(log==1):\n",
    "                print '\\n Machine name : \\n'\n",
    "                print measure[0]['dimensions']['hostname']\n",
    "            # Getting measurement\n",
    "            if(log==1):\n",
    "                print '\\n measurements \\n'\n",
    "                print m#measure[0]['measurements']\n",
    "\n",
    "            # Measurement into Array\n",
    "\n",
    "            m = np.array(measure[0]['measurements'])\n",
    "\n",
    "\n",
    "            timestamps = m[:, measure[0]['columns'].index('timestamp')]\n",
    "            if(log==1):\n",
    "                print timestamps\n",
    "\n",
    "\n",
    "            values=m[:, measure[0]['columns'].index('value')]\n",
    "            if(log==1):\n",
    "                print '\\n values \\n '\n",
    "                print values\n",
    "\n",
    "            #vars()[\"df_\"+str(i)] =  dict( zip( timestamps, m));\n",
    "\n",
    "            df[name] = m[:, measure[0]['columns'].index('value')];\n",
    "\n",
    "            if(log == 1):\n",
    "                    print 'This is the dataframe'+'is'+name\n",
    "\n",
    "            #vars()[\"df_\"+str(i)]['hostname'] = hostname;\n",
    "\n",
    "            if(log==1):\n",
    "                print ' \\n \\n ***********  --------------- *********** \\n'\n",
    "            i=i+1;\n",
    "    return df;\n",
    "\n",
    "\n",
    "\n",
    "\n",
    "def Timestamp(df):\n",
    "    tsp = np.array(df.index)\n",
    "    i=0;\n",
    "    for ind in tsp:\n",
    "        tsp[i] = t.mktime(dt.datetime.strptime(repr(str(ind))[1:-1], '%Y-%m-%dT%H:%M:%S.%fZ').timetuple())\n",
    "        i += 1;\n",
    "    return tsp\n",
    "\n",
    "def current_time(T):\n",
    "    ts_epoch = t.mktime(dt.datetime.strptime(repr(str(T))[1:-1], '%Y-%m-%dT%H:%M:%S.%fZ').timetuple())\n",
    "    ts = datetime.datetime.fromtimestamp(ts_epoch).strftime('%Y-%m-%dT%H:%M:%S.%fZ')\n",
    "    \n",
    "    #curt_t = strftime('%Y-%m-%dT%H:%M:%S.0Z', gmtime())\n",
    "    #current_time(curt_t)\n",
    "    #datetime.datetime.fromtimestamp(ts_epoch).strftime('%Y-%m-%dT%H:%M:%S.%fZ')\n",
    "    return ts\n",
    "\n",
    "# Compute a the percentage change of an array\n",
    "def percentage_change(X):\n",
    "    return [100.0 * a1/a2 - 100 for a1, a2 in zip(X[1:], X)]\n",
    "\n",
    "\n",
    "# df in percentage\n",
    "def perc_df(df):\n",
    "    for i in range(len(df.columns)):\n",
    "        metric_name = df.columns[i]\n",
    "        df[metric_name] = np.append([1],percentage_change(df[metric_name].values))\n",
    "        \n",
    "        \n",
    "    return df\n",
    "\n",
    "def to_vect(X,w):\n",
    "    inputs = [[X[i+e] for e in range(w)] for i in range(len(X)-w)]\n",
    "    targets = [[X[j+w]] for j in range(len(X)-w)]\n",
    "    \n",
    "    return inputs,targets\n",
    "\n",
    "def to_vect2(X,w):\n",
    "    inputs = [[X[i+e] for e in range(w)] for i in range(len(X)-w)]\n",
    "    targets = [X[j+w] for j in range(len(X)-w)]\n",
    "    \n",
    "    return np.array(inputs),np.array(targets)\n",
    "\n",
    "# getting the prediction in the form of an array\n",
    "def get_prediction():\n",
    "    i=0;\n",
    "    for inp in inputs:\n",
    "        error = pow(nn.predict(inputs[i])[0]-targets[i][0],2);\n",
    "        print ' \\n The input is : \\n\\n '+str(inputs[i])+'\\n\\n the target is : \\n\\n '+str(targets[i])+'\\n\\n the predicted value is : \\n\\n '+str(nn.predict(inputs[i]))+'\\n\\n The error is : \\n\\n '+str(error)+' \\n\\n *** \\n\\n '\n",
    "        i += 1;\n",
    "        time.sleep(5)\n",
    "        "
   ]
  },
  {
   "cell_type": "code",
   "execution_count": 20,
   "metadata": {
    "collapsed": false
   },
   "outputs": [],
   "source": [
    "look_back = 1\n",
    "model = Sequential();\n",
    "# create and fit the LSTM network\n",
    "model = Sequential()\n",
    "model.add(LSTM(4, input_dim=look_back))\n",
    "model.add(Dense(1))"
   ]
  },
  {
   "cell_type": "code",
   "execution_count": 21,
   "metadata": {
    "collapsed": false
   },
   "outputs": [
    {
     "name": "stdout",
     "output_type": "stream",
     "text": [
      "Loaded model from disk\n"
     ]
    }
   ],
   "source": [
    "# load YAML and create model\n",
    "yaml_file = open('model.yaml', 'r')\n",
    "loaded_model_yaml = yaml_file.read()\n",
    "yaml_file.close()\n",
    "loaded_model = model_from_yaml(loaded_model_yaml)\n",
    "# load weights into new model\n",
    "loaded_model.load_weights(\"model.h5\")\n",
    "print(\"Loaded model from disk\")"
   ]
  },
  {
   "cell_type": "code",
   "execution_count": 22,
   "metadata": {
    "collapsed": false,
    "scrolled": true
   },
   "outputs": [
    {
     "name": "stdout",
     "output_type": "stream",
     "text": [
      "============== Hello  ===============\n",
      " \n",
      " \n",
      " ========= Step1 ======== \n",
      " \n",
      " \n",
      " \n",
      " =========  Downloading please wait  =========== \n",
      " \n"
     ]
    },
    {
     "name": "stderr",
     "output_type": "stream",
     "text": [
      "/home/jaafar/anaconda2/lib/python2.7/site-packages/ipykernel/__main__.py:37: SettingWithCopyWarning:\n",
      "\n",
      "\n",
      "A value is trying to be set on a copy of a slice from a DataFrame\n",
      "\n",
      "See the caveats in the documentation: http://pandas.pydata.org/pandas-docs/stable/indexing.html#indexing-view-versus-copy\n",
      "\n"
     ]
    },
    {
     "name": "stdout",
     "output_type": "stream",
     "text": [
      "  ===================   Synchronizing  =================================  \n",
      " \n",
      " \n",
      " ========= Step2 ======== \n",
      " \n",
      " \n",
      " \n",
      " =========  Downloading please wait  =========== \n",
      " \n",
      "  ===================   Synchronizing  =================================  \n",
      " \n",
      " \n",
      " ========= Step3 ======== \n",
      " \n",
      " \n",
      " \n",
      " =========  Downloading please wait  =========== \n",
      " \n",
      "  ===================   Synchronizing  =================================  \n",
      " \n",
      " \n",
      " ========= Step4 ======== \n",
      " \n",
      " \n",
      " \n",
      " =========  Downloading please wait  =========== \n",
      " \n",
      "  ===================   Synchronizing  =================================  \n",
      " \n",
      " \n",
      " ========= Step5 ======== \n",
      " \n",
      " \n",
      " \n",
      " =========  Downloading please wait  =========== \n",
      " \n",
      "  ===================   Synchronizing  =================================  \n"
     ]
    },
    {
     "ename": "KeyboardInterrupt",
     "evalue": "",
     "output_type": "error",
     "traceback": [
      "\u001b[1;31m---------------------------------------------------------------------------\u001b[0m",
      "\u001b[1;31mKeyboardInterrupt\u001b[0m                         Traceback (most recent call last)",
      "\u001b[1;32m<ipython-input-22-ba6f0336d325>\u001b[0m in \u001b[0;36m<module>\u001b[1;34m()\u001b[0m\n\u001b[0;32m     49\u001b[0m \u001b[1;33m\u001b[0m\u001b[0m\n\u001b[0;32m     50\u001b[0m     \u001b[0mi\u001b[0m \u001b[1;33m+=\u001b[0m \u001b[1;36m1\u001b[0m\u001b[1;33m;\u001b[0m\u001b[1;33m\u001b[0m\u001b[0m\n\u001b[1;32m---> 51\u001b[1;33m     \u001b[0mtime\u001b[0m\u001b[1;33m.\u001b[0m\u001b[0msleep\u001b[0m\u001b[1;33m(\u001b[0m\u001b[1;36m10\u001b[0m\u001b[1;33m)\u001b[0m\u001b[1;33m\u001b[0m\u001b[0m\n\u001b[0m",
      "\u001b[1;31mKeyboardInterrupt\u001b[0m: "
     ]
    }
   ],
   "source": [
    "T_start = \"2016-09-14T07:57:26.0Z\"\n",
    "ks = ksclient.KSClient(auth_url=KEYSTONE_URL, username=USERNAME, password=PASSWORD)\n",
    "    # construct the mon client\n",
    "monasca_client = client.Client(api_version, monasca_url, token=ks.token)\n",
    "\n",
    "\n",
    "i=1;\n",
    "\n",
    "print \"============== Hello  ===============\"\n",
    "\n",
    "\n",
    "while(True): \n",
    "    T_end = strftime('%Y-%m-%dT%H:%M:%S.0Z', gmtime()) \n",
    "    \n",
    "    print \" \\n \\n ========= Step\"+str(i)+\" ======== \\n \\n \"\n",
    "    \n",
    "    print \" \\n =========  Downloading please wait  =========== \\n \"\n",
    "    \n",
    "    metrics = get_metrics(names=['load.avg_1_min','cpu.wait_perc','net.out_packets_sec','cpu.system_perc','net.in_bytes_sec','mem.free_mb']);\n",
    "    measurements = get_measurements(metrics,T_start,T_end)     \n",
    "    df_Ellis= df_from_measurements2(filter(None, measurements), 'ellis.jaafar.com')\n",
    "    z = 0.00;\n",
    "    df_Ellis['predict']= z\n",
    "    df_Ellis['Timestamp']=Timestamp(df_Ellis)\n",
    "    df_Ellis.index.names = [None]\n",
    "    df_Ellis = df_Ellis.reset_index(drop=True)\n",
    "    df_Ellis = df_Ellis.set_index('Timestamp')    \n",
    "    \n",
    "###    \n",
    "   \n",
    "    dataset1 = df_Ellis['cpu.wait_perc'].values\n",
    "    dataset1 = dataset1.astype('float32')\n",
    "\n",
    "    D1, A1 = to_vect2(dataset1,1)\n",
    "\n",
    "    for j in range(len(df_Ellis)):\n",
    "        df_Ellis['predict'][j] = (float)(model.predict(np.asanyarray([[[df_Ellis['cpu.wait_perc'].values[j]]]]),verbose=0))    \n",
    "\n",
    "    \n",
    "###   \n",
    "\n",
    "\n",
    "    print \"  ===================   Synchronizing  =================================  \"\n",
    "    \n",
    "    \n",
    "    df_Ellis.to_csv('Data/data_df.csv',header=True,index=True,sep=';')\n",
    "       \n",
    "    \n",
    "    \n",
    "    i += 1;\n",
    "    time.sleep(10)"
   ]
  },
  {
   "cell_type": "code",
   "execution_count": 23,
   "metadata": {
    "collapsed": false
   },
   "outputs": [
    {
     "data": {
      "text/plain": [
       "0.0"
      ]
     },
     "execution_count": 23,
     "metadata": {},
     "output_type": "execute_result"
    }
   ],
   "source": [
    "(float)(model.predict(np.asanyarray([[[df_Ellis['cpu.wait_perc'].values[0]]]]),verbose=0))    "
   ]
  },
  {
   "cell_type": "code",
   "execution_count": 24,
   "metadata": {
    "collapsed": false
   },
   "outputs": [
    {
     "data": {
      "text/plain": [
       "13.5"
      ]
     },
     "execution_count": 24,
     "metadata": {},
     "output_type": "execute_result"
    }
   ],
   "source": [
    "df_Ellis['cpu.wait_perc'].values[0]"
   ]
  },
  {
   "cell_type": "code",
   "execution_count": 25,
   "metadata": {
    "collapsed": false
   },
   "outputs": [
    {
     "ename": "AttributeError",
     "evalue": "'Sequential' object has no attribute 'yaml'",
     "output_type": "error",
     "traceback": [
      "\u001b[1;31m---------------------------------------------------------------------------\u001b[0m",
      "\u001b[1;31mAttributeError\u001b[0m                            Traceback (most recent call last)",
      "\u001b[1;32m<ipython-input-25-77f796fb3c67>\u001b[0m in \u001b[0;36m<module>\u001b[1;34m()\u001b[0m\n\u001b[1;32m----> 1\u001b[1;33m \u001b[0mmodel\u001b[0m\u001b[1;33m.\u001b[0m\u001b[0myaml\u001b[0m\u001b[1;33m\u001b[0m\u001b[0m\n\u001b[0m",
      "\u001b[1;31mAttributeError\u001b[0m: 'Sequential' object has no attribute 'yaml'"
     ]
    }
   ],
   "source": [
    "model.s"
   ]
  },
  {
   "cell_type": "code",
   "execution_count": 26,
   "metadata": {
    "collapsed": false
   },
   "outputs": [
    {
     "data": {
      "text/plain": [
       "'2016-09-14T08:40:19.0Z'"
      ]
     },
     "execution_count": 26,
     "metadata": {},
     "output_type": "execute_result"
    }
   ],
   "source": [
    "T_end = strftime('%Y-%m-%dT%H:%M:%S.0Z', gmtime())\n",
    "T_end"
   ]
  },
  {
   "cell_type": "code",
   "execution_count": 55,
   "metadata": {
    "collapsed": false
   },
   "outputs": [],
   "source": [
    "#T is a string \n",
    "def current_time(T,h):\n",
    "    if T:\n",
    "        ts = t.mktime(dt.datetime.strptime(repr(str(T))[1:-1], '%Y-%m-%dT%H:%M:%S.%fZ').timetuple())\n",
    "    #ts = datetime.datetime.fromtimestamp(ts_epoch).strftime('%Y-%m-%dT%H:%M:%S.%fZ')\n",
    "    \n",
    "    if T is None:\n",
    "        ts_epoch = strftime('%Y-%m-%dT%H:%M:%S.0Z', gmtime())\n",
    "        ts = t.mktime(dt.datetime.strptime(repr(str(ts_epoch))[1:-1], '%Y-%m-%dT%H:%M:%S.%fZ').timetuple())\n",
    "        ts = ts - 60*60*h;\n",
    "        s =  datetime.datetime.fromtimestamp(ts).strftime('%Y-%m-%dT%H:%M:%S.%fZ')\n",
    "        \n",
    "        \n",
    "        \n",
    "    return s\n",
    "\n"
   ]
  },
  {
   "cell_type": "code",
   "execution_count": 58,
   "metadata": {
    "collapsed": false
   },
   "outputs": [
    {
     "data": {
      "text/plain": [
       "'2016-09-14T08:26:22.000000Z'"
      ]
     },
     "execution_count": 58,
     "metadata": {},
     "output_type": "execute_result"
    }
   ],
   "source": [
    "\n",
    "current_time(T=None,h=0.5)"
   ]
  },
  {
   "cell_type": "code",
   "execution_count": null,
   "metadata": {
    "collapsed": true
   },
   "outputs": [],
   "source": []
  }
 ],
 "metadata": {
  "kernelspec": {
   "display_name": "Python 2",
   "language": "python",
   "name": "python2"
  },
  "language_info": {
   "codemirror_mode": {
    "name": "ipython",
    "version": 2
   },
   "file_extension": ".py",
   "mimetype": "text/x-python",
   "name": "python",
   "nbconvert_exporter": "python",
   "pygments_lexer": "ipython2",
   "version": "2.7.11"
  }
 },
 "nbformat": 4,
 "nbformat_minor": 0
}
