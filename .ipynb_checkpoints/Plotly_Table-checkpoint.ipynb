{
 "cells": [
  {
   "cell_type": "code",
   "execution_count": 44,
   "metadata": {
    "collapsed": false
   },
   "outputs": [
    {
     "name": "stdout",
     "output_type": "stream",
     "text": [
      "0  ==>  a\n",
      "1  ==>  c\n",
      "2  ==>  b\n",
      "3  ==>  d\n"
     ]
    }
   ],
   "source": [
    "some_list = {'a','b','c','d'}\n",
    "\n",
    "for index, item in enumerate(some_list):\n",
    "    print index,' ==> ',item\n",
    "    "
   ]
  },
  {
   "cell_type": "code",
   "execution_count": 87,
   "metadata": {
    "collapsed": false
   },
   "outputs": [],
   "source": [
    "import plotly\n",
    "%matplotlib inline\n"
   ]
  },
  {
   "cell_type": "code",
   "execution_count": 3,
   "metadata": {
    "collapsed": true
   },
   "outputs": [],
   "source": [
    "plotly.tools.set_credentials_file(username='heekof', api_key='3s4cx6b8pn')"
   ]
  },
  {
   "cell_type": "code",
   "execution_count": 62,
   "metadata": {
    "collapsed": false,
    "scrolled": true
   },
   "outputs": [
    {
     "name": "stderr",
     "output_type": "stream",
     "text": [
      "/usr/local/lib/python2.7/dist-packages/requests/packages/urllib3/util/ssl_.py:122: InsecurePlatformWarning:\n",
      "\n",
      "A true SSLContext object is not available. This prevents urllib3 from configuring SSL appropriately and may cause certain SSL connections to fail. You can upgrade to a newer version of Python to solve this. For more information, see https://urllib3.readthedocs.io/en/latest/security.html#insecureplatformwarning.\n",
      "\n"
     ]
    },
    {
     "data": {
      "text/html": [
       "<iframe id=\"igraph\" scrolling=\"no\" style=\"border:none;\" seamless=\"seamless\" src=\"https://plot.ly/~heekof/2.embed\" height=\"380px\" width=\"100%\"></iframe>"
      ],
      "text/plain": [
       "<plotly.tools.PlotlyDisplay object>"
      ]
     },
     "execution_count": 62,
     "metadata": {},
     "output_type": "execute_result"
    }
   ],
   "source": [
    "import plotly.plotly as py\n",
    "from plotly.tools import FigureFactory as FF\n",
    "\n",
    "import pandas as pd\n",
    "\n",
    "df = pd.read_csv('Data/Ellis.csv',sep=\";\")\n",
    "df_sample = df[10:20]\n",
    "\n",
    "df_sample.net_out_packets_sec = df_sample.net_out_packets_sec.values.astype(int)\n",
    "df_sample.net_in_bytes_sec = df_sample.net_in_bytes_sec.values.astype(int)\n",
    "\n",
    "\n",
    "df_sample = df_sample.set_index(\"Timestamp\")\n",
    "\n",
    "#colorscale = [[2, '#4d004c']]\n",
    "\n",
    "table = FF.create_table(df_sample, index=True, index_title=\"TimeStamp\")\n",
    "#table.\n",
    "#py.image.save_as(table, 'my_plot.png')\n",
    "py.iplot(table,filename='pandas_table')\n"
   ]
  },
  {
   "cell_type": "code",
   "execution_count": 80,
   "metadata": {
    "collapsed": false,
    "scrolled": true
   },
   "outputs": [
    {
     "name": "stderr",
     "output_type": "stream",
     "text": [
      "/usr/local/lib/python2.7/dist-packages/requests/packages/urllib3/util/ssl_.py:122: InsecurePlatformWarning:\n",
      "\n",
      "A true SSLContext object is not available. This prevents urllib3 from configuring SSL appropriately and may cause certain SSL connections to fail. You can upgrade to a newer version of Python to solve this. For more information, see https://urllib3.readthedocs.io/en/latest/security.html#insecureplatformwarning.\n",
      "\n"
     ]
    },
    {
     "ename": "KeyError",
     "evalue": "'error'",
     "output_type": "error",
     "traceback": [
      "\u001b[0;31m---------------------------------------------------------------------------\u001b[0m",
      "\u001b[0;31mKeyError\u001b[0m                                  Traceback (most recent call last)",
      "\u001b[0;32m<ipython-input-80-7bb027356156>\u001b[0m in \u001b[0;36m<module>\u001b[0;34m()\u001b[0m\n\u001b[1;32m     18\u001b[0m \u001b[0;34m\u001b[0m\u001b[0m\n\u001b[1;32m     19\u001b[0m \u001b[0;34m\u001b[0m\u001b[0m\n\u001b[0;32m---> 20\u001b[0;31m     \u001b[0mpy\u001b[0m\u001b[0;34m.\u001b[0m\u001b[0mimage\u001b[0m\u001b[0;34m.\u001b[0m\u001b[0msave_as\u001b[0m\u001b[0;34m(\u001b[0m\u001b[0mtable\u001b[0m\u001b[0;34m,\u001b[0m \u001b[0;34m'my_plot.png'\u001b[0m\u001b[0;34m)\u001b[0m\u001b[0;34m\u001b[0m\u001b[0m\n\u001b[0m\u001b[1;32m     21\u001b[0m     \u001b[0mget_ipython\u001b[0m\u001b[0;34m(\u001b[0m\u001b[0;34m)\u001b[0m\u001b[0;34m.\u001b[0m\u001b[0msystem\u001b[0m\u001b[0;34m(\u001b[0m\u001b[0;34mu\"echo 'root' | sudo -S  mv my_plot.png /var/www/html/\"\u001b[0m\u001b[0;34m)\u001b[0m\u001b[0;34m\u001b[0m\u001b[0m\n\u001b[1;32m     22\u001b[0m \u001b[0;34m\u001b[0m\u001b[0m\n",
      "\u001b[0;32m/usr/local/lib/python2.7/dist-packages/plotly/plotly/plotly.pyc\u001b[0m in \u001b[0;36msave_as\u001b[0;34m(cls, figure_or_data, filename, format, width, height, scale)\u001b[0m\n\u001b[1;32m    785\u001b[0m             \u001b[0mfilename\u001b[0m \u001b[0;34m+=\u001b[0m \u001b[0;34m'.'\u001b[0m \u001b[0;34m+\u001b[0m \u001b[0mformat\u001b[0m\u001b[0;34m\u001b[0m\u001b[0m\n\u001b[1;32m    786\u001b[0m \u001b[0;34m\u001b[0m\u001b[0m\n\u001b[0;32m--> 787\u001b[0;31m         \u001b[0mimg\u001b[0m \u001b[0;34m=\u001b[0m \u001b[0mcls\u001b[0m\u001b[0;34m.\u001b[0m\u001b[0mget\u001b[0m\u001b[0;34m(\u001b[0m\u001b[0mfigure_or_data\u001b[0m\u001b[0;34m,\u001b[0m \u001b[0mformat\u001b[0m\u001b[0;34m,\u001b[0m \u001b[0mwidth\u001b[0m\u001b[0;34m,\u001b[0m \u001b[0mheight\u001b[0m\u001b[0;34m,\u001b[0m \u001b[0mscale\u001b[0m\u001b[0;34m)\u001b[0m\u001b[0;34m\u001b[0m\u001b[0m\n\u001b[0m\u001b[1;32m    788\u001b[0m \u001b[0;34m\u001b[0m\u001b[0m\n\u001b[1;32m    789\u001b[0m         \u001b[0mf\u001b[0m \u001b[0;34m=\u001b[0m \u001b[0mopen\u001b[0m\u001b[0;34m(\u001b[0m\u001b[0mfilename\u001b[0m\u001b[0;34m,\u001b[0m \u001b[0;34m'wb'\u001b[0m\u001b[0;34m)\u001b[0m\u001b[0;34m\u001b[0m\u001b[0m\n",
      "\u001b[0;32m/usr/local/lib/python2.7/dist-packages/plotly/plotly/plotly.pyc\u001b[0m in \u001b[0;36mget\u001b[0;34m(figure_or_data, format, width, height, scale)\u001b[0m\n\u001b[1;32m    708\u001b[0m                                              \u001b[0;34m\"from plotly could \"\u001b[0m\u001b[0;34m\u001b[0m\u001b[0m\n\u001b[1;32m    709\u001b[0m                                              \"not be translated.\")\n\u001b[0;32m--> 710\u001b[0;31m             \u001b[0;32mraise\u001b[0m \u001b[0mexceptions\u001b[0m\u001b[0;34m.\u001b[0m\u001b[0mPlotlyError\u001b[0m\u001b[0;34m(\u001b[0m\u001b[0mreturn_data\u001b[0m\u001b[0;34m[\u001b[0m\u001b[0;34m'error'\u001b[0m\u001b[0;34m]\u001b[0m\u001b[0;34m)\u001b[0m\u001b[0;34m\u001b[0m\u001b[0m\n\u001b[0m\u001b[1;32m    711\u001b[0m \u001b[0;34m\u001b[0m\u001b[0m\n\u001b[1;32m    712\u001b[0m     \u001b[0;34m@\u001b[0m\u001b[0mclassmethod\u001b[0m\u001b[0;34m\u001b[0m\u001b[0m\n",
      "\u001b[0;31mKeyError\u001b[0m: 'error'"
     ]
    }
   ],
   "source": [
    "import plotly\n",
    "import plotly.plotly as py\n",
    "from plotly.tools import FigureFactory as FF\n",
    "import pandas as pd\n",
    "import time\n",
    "\n",
    "plotly.tools.set_credentials_file(username='heekof', api_key='3s4cx6b8pn')\n",
    "while True:\n",
    "    df = pd.read_csv('Data/data_demo.csv',sep=\";\",index_col=None,usecols=[1,2])\n",
    "    df_sample = df.tail(3)\n",
    "    \n",
    "    df_alarms = pd.read_csv('Data/alarms.csv',sep=\";\")\n",
    "    #df_sample.net_out_packets_sec = df_sample.net_out_packets_sec.values.astype(int)\n",
    "    #df_sample.net_in_bytes_sec = df_sample.net_in_bytes_sec.values.astype(int)\n",
    "    #df_sample = df_sample.set_index(\"Timestamp\")\n",
    "    table = FF.create_table(df_sample)#, index=True, index_title=\"TimeStamp\")\n",
    "    \n",
    "\n",
    "\n",
    "    py.image.save_as(table, 'my_plot.png')\n",
    "    !echo 'root' | sudo -S  mv my_plot.png /var/www/html/\n",
    "\n",
    "    #py.image.ishow(table)\n",
    "    time.sleep(2)\n"
   ]
  },
  {
   "cell_type": "code",
   "execution_count": null,
   "metadata": {
    "collapsed": true
   },
   "outputs": [],
   "source": [
    "df_a"
   ]
  },
  {
   "cell_type": "code",
   "execution_count": 82,
   "metadata": {
    "collapsed": false
   },
   "outputs": [
    {
     "name": "stderr",
     "output_type": "stream",
     "text": [
      "/usr/local/lib/python2.7/dist-packages/requests/packages/urllib3/util/ssl_.py:122: InsecurePlatformWarning:\n",
      "\n",
      "A true SSLContext object is not available. This prevents urllib3 from configuring SSL appropriately and may cause certain SSL connections to fail. You can upgrade to a newer version of Python to solve this. For more information, see https://urllib3.readthedocs.io/en/latest/security.html#insecureplatformwarning.\n",
      "\n"
     ]
    },
    {
     "ename": "KeyError",
     "evalue": "'error'",
     "output_type": "error",
     "traceback": [
      "\u001b[0;31m---------------------------------------------------------------------------\u001b[0m",
      "\u001b[0;31mKeyError\u001b[0m                                  Traceback (most recent call last)",
      "\u001b[0;32m<ipython-input-82-5a8efc9a408a>\u001b[0m in \u001b[0;36m<module>\u001b[0;34m()\u001b[0m\n\u001b[1;32m     20\u001b[0m \u001b[0;34m\u001b[0m\u001b[0m\n\u001b[1;32m     21\u001b[0m \u001b[0;34m\u001b[0m\u001b[0m\n\u001b[0;32m---> 22\u001b[0;31m \u001b[0mpy\u001b[0m\u001b[0;34m.\u001b[0m\u001b[0mimage\u001b[0m\u001b[0;34m.\u001b[0m\u001b[0msave_as\u001b[0m\u001b[0;34m(\u001b[0m\u001b[0mtable_alarms\u001b[0m\u001b[0;34m,\u001b[0m \u001b[0;34m'alarms.png'\u001b[0m\u001b[0;34m)\u001b[0m\u001b[0;34m\u001b[0m\u001b[0m\n\u001b[0m\u001b[1;32m     23\u001b[0m \u001b[0mget_ipython\u001b[0m\u001b[0;34m(\u001b[0m\u001b[0;34m)\u001b[0m\u001b[0;34m.\u001b[0m\u001b[0msystem\u001b[0m\u001b[0;34m(\u001b[0m\u001b[0;34mu\"echo 'root' | sudo -S  mv alarms.png /var/www/html/\"\u001b[0m\u001b[0;34m)\u001b[0m\u001b[0;34m\u001b[0m\u001b[0m\n",
      "\u001b[0;32m/usr/local/lib/python2.7/dist-packages/plotly/plotly/plotly.pyc\u001b[0m in \u001b[0;36msave_as\u001b[0;34m(cls, figure_or_data, filename, format, width, height, scale)\u001b[0m\n\u001b[1;32m    785\u001b[0m             \u001b[0mfilename\u001b[0m \u001b[0;34m+=\u001b[0m \u001b[0;34m'.'\u001b[0m \u001b[0;34m+\u001b[0m \u001b[0mformat\u001b[0m\u001b[0;34m\u001b[0m\u001b[0m\n\u001b[1;32m    786\u001b[0m \u001b[0;34m\u001b[0m\u001b[0m\n\u001b[0;32m--> 787\u001b[0;31m         \u001b[0mimg\u001b[0m \u001b[0;34m=\u001b[0m \u001b[0mcls\u001b[0m\u001b[0;34m.\u001b[0m\u001b[0mget\u001b[0m\u001b[0;34m(\u001b[0m\u001b[0mfigure_or_data\u001b[0m\u001b[0;34m,\u001b[0m \u001b[0mformat\u001b[0m\u001b[0;34m,\u001b[0m \u001b[0mwidth\u001b[0m\u001b[0;34m,\u001b[0m \u001b[0mheight\u001b[0m\u001b[0;34m,\u001b[0m \u001b[0mscale\u001b[0m\u001b[0;34m)\u001b[0m\u001b[0;34m\u001b[0m\u001b[0m\n\u001b[0m\u001b[1;32m    788\u001b[0m \u001b[0;34m\u001b[0m\u001b[0m\n\u001b[1;32m    789\u001b[0m         \u001b[0mf\u001b[0m \u001b[0;34m=\u001b[0m \u001b[0mopen\u001b[0m\u001b[0;34m(\u001b[0m\u001b[0mfilename\u001b[0m\u001b[0;34m,\u001b[0m \u001b[0;34m'wb'\u001b[0m\u001b[0;34m)\u001b[0m\u001b[0;34m\u001b[0m\u001b[0m\n",
      "\u001b[0;32m/usr/local/lib/python2.7/dist-packages/plotly/plotly/plotly.pyc\u001b[0m in \u001b[0;36mget\u001b[0;34m(figure_or_data, format, width, height, scale)\u001b[0m\n\u001b[1;32m    708\u001b[0m                                              \u001b[0;34m\"from plotly could \"\u001b[0m\u001b[0;34m\u001b[0m\u001b[0m\n\u001b[1;32m    709\u001b[0m                                              \"not be translated.\")\n\u001b[0;32m--> 710\u001b[0;31m             \u001b[0;32mraise\u001b[0m \u001b[0mexceptions\u001b[0m\u001b[0;34m.\u001b[0m\u001b[0mPlotlyError\u001b[0m\u001b[0;34m(\u001b[0m\u001b[0mreturn_data\u001b[0m\u001b[0;34m[\u001b[0m\u001b[0;34m'error'\u001b[0m\u001b[0;34m]\u001b[0m\u001b[0;34m)\u001b[0m\u001b[0;34m\u001b[0m\u001b[0m\n\u001b[0m\u001b[1;32m    711\u001b[0m \u001b[0;34m\u001b[0m\u001b[0m\n\u001b[1;32m    712\u001b[0m     \u001b[0;34m@\u001b[0m\u001b[0mclassmethod\u001b[0m\u001b[0;34m\u001b[0m\u001b[0m\n",
      "\u001b[0;31mKeyError\u001b[0m: 'error'"
     ]
    }
   ],
   "source": [
    "import plotly.plotly as py\n",
    "from plotly.tools import FigureFactory as FF\n",
    "\n",
    "import pandas as pd\n",
    "\n",
    "\n",
    "df = pd.read_csv('Data/alarms.csv',sep=\";\")\n",
    "df_sample = df[10:13]\n",
    "\n",
    "#df_sample.net_out_packets_sec = df_sample.net_out_packets_sec.values.astype(int)\n",
    "#df_sample.net_in_bytes_sec = df_sample.net_in_bytes_sec.values.astype(int)\n",
    "\n",
    "\n",
    "#df_sample = df_sample.set_index(\"Timestamp\")\n",
    "\n",
    "colorscale = [[0, '#4d004c'],[.5, '#f2e5ff'],[1, '#ffffff']]#colorscale = [[2, '#4d004c']]\n",
    "\n",
    "table_alarms = FF.create_table(df_sample, index=True, index_title=\"TimeStamp\", colorscale=colorscale)\n",
    "\n",
    "\n",
    "\n",
    "py.image.save_as(table_alarms, 'alarms.png')\n",
    "!echo 'root' | sudo -S  mv alarms.png /var/www/html/"
   ]
  },
  {
   "cell_type": "code",
   "execution_count": 10,
   "metadata": {
    "collapsed": false
   },
   "outputs": [
    {
     "data": {
      "text/html": [
       "<iframe id=\"igraph\" scrolling=\"no\" style=\"border:none;\" seamless=\"seamless\" src=\"https://plot.ly/~heekof/6.embed\" height=\"530px\" width=\"100%\"></iframe>"
      ],
      "text/plain": [
       "<plotly.tools.PlotlyDisplay object>"
      ]
     },
     "execution_count": 10,
     "metadata": {},
     "output_type": "execute_result"
    }
   ],
   "source": [
    "import plotly.plotly as py\n",
    "import plotly.graph_objs as go\n",
    "from plotly.tools import FigureFactory as FF\n",
    "\n",
    "# Add table data\n",
    "table_data = [['Team', 'Wins', 'Losses', 'Ties'],\n",
    "              ['Montréal<br>Canadiens', 18, 4, 0],\n",
    "              ['Dallas Stars', 18, 5, 0],\n",
    "              ['NY Rangers', 16, 5, 0], \n",
    "              ['Boston<br>Bruins', 13, 8, 0],\n",
    "              ['Chicago<br>Blackhawks', 13, 8, 0],\n",
    "              ['LA Kings', 13, 8, 0],\n",
    "              ['Ottawa<br>Senators', 12, 5, 0]]\n",
    "# Initialize a figure with FF.create_table(table_data)\n",
    "figure = FF.create_table(table_data, height_constant=60)\n",
    "\n",
    "# Add graph data\n",
    "teams = ['Montréal Canadiens', 'Dallas Stars', 'NY Rangers',\n",
    "         'Boston Bruins', 'Chicago Blackhawks', 'LA Kings', 'Ottawa Senators']\n",
    "GFPG = [3.54, 3.48, 3.0, 3.27, 2.83, 2.45, 3.18]\n",
    "GAPG = [2.17, 2.57, 2.0, 2.91, 2.57, 2.14, 2.77]\n",
    "# Make traces for graph\n",
    "trace1 = go.Scatter(x=teams, y=GFPG,\n",
    "                    marker=dict(color='#0099ff'),\n",
    "                    name='Goals For<br>Per Game',\n",
    "                    xaxis='x2', yaxis='y2')\n",
    "trace2 = go.Scatter(x=teams, y=GAPG,\n",
    "                    marker=dict(color='#404040'),\n",
    "                    name='Goals Against<br>Per Game',\n",
    "                    xaxis='x2', yaxis='y2')\n",
    "\n",
    "# Add trace data to figure\n",
    "figure['data'].extend(go.Data([trace1, trace2]))\n",
    "\n",
    "# Edit layout for subplots\n",
    "figure.layout.xaxis.update({'domain': [0, .5]})\n",
    "figure.layout.xaxis2.update({'domain': [0.6, 1.]})\n",
    "# The graph's yaxis MUST BE anchored to the graph's xaxis\n",
    "figure.layout.yaxis2.update({'anchor': 'x2'})\n",
    "figure.layout.yaxis2.update({'title': 'Goals'})\n",
    "# Update the margins to add a title and see graph x-labels. \n",
    "figure.layout.margin.update({'t':50, 'b':100})\n",
    "figure.layout.update({'title': '2016 Hockey Stats'})\n",
    "\n",
    "# Plot!\n",
    "py.iplot(figure, filename='subplot_table')"
   ]
  },
  {
   "cell_type": "code",
   "execution_count": null,
   "metadata": {
    "collapsed": true
   },
   "outputs": [],
   "source": [
    "\n"
   ]
  },
  {
   "cell_type": "code",
   "execution_count": 83,
   "metadata": {
    "collapsed": false
   },
   "outputs": [],
   "source": [
    "import numpy as np\n",
    "import plotly.plotly as py\n",
    "import plotly.tools as tls\n",
    "import plotly.graph_objs as go"
   ]
  },
  {
   "cell_type": "code",
   "execution_count": 33,
   "metadata": {
    "collapsed": false
   },
   "outputs": [
    {
     "name": "stdout",
     "output_type": "stream",
     "text": [
      "[u'qz7l3m61qz', u'cz0apjnfqe']\n"
     ]
    }
   ],
   "source": [
    "stream_ids = tls.get_credentials_file()['stream_ids']\n",
    "print stream_ids"
   ]
  },
  {
   "cell_type": "code",
   "execution_count": 34,
   "metadata": {
    "collapsed": true
   },
   "outputs": [],
   "source": [
    "# Get stream id from stream id list \n",
    "stream_id = stream_ids[0]\n",
    "\n",
    "# Make instance of stream id object \n",
    "stream_1 = go.Stream(\n",
    "    token=stream_id,  # link stream id to 'token' key\n",
    "    maxpoints=80      # keep a max of 80 pts on screen\n",
    ")"
   ]
  },
  {
   "cell_type": "code",
   "execution_count": 35,
   "metadata": {
    "collapsed": true
   },
   "outputs": [],
   "source": [
    "stream_1 = dict(token=stream_id, maxpoints=60)\n"
   ]
  },
  {
   "cell_type": "code",
   "execution_count": 36,
   "metadata": {
    "collapsed": false
   },
   "outputs": [
    {
     "name": "stdout",
     "output_type": "stream",
     "text": [
      "1.11.0\n"
     ]
    }
   ],
   "source": [
    "from plotly import __version__\n",
    "from plotly.offline import download_plotlyjs, init_notebook_mode, plot, iplot\n",
    "\n",
    "print __version__ # requires version >= 1.9.0"
   ]
  },
  {
   "cell_type": "code",
   "execution_count": 37,
   "metadata": {
    "collapsed": false
   },
   "outputs": [
    {
     "data": {
      "text/plain": [
       "'file:///home/jaafar/anaconda2/Forecasting-ANN/temp-plot.html'"
      ]
     },
     "execution_count": 37,
     "metadata": {},
     "output_type": "execute_result"
    }
   ],
   "source": [
    "from plotly.graph_objs import Bar, Scatter, Figure, Layout\n",
    "\n",
    "plot([Scatter(x=[1, 2, 3], y=[3, 1, 6])])"
   ]
  },
  {
   "cell_type": "code",
   "execution_count": 38,
   "metadata": {
    "collapsed": true
   },
   "outputs": [],
   "source": [
    "df = pd.read_csv('Data/Ellis.csv',sep=\";\")\n",
    "df_sample = df[10:20]\n",
    "\n",
    "\n",
    "colorscale = [[2, '#4d004c']]\n",
    "\n",
    "table = FF.create_table(df_sample,colorscale=colorscale)"
   ]
  },
  {
   "cell_type": "code",
   "execution_count": 39,
   "metadata": {
    "collapsed": true
   },
   "outputs": [],
   "source": [
    "py.image.save_as(table, 'my_plot.png')"
   ]
  },
  {
   "cell_type": "code",
   "execution_count": 40,
   "metadata": {
    "collapsed": true
   },
   "outputs": [],
   "source": [
    "!nautilus . \n"
   ]
  },
  {
   "cell_type": "code",
   "execution_count": 98,
   "metadata": {
    "collapsed": false
   },
   "outputs": [
    {
     "name": "stdout",
     "output_type": "stream",
     "text": [
      "/home/jaafar/anaconda2/Forecasting-ANN\r\n"
     ]
    }
   ],
   "source": [
    "!pwd\n"
   ]
  },
  {
   "cell_type": "code",
   "execution_count": 100,
   "metadata": {
    "collapsed": false
   },
   "outputs": [],
   "source": [
    "import pandas as pd\n",
    "from matplotlib.backends.backend_pdf import PdfPages\n",
    "import matplotlib.pyplot as plt\n",
    "\n",
    "# Assuming that you have a dataframe, df\n",
    "pp = PdfPages('Appendix_A.png')\n",
    "total_rows, total_cols = df.shape; #There were 3 columns in my df\n",
    "\n",
    "rows_per_page = 40; # Assign a page cut off length\n",
    "rows_printed = 0\n",
    "page_number = 1;\n",
    "\n",
    "while (total_rows >0): \n",
    "    #put the table on a correctly sized figure    \n",
    "    fig=plt.figure(figsize=(8.5, 11))\n",
    "    plt.gca().axis('off')\n",
    "    matplotlib_tab = pd.tools.plotting.table(plt.gca(),df.iloc[rows_printed:rows_printed+rows_per_page], \n",
    "        loc='upper center', colWidths=[0.2, 0.2, 0.2])    \n",
    "\n",
    "    # Give you cells some styling \n",
    "    table_props=matplotlib_tab.properties()\n",
    "    table_cells=table_props['child_artists'] # I have no clue why child_artists works\n",
    "    for cell in table_cells:\n",
    "        cell.set_height(0.024)\n",
    "        cell.set_fontsize(12)\n",
    "\n",
    "    # Add a header and footer with page number \n",
    "    fig.text(4.25/8.5, 10.5/11., \"Appendix A\", ha='center', fontsize=12)\n",
    "    fig.text(4.25/8.5, 0.5/11., 'A'+str(page_number), ha='center', fontsize=12)\n",
    "\n",
    "    pp.savefig()\n",
    "    plt.close()\n",
    "\n",
    "    #Update variables\n",
    "    rows_printed += rows_per_page;\n",
    "    total_rows -= rows_per_page;\n",
    "    page_number+=1;\n",
    "\n",
    "pp.close()\n",
    "\n"
   ]
  },
  {
   "cell_type": "code",
   "execution_count": null,
   "metadata": {
    "collapsed": true
   },
   "outputs": [],
   "source": []
  }
 ],
 "metadata": {
  "kernelspec": {
   "display_name": "Python 2",
   "language": "python",
   "name": "python2"
  },
  "language_info": {
   "codemirror_mode": {
    "name": "ipython",
    "version": 2
   },
   "file_extension": ".py",
   "mimetype": "text/x-python",
   "name": "python",
   "nbconvert_exporter": "python",
   "pygments_lexer": "ipython2",
   "version": "2.7.6"
  }
 },
 "nbformat": 4,
 "nbformat_minor": 0
}
