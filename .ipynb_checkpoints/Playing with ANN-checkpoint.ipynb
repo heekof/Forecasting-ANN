{
 "cells": [
  {
   "cell_type": "code",
   "execution_count": 11,
   "metadata": {
    "collapsed": true
   },
   "outputs": [],
   "source": [
    "import numpy as np\n",
    "import pandas as pd\n",
    "from pandas import Series,DataFrame\n",
    "import time as t\n",
    "import datetime as dt\n",
    "import string as st\n",
    "%matplotlib inline\n",
    "import matplotlib\n",
    "import matplotlib.pyplot as plt\n",
    "from numpy import genfromtxt\n",
    "import math as m\n"
   ]
  },
  {
   "cell_type": "code",
   "execution_count": 12,
   "metadata": {
    "collapsed": true
   },
   "outputs": [],
   "source": [
    "def f(x):\n",
    "    return np.sin(x);"
   ]
  },
  {
   "cell_type": "code",
   "execution_count": 18,
   "metadata": {
    "collapsed": false
   },
   "outputs": [],
   "source": [
    "X_matrix = np.genfromtxt('Martrix_X_streamingserver.csv', delimiter=';');\n",
    "#Y_matrix = np.genfromtxt('Martrix_Y_streamingserver.csv', delimiter=';');\n",
    "Y_matrix = pd.read_csv('Martrix_Y_streamingserver.csv',sep=';')\n",
    "y = np.asanyarray(Y_matrix)\n",
    "X = X_matrix.copy()\n",
    "X_l = X.tolist();\n",
    "y_l = y.tolist();"
   ]
  },
  {
   "cell_type": "code",
   "execution_count": 19,
   "metadata": {
    "collapsed": false
   },
   "outputs": [
    {
     "data": {
      "text/plain": [
       "\"X =np.arange(0.0,10,0.1)\\ny = f(X)\\nplt.plot(X,y,'b*')\""
      ]
     },
     "execution_count": 19,
     "metadata": {},
     "output_type": "execute_result"
    }
   ],
   "source": [
    "'''X =np.arange(0.0,10,0.1)\n",
    "y = f(X)\n",
    "plt.plot(X,y,'b*')'''"
   ]
  },
  {
   "cell_type": "code",
   "execution_count": 21,
   "metadata": {
    "collapsed": false
   },
   "outputs": [
    {
     "data": {
      "text/plain": [
       "1496"
      ]
     },
     "execution_count": 21,
     "metadata": {},
     "output_type": "execute_result"
    }
   ],
   "source": [
    "np.size(X_l)\n",
    "np.size(y_l)\n",
    "len(X_l)"
   ]
  },
  {
   "cell_type": "code",
   "execution_count": null,
   "metadata": {
    "collapsed": false
   },
   "outputs": [],
   "source": []
  },
  {
   "cell_type": "code",
   "execution_count": 3,
   "metadata": {
    "collapsed": false
   },
   "outputs": [
    {
     "ename": "NameError",
     "evalue": "name 'X' is not defined",
     "output_type": "error",
     "traceback": [
      "\u001b[1;31m---------------------------------------------------------------------------\u001b[0m",
      "\u001b[1;31mNameError\u001b[0m                                 Traceback (most recent call last)",
      "\u001b[1;32m<ipython-input-3-819974549c20>\u001b[0m in \u001b[0;36m<module>\u001b[1;34m()\u001b[0m\n\u001b[1;32m----> 1\u001b[1;33m \u001b[0mplt\u001b[0m\u001b[1;33m.\u001b[0m\u001b[0mplot\u001b[0m\u001b[1;33m(\u001b[0m\u001b[0mX\u001b[0m\u001b[1;33m,\u001b[0m\u001b[0my\u001b[0m\u001b[1;33m,\u001b[0m\u001b[1;34m'b*'\u001b[0m\u001b[1;33m)\u001b[0m\u001b[1;33m\u001b[0m\u001b[0m\n\u001b[0m",
      "\u001b[1;31mNameError\u001b[0m: name 'X' is not defined"
     ]
    }
   ],
   "source": [
    "\n"
   ]
  },
  {
   "cell_type": "code",
   "execution_count": 375,
   "metadata": {
    "collapsed": true
   },
   "outputs": [],
   "source": [
    "xmin = X.min()\n",
    "xmax = X.max()\n",
    "ymin = y.min()\n",
    "ymax = y.max()\n",
    "y2 = y.copy()\n",
    "x2 = X.copy()\n",
    "x2 -= xmin\n",
    "x2 /= (xmax-xmin)\n",
    "y2 -= ymin\n",
    "y2 /= (ymax-ymin)"
   ]
  },
  {
   "cell_type": "code",
   "execution_count": 376,
   "metadata": {
    "collapsed": true
   },
   "outputs": [],
   "source": [
    "import numpy as np\n",
    "from sklearn.cross_validation import train_test_split \n",
    "from sklearn.metrics import confusion_matrix, classification_report\n",
    "from sklearn.preprocessing import LabelBinarizer, MinMaxScaler"
   ]
  },
  {
   "cell_type": "markdown",
   "metadata": {},
   "source": [
    "#scale the matrix with all the 4 features\n",
    "xsc = MinMaxScaler(feature_range=(0, 1), copy=True)\n",
    "xsc.fit(X)\n",
    "xsc.fit(y)\n",
    "\n",
    "' xsc will remember the min and max for each feature\n",
    "X_train, X_test, y_train, y_test = train_test_split(xsc.transform(X), xsc.transform(y))\n",
    "\n",
    "' our network uses lists (pure Python, no frameworks) so passing numpy arrays 'will fail\n",
    "X_train_l = X_train.tolist()\n",
    "y_train_l = y_train.tolist()\n",
    "X_test_l = X_test.tolist()\n",
    "\n",
    "\n"
   ]
  },
  {
   "cell_type": "markdown",
   "metadata": {},
   "source": [
    "# Training vs Testing"
   ]
  },
  {
   "cell_type": "code",
   "execution_count": 4,
   "metadata": {
    "collapsed": false
   },
   "outputs": [
    {
     "ename": "NameError",
     "evalue": "name 'x2' is not defined",
     "output_type": "error",
     "traceback": [
      "\u001b[1;31m---------------------------------------------------------------------------\u001b[0m",
      "\u001b[1;31mNameError\u001b[0m                                 Traceback (most recent call last)",
      "\u001b[1;32m<ipython-input-4-e2ee9ad17fdf>\u001b[0m in \u001b[0;36m<module>\u001b[1;34m()\u001b[0m\n\u001b[1;32m----> 1\u001b[1;33m \u001b[0mx2\u001b[0m\u001b[1;33m\u001b[0m\u001b[0m\n\u001b[0m",
      "\u001b[1;31mNameError\u001b[0m: name 'x2' is not defined"
     ]
    }
   ],
   "source": [
    "x2"
   ]
  },
  {
   "cell_type": "code",
   "execution_count": 378,
   "metadata": {
    "collapsed": false
   },
   "outputs": [],
   "source": [
    "inputs = [[i] for i in x2]\n",
    "targets = [[t] for t in y2]\n",
    "#inputs"
   ]
  },
  {
   "cell_type": "code",
   "execution_count": 4,
   "metadata": {
    "collapsed": false
   },
   "outputs": [
    {
     "ename": "IndexError",
     "evalue": "list index out of range",
     "output_type": "error",
     "traceback": [
      "\u001b[1;31m---------------------------------------------------------------------------\u001b[0m",
      "\u001b[1;31mIndexError\u001b[0m                                Traceback (most recent call last)",
      "\u001b[1;32m<ipython-input-4-09023eea4f9b>\u001b[0m in \u001b[0;36m<module>\u001b[1;34m()\u001b[0m\n\u001b[0;32m     11\u001b[0m \u001b[1;31m# train the ANN\u001b[0m\u001b[1;33m\u001b[0m\u001b[1;33m\u001b[0m\u001b[0m\n\u001b[0;32m     12\u001b[0m \u001b[1;31m#nn.train(inputs, targets, 1600)\u001b[0m\u001b[1;33m\u001b[0m\u001b[1;33m\u001b[0m\u001b[0m\n\u001b[1;32m---> 13\u001b[1;33m \u001b[0mnn\u001b[0m\u001b[1;33m.\u001b[0m\u001b[0mtrain\u001b[0m\u001b[1;33m(\u001b[0m\u001b[0mX_l\u001b[0m\u001b[1;33m,\u001b[0m\u001b[0my_l\u001b[0m\u001b[1;33m,\u001b[0m\u001b[1;36m300\u001b[0m\u001b[1;33m)\u001b[0m\u001b[1;33m\u001b[0m\u001b[0m\n\u001b[0m",
      "\u001b[1;32m/home/jaafar/anaconda2/Forecasting-ANN/ann.py\u001b[0m in \u001b[0;36mtrain\u001b[1;34m(self, inputs, targets, n_epochs)\u001b[0m\n\u001b[0;32m     48\u001b[0m                 \u001b[0mself\u001b[0m\u001b[1;33m.\u001b[0m\u001b[0mforward_propagate\u001b[0m\u001b[1;33m(\u001b[0m\u001b[1;33m)\u001b[0m\u001b[1;33m\u001b[0m\u001b[0m\n\u001b[0;32m     49\u001b[0m \u001b[1;33m\u001b[0m\u001b[0m\n\u001b[1;32m---> 50\u001b[1;33m                 \u001b[0msample_error\u001b[0m \u001b[1;33m=\u001b[0m \u001b[0mself\u001b[0m\u001b[1;33m.\u001b[0m\u001b[0mupdate_error_output\u001b[0m\u001b[1;33m(\u001b[0m\u001b[0mtargets\u001b[0m\u001b[1;33m[\u001b[0m\u001b[0mi\u001b[0m\u001b[1;33m]\u001b[0m\u001b[1;33m)\u001b[0m\u001b[1;33m\u001b[0m\u001b[0m\n\u001b[0m\u001b[0;32m     51\u001b[0m                 \u001b[0mepoch_error\u001b[0m \u001b[1;33m+=\u001b[0m \u001b[0msample_error\u001b[0m\u001b[1;33m\u001b[0m\u001b[0m\n\u001b[0;32m     52\u001b[0m \u001b[1;33m\u001b[0m\u001b[0m\n",
      "\u001b[1;31mIndexError\u001b[0m: list index out of range"
     ]
    }
   ],
   "source": [
    "from ann import ANN\n",
    "\n",
    "# 4 input neurons: sepal length (cm),sepal width (cm), petal length (cm), petal width (cm)\n",
    "# 10 hidden neurons\n",
    "# 3 output neurons: setosa [1, 0, 0], versicolor [0, 1, 0], virginica [0, 0, 1]\n",
    "nn = ANN([1,2,1])\n",
    "\n",
    "\n",
    "# Here please Try to represent the input data as percentage so that you can capture patterns\n",
    "\n",
    "# train the ANN\n",
    "#nn.train(inputs, targets, 1600)\n",
    "nn.train(X_l,y_l,300)"
   ]
  },
  {
   "cell_type": "code",
   "execution_count": 380,
   "metadata": {
    "collapsed": false
   },
   "outputs": [],
   "source": [
    "# to uncomment\n",
    "#example_id = 3\n",
    "#pred = nn.predict(X_l[example_id])\n",
    "#print('prediction', pred)\n",
    "\n",
    "\n",
    "\n"
   ]
  },
  {
   "cell_type": "code",
   "execution_count": 381,
   "metadata": {
    "collapsed": false
   },
   "outputs": [
    {
     "data": {
      "text/plain": [
       "array([ 0.90117951,  0.89887864,  0.89636504,  0.89361698,  0.89061045,\n",
       "        0.88731898,  0.88371337,  0.87976152,  0.87542818,  0.87067471,\n",
       "        0.86545891,  0.85973482,  0.85345265,  0.84655866,  0.83899526,\n",
       "        0.83070118,  0.82161178,  0.81165964,  0.80077528,  0.78888831,\n",
       "        0.77592879,  0.76182898,  0.74652547,  0.72996169,  0.71209066,\n",
       "        0.69287815,  0.67230579,  0.65037439,  0.62710688,  0.60255096,\n",
       "        0.57678109,  0.54989962,  0.52203687,  0.49335013,  0.4640214 ,\n",
       "        0.43425409,  0.40426869,  0.37429776,  0.3445806 ,  0.31535787,\n",
       "        0.28686657,  0.25933583,  0.23298369,  0.20801541,  0.18462325,\n",
       "        0.16298824,  0.14328412,  0.12568363,  0.11036772,  0.0975378 ,\n",
       "        0.08743175,  0.08034358,  0.07664701,  0.07682169,  0.08147973,\n",
       "        0.09138732,  0.10747178,  0.13079825,  0.16249266,  0.20358142,\n",
       "        0.25472291,  0.3158344 ,  0.38568765,  0.46164717,  0.53978815,\n",
       "        0.61553542,  0.68467284,  0.74427702,  0.79313567,  0.83155079,\n",
       "        0.8607789 ,  0.88244693,  0.89814321,  0.90921346,  0.91670369,\n",
       "        0.92138012,  0.92377708,  0.92424712,  0.92300299,  0.92014939,\n",
       "        0.91570545,  0.90962021,  0.90178299,  0.89203068,  0.88015331,\n",
       "        0.86589946,  0.84898253,  0.82908911,  0.80589038,  0.77905727,\n",
       "        0.74827983,  0.71329054,  0.67389061,  0.62997746,  0.58157048,\n",
       "        0.52883187,  0.47207881,  0.41178396,  0.34856261,  0.28314658])"
      ]
     },
     "execution_count": 381,
     "metadata": {},
     "output_type": "execute_result"
    }
   ],
   "source": [
    "preds = np.array([nn.predict(input)[0] for input in inputs])\n",
    "preds\n"
   ]
  },
  {
   "cell_type": "code",
   "execution_count": 382,
   "metadata": {
    "collapsed": false
   },
   "outputs": [],
   "source": [
    "predsscaled = preds * (ymax-ymin)+ymin"
   ]
  },
  {
   "cell_type": "code",
   "execution_count": 383,
   "metadata": {
    "collapsed": false
   },
   "outputs": [
    {
     "data": {
      "text/plain": [
       "[<matplotlib.lines.Line2D at 0xf830e48>]"
      ]
     },
     "execution_count": 383,
     "metadata": {},
     "output_type": "execute_result"
    },
    {
     "data": {
      "image/png": "[encoded data removed]",
      "text/plain": [
       "<matplotlib.figure.Figure at 0xf500eb8>"
      ]
     },
     "metadata": {},
     "output_type": "display_data"
    }
   ],
   "source": [
    "plt.plot(x,predsscaled,'r*')"
   ]
  },
  {
   "cell_type": "code",
   "execution_count": 384,
   "metadata": {
    "collapsed": false
   },
   "outputs": [
    {
     "data": {
      "text/plain": [
       "[<matplotlib.lines.Line2D at 0xf9bcda0>,\n",
       " <matplotlib.lines.Line2D at 0xf9bce80>]"
      ]
     },
     "execution_count": 384,
     "metadata": {},
     "output_type": "execute_result"
    },
    {
     "data": {
      "image/png": "[encoded data removed]",
      "text/plain": [
       "<matplotlib.figure.Figure at 0xf7ea7b8>"
      ]
     },
     "metadata": {},
     "output_type": "display_data"
    }
   ],
   "source": [
    "plt.plot(x,y,'bo',x,predsscaled,'r*')"
   ]
  },
  {
   "cell_type": "code",
   "execution_count": 385,
   "metadata": {
    "collapsed": false
   },
   "outputs": [
    {
     "name": "stdout",
     "output_type": "stream",
     "text": [
      "('prediction error in percentage : ', 5.4813035964995089, '%')\n"
     ]
    }
   ],
   "source": [
    "\n",
    "print(\"prediction error in percentage : \", np.mean((predsscaled - y)**2)*100,\"%\")"
   ]
  },
  {
   "cell_type": "code",
   "execution_count": null,
   "metadata": {
    "collapsed": true
   },
   "outputs": [],
   "source": []
  }
 ],
 "metadata": {
  "kernelspec": {
   "display_name": "Python 2",
   "language": "python",
   "name": "python2"
  },
  "language_info": {
   "codemirror_mode": {
    "name": "ipython",
    "version": 2
   },
   "file_extension": ".py",
   "mimetype": "text/x-python",
   "name": "python",
   "nbconvert_exporter": "python",
   "pygments_lexer": "ipython2",
   "version": "2.7.11"
  }
 },
 "nbformat": 4,
 "nbformat_minor": 0
}
