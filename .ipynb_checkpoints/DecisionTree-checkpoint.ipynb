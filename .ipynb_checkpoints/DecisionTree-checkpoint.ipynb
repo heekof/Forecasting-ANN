{
 "cells": [
  {
   "cell_type": "markdown",
   "metadata": {},
   "source": [
    "# Decison Trees"
   ]
  },
  {
   "cell_type": "markdown",
   "metadata": {},
   "source": [
    "First we'll load some fake data on past hires I made up. Note how we use pandas to convert a csv file into a DataFrame:"
   ]
  },
  {
   "cell_type": "markdown",
   "metadata": {},
   "source": [
    "### Pretreatement"
   ]
  },
  {
   "cell_type": "code",
   "execution_count": 1,
   "metadata": {
    "collapsed": true
   },
   "outputs": [],
   "source": [
    "import numpy as np\n",
    "import pandas as pd"
   ]
  },
  {
   "cell_type": "code",
   "execution_count": 16,
   "metadata": {
    "collapsed": true
   },
   "outputs": [],
   "source": [
    "input_file = \"Data/Ellis.csv\"\n",
    "df_Ellis = pd.read_csv(input_file, header = 0,sep=\";\")"
   ]
  },
  {
   "cell_type": "code",
   "execution_count": 52,
   "metadata": {
    "collapsed": true
   },
   "outputs": [],
   "source": [
    "df_Ellis['SLO1'] = 0\n",
    "df_Ellis['SLO2'] = 0\n",
    "df_Ellis['SLO3'] = 0"
   ]
  },
  {
   "cell_type": "code",
   "execution_count": 34,
   "metadata": {},
   "outputs": [
    {
     "data": {
      "text/html": [
       "<div>\n",
       "<table border=\"1\" class=\"dataframe\">\n",
       "  <thead>\n",
       "    <tr style=\"text-align: right;\">\n",
       "      <th></th>\n",
       "      <th>Timestamp</th>\n",
       "      <th>load_avg_1_min</th>\n",
       "      <th>cpu_wait_perc</th>\n",
       "      <th>net_out_packets_sec</th>\n",
       "      <th>cpu_system_perc</th>\n",
       "      <th>net_in_bytes_sec</th>\n",
       "      <th>mem_free_mb</th>\n",
       "      <th>SLO1</th>\n",
       "      <th>SLO2</th>\n",
       "      <th>SLO3</th>\n",
       "    </tr>\n",
       "  </thead>\n",
       "  <tbody>\n",
       "    <tr>\n",
       "      <th>0</th>\n",
       "      <td>2016-08-31T20:47:23.230Z</td>\n",
       "      <td>2.04</td>\n",
       "      <td>16.8</td>\n",
       "      <td>65.800000</td>\n",
       "      <td>3.6</td>\n",
       "      <td>5967.800000</td>\n",
       "      <td>4997.0</td>\n",
       "      <td>0</td>\n",
       "      <td>0</td>\n",
       "      <td>0</td>\n",
       "    </tr>\n",
       "    <tr>\n",
       "      <th>1</th>\n",
       "      <td>2016-08-31T20:47:53.252Z</td>\n",
       "      <td>1.82</td>\n",
       "      <td>12.7</td>\n",
       "      <td>65.266667</td>\n",
       "      <td>0.9</td>\n",
       "      <td>5722.100000</td>\n",
       "      <td>5014.0</td>\n",
       "      <td>0</td>\n",
       "      <td>0</td>\n",
       "      <td>0</td>\n",
       "    </tr>\n",
       "    <tr>\n",
       "      <th>2</th>\n",
       "      <td>2016-08-31T20:48:23.233Z</td>\n",
       "      <td>1.63</td>\n",
       "      <td>14.3</td>\n",
       "      <td>65.200000</td>\n",
       "      <td>0.6</td>\n",
       "      <td>5487.333333</td>\n",
       "      <td>5013.0</td>\n",
       "      <td>0</td>\n",
       "      <td>0</td>\n",
       "      <td>0</td>\n",
       "    </tr>\n",
       "    <tr>\n",
       "      <th>3</th>\n",
       "      <td>2016-08-31T20:48:53.256Z</td>\n",
       "      <td>1.63</td>\n",
       "      <td>17.5</td>\n",
       "      <td>65.233333</td>\n",
       "      <td>0.6</td>\n",
       "      <td>5545.433333</td>\n",
       "      <td>5014.0</td>\n",
       "      <td>0</td>\n",
       "      <td>0</td>\n",
       "      <td>0</td>\n",
       "    </tr>\n",
       "    <tr>\n",
       "      <th>4</th>\n",
       "      <td>2016-08-31T20:49:23.235Z</td>\n",
       "      <td>1.37</td>\n",
       "      <td>18.0</td>\n",
       "      <td>65.866667</td>\n",
       "      <td>0.5</td>\n",
       "      <td>5597.666667</td>\n",
       "      <td>5013.0</td>\n",
       "      <td>0</td>\n",
       "      <td>0</td>\n",
       "      <td>0</td>\n",
       "    </tr>\n",
       "  </tbody>\n",
       "</table>\n",
       "</div>"
      ],
      "text/plain": [
       "                  Timestamp  load_avg_1_min  cpu_wait_perc  \\\n",
       "0  2016-08-31T20:47:23.230Z            2.04           16.8   \n",
       "1  2016-08-31T20:47:53.252Z            1.82           12.7   \n",
       "2  2016-08-31T20:48:23.233Z            1.63           14.3   \n",
       "3  2016-08-31T20:48:53.256Z            1.63           17.5   \n",
       "4  2016-08-31T20:49:23.235Z            1.37           18.0   \n",
       "\n",
       "   net_out_packets_sec  cpu_system_perc  net_in_bytes_sec  mem_free_mb  SLO1  \\\n",
       "0            65.800000              3.6       5967.800000       4997.0     0   \n",
       "1            65.266667              0.9       5722.100000       5014.0     0   \n",
       "2            65.200000              0.6       5487.333333       5013.0     0   \n",
       "3            65.233333              0.6       5545.433333       5014.0     0   \n",
       "4            65.866667              0.5       5597.666667       5013.0     0   \n",
       "\n",
       "   SLO2  SLO3  \n",
       "0     0     0  \n",
       "1     0     0  \n",
       "2     0     0  \n",
       "3     0     0  \n",
       "4     0     0  "
      ]
     },
     "execution_count": 34,
     "metadata": {},
     "output_type": "execute_result"
    }
   ],
   "source": [
    "df_Ellis.head()"
   ]
  },
  {
   "cell_type": "code",
   "execution_count": 51,
   "metadata": {},
   "outputs": [
    {
     "data": {
      "text/html": [
       "<div>\n",
       "<table border=\"1\" class=\"dataframe\">\n",
       "  <thead>\n",
       "    <tr style=\"text-align: right;\">\n",
       "      <th></th>\n",
       "      <th>load_avg_1_min</th>\n",
       "      <th>cpu_wait_perc</th>\n",
       "      <th>net_out_packets_sec</th>\n",
       "      <th>cpu_system_perc</th>\n",
       "      <th>net_in_bytes_sec</th>\n",
       "      <th>mem_free_mb</th>\n",
       "      <th>SLO1</th>\n",
       "      <th>SLO2</th>\n",
       "      <th>SLO3</th>\n",
       "    </tr>\n",
       "  </thead>\n",
       "  <tbody>\n",
       "    <tr>\n",
       "      <th>count</th>\n",
       "      <td>10000.000000</td>\n",
       "      <td>10000.000000</td>\n",
       "      <td>10000.000000</td>\n",
       "      <td>10000.000000</td>\n",
       "      <td>10000.000000</td>\n",
       "      <td>10000.000000</td>\n",
       "      <td>10000.000000</td>\n",
       "      <td>10000.000000</td>\n",
       "      <td>10000.000000</td>\n",
       "    </tr>\n",
       "    <tr>\n",
       "      <th>mean</th>\n",
       "      <td>1.156925</td>\n",
       "      <td>13.285880</td>\n",
       "      <td>83.713010</td>\n",
       "      <td>0.698570</td>\n",
       "      <td>8050.983438</td>\n",
       "      <td>4648.403200</td>\n",
       "      <td>0.194800</td>\n",
       "      <td>0.154700</td>\n",
       "      <td>0.249700</td>\n",
       "    </tr>\n",
       "    <tr>\n",
       "      <th>std</th>\n",
       "      <td>0.497229</td>\n",
       "      <td>3.438666</td>\n",
       "      <td>47.029871</td>\n",
       "      <td>0.326024</td>\n",
       "      <td>6556.417684</td>\n",
       "      <td>252.783234</td>\n",
       "      <td>0.396066</td>\n",
       "      <td>0.361637</td>\n",
       "      <td>0.432861</td>\n",
       "    </tr>\n",
       "    <tr>\n",
       "      <th>min</th>\n",
       "      <td>0.050000</td>\n",
       "      <td>4.900000</td>\n",
       "      <td>50.833333</td>\n",
       "      <td>0.300000</td>\n",
       "      <td>4519.066667</td>\n",
       "      <td>4062.000000</td>\n",
       "      <td>0.000000</td>\n",
       "      <td>0.000000</td>\n",
       "      <td>0.000000</td>\n",
       "    </tr>\n",
       "    <tr>\n",
       "      <th>50%</th>\n",
       "      <td>1.190000</td>\n",
       "      <td>13.200000</td>\n",
       "      <td>63.200000</td>\n",
       "      <td>0.600000</td>\n",
       "      <td>5466.866667</td>\n",
       "      <td>4721.000000</td>\n",
       "      <td>0.000000</td>\n",
       "      <td>0.000000</td>\n",
       "      <td>0.000000</td>\n",
       "    </tr>\n",
       "    <tr>\n",
       "      <th>95%</th>\n",
       "      <td>1.880000</td>\n",
       "      <td>18.300000</td>\n",
       "      <td>192.133333</td>\n",
       "      <td>1.000000</td>\n",
       "      <td>21139.343333</td>\n",
       "      <td>5004.000000</td>\n",
       "      <td>1.000000</td>\n",
       "      <td>1.000000</td>\n",
       "      <td>1.000000</td>\n",
       "    </tr>\n",
       "    <tr>\n",
       "      <th>max</th>\n",
       "      <td>2.880000</td>\n",
       "      <td>26.200000</td>\n",
       "      <td>252.200000</td>\n",
       "      <td>7.300000</td>\n",
       "      <td>201783.466667</td>\n",
       "      <td>5017.000000</td>\n",
       "      <td>1.000000</td>\n",
       "      <td>1.000000</td>\n",
       "      <td>1.000000</td>\n",
       "    </tr>\n",
       "  </tbody>\n",
       "</table>\n",
       "</div>"
      ],
      "text/plain": [
       "       load_avg_1_min  cpu_wait_perc  net_out_packets_sec  cpu_system_perc  \\\n",
       "count    10000.000000   10000.000000         10000.000000     10000.000000   \n",
       "mean         1.156925      13.285880            83.713010         0.698570   \n",
       "std          0.497229       3.438666            47.029871         0.326024   \n",
       "min          0.050000       4.900000            50.833333         0.300000   \n",
       "50%          1.190000      13.200000            63.200000         0.600000   \n",
       "95%          1.880000      18.300000           192.133333         1.000000   \n",
       "max          2.880000      26.200000           252.200000         7.300000   \n",
       "\n",
       "       net_in_bytes_sec   mem_free_mb          SLO1          SLO2  \\\n",
       "count      10000.000000  10000.000000  10000.000000  10000.000000   \n",
       "mean        8050.983438   4648.403200      0.194800      0.154700   \n",
       "std         6556.417684    252.783234      0.396066      0.361637   \n",
       "min         4519.066667   4062.000000      0.000000      0.000000   \n",
       "50%         5466.866667   4721.000000      0.000000      0.000000   \n",
       "95%        21139.343333   5004.000000      1.000000      1.000000   \n",
       "max       201783.466667   5017.000000      1.000000      1.000000   \n",
       "\n",
       "               SLO3  \n",
       "count  10000.000000  \n",
       "mean       0.249700  \n",
       "std        0.432861  \n",
       "min        0.000000  \n",
       "50%        0.000000  \n",
       "95%        1.000000  \n",
       "max        1.000000  "
      ]
     },
     "execution_count": 51,
     "metadata": {},
     "output_type": "execute_result"
    }
   ],
   "source": [
    "df_Ellis.describe(percentiles=[.95])"
   ]
  },
  {
   "cell_type": "code",
   "execution_count": 53,
   "metadata": {},
   "outputs": [
    {
     "name": "stderr",
     "output_type": "stream",
     "text": [
      "/usr/local/lib/python2.7/dist-packages/ipykernel/__main__.py:2: SettingWithCopyWarning: \n",
      "A value is trying to be set on a copy of a slice from a DataFrame\n",
      "\n",
      "See the caveats in the documentation: http://pandas.pydata.org/pandas-docs/stable/indexing.html#indexing-view-versus-copy\n",
      "  from ipykernel import kernelapp as app\n",
      "/usr/local/lib/python2.7/dist-packages/ipykernel/__main__.py:3: SettingWithCopyWarning: \n",
      "A value is trying to be set on a copy of a slice from a DataFrame\n",
      "\n",
      "See the caveats in the documentation: http://pandas.pydata.org/pandas-docs/stable/indexing.html#indexing-view-versus-copy\n",
      "  app.launch_new_instance()\n",
      "/usr/local/lib/python2.7/dist-packages/ipykernel/__main__.py:4: SettingWithCopyWarning: \n",
      "A value is trying to be set on a copy of a slice from a DataFrame\n",
      "\n",
      "See the caveats in the documentation: http://pandas.pydata.org/pandas-docs/stable/indexing.html#indexing-view-versus-copy\n"
     ]
    }
   ],
   "source": [
    "\n",
    "df_Ellis.SLO1[df_Ellis.cpu_wait_perc > 18.3] = 1\n",
    "df_Ellis.SLO2[df_Ellis.load_avg_1_min > 1.88] = 1\n",
    "df_Ellis.SLO3[df_Ellis.net_in_bytes_sec > 21139.343333] = 1\n",
    "#df_Ellis[df_Ellis.SLO2=1]\n",
    "#df_Ellis[df_Ellis.SLO3=1]"
   ]
  },
  {
   "cell_type": "code",
   "execution_count": 54,
   "metadata": {},
   "outputs": [
    {
     "data": {
      "text/html": [
       "<div>\n",
       "<table border=\"1\" class=\"dataframe\">\n",
       "  <thead>\n",
       "    <tr style=\"text-align: right;\">\n",
       "      <th></th>\n",
       "      <th>Timestamp</th>\n",
       "      <th>load_avg_1_min</th>\n",
       "      <th>cpu_wait_perc</th>\n",
       "      <th>net_out_packets_sec</th>\n",
       "      <th>cpu_system_perc</th>\n",
       "      <th>net_in_bytes_sec</th>\n",
       "      <th>mem_free_mb</th>\n",
       "      <th>SLO1</th>\n",
       "      <th>SLO2</th>\n",
       "      <th>SLO3</th>\n",
       "    </tr>\n",
       "  </thead>\n",
       "  <tbody>\n",
       "    <tr>\n",
       "      <th>0</th>\n",
       "      <td>2016-08-31T20:47:23.230Z</td>\n",
       "      <td>2.04</td>\n",
       "      <td>16.8</td>\n",
       "      <td>65.800000</td>\n",
       "      <td>3.6</td>\n",
       "      <td>5967.800000</td>\n",
       "      <td>4997.0</td>\n",
       "      <td>0</td>\n",
       "      <td>1</td>\n",
       "      <td>0</td>\n",
       "    </tr>\n",
       "    <tr>\n",
       "      <th>1</th>\n",
       "      <td>2016-08-31T20:47:53.252Z</td>\n",
       "      <td>1.82</td>\n",
       "      <td>12.7</td>\n",
       "      <td>65.266667</td>\n",
       "      <td>0.9</td>\n",
       "      <td>5722.100000</td>\n",
       "      <td>5014.0</td>\n",
       "      <td>0</td>\n",
       "      <td>0</td>\n",
       "      <td>0</td>\n",
       "    </tr>\n",
       "    <tr>\n",
       "      <th>2</th>\n",
       "      <td>2016-08-31T20:48:23.233Z</td>\n",
       "      <td>1.63</td>\n",
       "      <td>14.3</td>\n",
       "      <td>65.200000</td>\n",
       "      <td>0.6</td>\n",
       "      <td>5487.333333</td>\n",
       "      <td>5013.0</td>\n",
       "      <td>0</td>\n",
       "      <td>0</td>\n",
       "      <td>0</td>\n",
       "    </tr>\n",
       "    <tr>\n",
       "      <th>3</th>\n",
       "      <td>2016-08-31T20:48:53.256Z</td>\n",
       "      <td>1.63</td>\n",
       "      <td>17.5</td>\n",
       "      <td>65.233333</td>\n",
       "      <td>0.6</td>\n",
       "      <td>5545.433333</td>\n",
       "      <td>5014.0</td>\n",
       "      <td>0</td>\n",
       "      <td>0</td>\n",
       "      <td>0</td>\n",
       "    </tr>\n",
       "    <tr>\n",
       "      <th>4</th>\n",
       "      <td>2016-08-31T20:49:23.235Z</td>\n",
       "      <td>1.37</td>\n",
       "      <td>18.0</td>\n",
       "      <td>65.866667</td>\n",
       "      <td>0.5</td>\n",
       "      <td>5597.666667</td>\n",
       "      <td>5013.0</td>\n",
       "      <td>0</td>\n",
       "      <td>0</td>\n",
       "      <td>0</td>\n",
       "    </tr>\n",
       "  </tbody>\n",
       "</table>\n",
       "</div>"
      ],
      "text/plain": [
       "                  Timestamp  load_avg_1_min  cpu_wait_perc  \\\n",
       "0  2016-08-31T20:47:23.230Z            2.04           16.8   \n",
       "1  2016-08-31T20:47:53.252Z            1.82           12.7   \n",
       "2  2016-08-31T20:48:23.233Z            1.63           14.3   \n",
       "3  2016-08-31T20:48:53.256Z            1.63           17.5   \n",
       "4  2016-08-31T20:49:23.235Z            1.37           18.0   \n",
       "\n",
       "   net_out_packets_sec  cpu_system_perc  net_in_bytes_sec  mem_free_mb  SLO1  \\\n",
       "0            65.800000              3.6       5967.800000       4997.0     0   \n",
       "1            65.266667              0.9       5722.100000       5014.0     0   \n",
       "2            65.200000              0.6       5487.333333       5013.0     0   \n",
       "3            65.233333              0.6       5545.433333       5014.0     0   \n",
       "4            65.866667              0.5       5597.666667       5013.0     0   \n",
       "\n",
       "   SLO2  SLO3  \n",
       "0     1     0  \n",
       "1     0     0  \n",
       "2     0     0  \n",
       "3     0     0  \n",
       "4     0     0  "
      ]
     },
     "execution_count": 54,
     "metadata": {},
     "output_type": "execute_result"
    }
   ],
   "source": [
    "df_Ellis.head()"
   ]
  },
  {
   "cell_type": "code",
   "execution_count": 55,
   "metadata": {},
   "outputs": [],
   "source": [
    "import numpy as np\n",
    "import pandas as pd\n",
    "from sklearn import tree\n",
    "\n",
    "#input_file = \"Data/EllisTree.csv\"\n",
    "#df = pd.read_csv(input_file, header = 0,sep=\";\")\n",
    "\n",
    "df = df_Ellis;"
   ]
  },
  {
   "cell_type": "code",
   "execution_count": 56,
   "metadata": {},
   "outputs": [
    {
     "data": {
      "text/html": [
       "<div>\n",
       "<table border=\"1\" class=\"dataframe\">\n",
       "  <thead>\n",
       "    <tr style=\"text-align: right;\">\n",
       "      <th></th>\n",
       "      <th>Timestamp</th>\n",
       "      <th>load_avg_1_min</th>\n",
       "      <th>cpu_wait_perc</th>\n",
       "      <th>net_out_packets_sec</th>\n",
       "      <th>cpu_system_perc</th>\n",
       "      <th>net_in_bytes_sec</th>\n",
       "      <th>mem_free_mb</th>\n",
       "      <th>SLO1</th>\n",
       "      <th>SLO2</th>\n",
       "      <th>SLO3</th>\n",
       "    </tr>\n",
       "  </thead>\n",
       "  <tbody>\n",
       "    <tr>\n",
       "      <th>0</th>\n",
       "      <td>2016-08-31T20:47:23.230Z</td>\n",
       "      <td>2.04</td>\n",
       "      <td>16.8</td>\n",
       "      <td>65.800000</td>\n",
       "      <td>3.6</td>\n",
       "      <td>5967.800000</td>\n",
       "      <td>4997.0</td>\n",
       "      <td>0</td>\n",
       "      <td>1</td>\n",
       "      <td>0</td>\n",
       "    </tr>\n",
       "    <tr>\n",
       "      <th>1</th>\n",
       "      <td>2016-08-31T20:47:53.252Z</td>\n",
       "      <td>1.82</td>\n",
       "      <td>12.7</td>\n",
       "      <td>65.266667</td>\n",
       "      <td>0.9</td>\n",
       "      <td>5722.100000</td>\n",
       "      <td>5014.0</td>\n",
       "      <td>0</td>\n",
       "      <td>0</td>\n",
       "      <td>0</td>\n",
       "    </tr>\n",
       "    <tr>\n",
       "      <th>2</th>\n",
       "      <td>2016-08-31T20:48:23.233Z</td>\n",
       "      <td>1.63</td>\n",
       "      <td>14.3</td>\n",
       "      <td>65.200000</td>\n",
       "      <td>0.6</td>\n",
       "      <td>5487.333333</td>\n",
       "      <td>5013.0</td>\n",
       "      <td>0</td>\n",
       "      <td>0</td>\n",
       "      <td>0</td>\n",
       "    </tr>\n",
       "    <tr>\n",
       "      <th>3</th>\n",
       "      <td>2016-08-31T20:48:53.256Z</td>\n",
       "      <td>1.63</td>\n",
       "      <td>17.5</td>\n",
       "      <td>65.233333</td>\n",
       "      <td>0.6</td>\n",
       "      <td>5545.433333</td>\n",
       "      <td>5014.0</td>\n",
       "      <td>0</td>\n",
       "      <td>0</td>\n",
       "      <td>0</td>\n",
       "    </tr>\n",
       "    <tr>\n",
       "      <th>4</th>\n",
       "      <td>2016-08-31T20:49:23.235Z</td>\n",
       "      <td>1.37</td>\n",
       "      <td>18.0</td>\n",
       "      <td>65.866667</td>\n",
       "      <td>0.5</td>\n",
       "      <td>5597.666667</td>\n",
       "      <td>5013.0</td>\n",
       "      <td>0</td>\n",
       "      <td>0</td>\n",
       "      <td>0</td>\n",
       "    </tr>\n",
       "  </tbody>\n",
       "</table>\n",
       "</div>"
      ],
      "text/plain": [
       "                  Timestamp  load_avg_1_min  cpu_wait_perc  \\\n",
       "0  2016-08-31T20:47:23.230Z            2.04           16.8   \n",
       "1  2016-08-31T20:47:53.252Z            1.82           12.7   \n",
       "2  2016-08-31T20:48:23.233Z            1.63           14.3   \n",
       "3  2016-08-31T20:48:53.256Z            1.63           17.5   \n",
       "4  2016-08-31T20:49:23.235Z            1.37           18.0   \n",
       "\n",
       "   net_out_packets_sec  cpu_system_perc  net_in_bytes_sec  mem_free_mb  SLO1  \\\n",
       "0            65.800000              3.6       5967.800000       4997.0     0   \n",
       "1            65.266667              0.9       5722.100000       5014.0     0   \n",
       "2            65.200000              0.6       5487.333333       5013.0     0   \n",
       "3            65.233333              0.6       5545.433333       5014.0     0   \n",
       "4            65.866667              0.5       5597.666667       5013.0     0   \n",
       "\n",
       "   SLO2  SLO3  \n",
       "0     1     0  \n",
       "1     0     0  \n",
       "2     0     0  \n",
       "3     0     0  \n",
       "4     0     0  "
      ]
     },
     "execution_count": 56,
     "metadata": {},
     "output_type": "execute_result"
    }
   ],
   "source": [
    "df.head()"
   ]
  },
  {
   "cell_type": "markdown",
   "metadata": {},
   "source": [
    "scikit-learn needs everything to be numerical for decision trees to work. So, we'll map Y,N to 1,0 and levels of education to some scale of 0-2. In the real world, you'd need to think about how to deal with unexpected or missing data! By using map(), we know we'll get NaN for unexpected values."
   ]
  },
  {
   "cell_type": "code",
   "execution_count": 57,
   "metadata": {},
   "outputs": [
    {
     "data": {
      "text/plain": [
       "\"d = {'Y': 1, 'N': 0, 'F' : 2}\\ndf['Hired'] = df['Hired'].map(d)\\ndf['Employed?'] = df['Employed?'].map(d)\\ndf['Top-tier school'] = df['Top-tier school'].map(d)\\ndf['Interned'] = df['Interned'].map(d)\\nd = {'BS': 0, 'MS': 1, 'PhD': 2}\\ndf['Level of Education'] = df['Level of Education'].map(d)\\ndf.head()\""
      ]
     },
     "execution_count": 57,
     "metadata": {},
     "output_type": "execute_result"
    }
   ],
   "source": [
    "'''d = {'Y': 1, 'N': 0, 'F' : 2}\n",
    "df['Hired'] = df['Hired'].map(d)\n",
    "df['Employed?'] = df['Employed?'].map(d)\n",
    "df['Top-tier school'] = df['Top-tier school'].map(d)\n",
    "df['Interned'] = df['Interned'].map(d)\n",
    "d = {'BS': 0, 'MS': 1, 'PhD': 2}\n",
    "df['Level of Education'] = df['Level of Education'].map(d)\n",
    "df.head()'''"
   ]
  },
  {
   "cell_type": "markdown",
   "metadata": {},
   "source": [
    "Next we need to separate the features from the target column that we're trying to bulid a decision tree for."
   ]
  },
  {
   "cell_type": "code",
   "execution_count": 58,
   "metadata": {},
   "outputs": [
    {
     "data": {
      "text/plain": [
       "['load_avg_1_min',\n",
       " 'cpu_wait_perc',\n",
       " 'net_out_packets_sec',\n",
       " 'cpu_system_perc',\n",
       " 'net_in_bytes_sec',\n",
       " 'mem_free_mb']"
      ]
     },
     "execution_count": 58,
     "metadata": {},
     "output_type": "execute_result"
    }
   ],
   "source": [
    "features = list(df.columns[1:7])\n",
    "features"
   ]
  },
  {
   "cell_type": "markdown",
   "metadata": {},
   "source": [
    "Now actually construct the decision tree:"
   ]
  },
  {
   "cell_type": "code",
   "execution_count": 59,
   "metadata": {},
   "outputs": [
    {
     "data": {
      "text/html": [
       "<div>\n",
       "<table border=\"1\" class=\"dataframe\">\n",
       "  <thead>\n",
       "    <tr style=\"text-align: right;\">\n",
       "      <th></th>\n",
       "      <th>SLO1</th>\n",
       "      <th>SLO2</th>\n",
       "      <th>SLO3</th>\n",
       "    </tr>\n",
       "  </thead>\n",
       "  <tbody>\n",
       "    <tr>\n",
       "      <th>0</th>\n",
       "      <td>0</td>\n",
       "      <td>1</td>\n",
       "      <td>0</td>\n",
       "    </tr>\n",
       "    <tr>\n",
       "      <th>1</th>\n",
       "      <td>0</td>\n",
       "      <td>0</td>\n",
       "      <td>0</td>\n",
       "    </tr>\n",
       "    <tr>\n",
       "      <th>2</th>\n",
       "      <td>0</td>\n",
       "      <td>0</td>\n",
       "      <td>0</td>\n",
       "    </tr>\n",
       "    <tr>\n",
       "      <th>3</th>\n",
       "      <td>0</td>\n",
       "      <td>0</td>\n",
       "      <td>0</td>\n",
       "    </tr>\n",
       "    <tr>\n",
       "      <th>4</th>\n",
       "      <td>0</td>\n",
       "      <td>0</td>\n",
       "      <td>0</td>\n",
       "    </tr>\n",
       "  </tbody>\n",
       "</table>\n",
       "</div>"
      ],
      "text/plain": [
       "   SLO1  SLO2  SLO3\n",
       "0     0     1     0\n",
       "1     0     0     0\n",
       "2     0     0     0\n",
       "3     0     0     0\n",
       "4     0     0     0"
      ]
     },
     "execution_count": 59,
     "metadata": {},
     "output_type": "execute_result"
    }
   ],
   "source": [
    "df.loc[:,\"SLO1\":\"SLO3\"].head()"
   ]
  },
  {
   "cell_type": "code",
   "execution_count": 60,
   "metadata": {},
   "outputs": [],
   "source": [
    "y = df.loc[:,\"SLO1\":\"SLO3\"]\n",
    "X = df[features]\n",
    "clf = tree.DecisionTreeClassifier()\n",
    "clf = clf.fit(X,y)"
   ]
  },
  {
   "cell_type": "markdown",
   "metadata": {},
   "source": [
    "... and display it. Note you need to have pyplot2 installed for this to work.\n",
    "\n",
    "To read this decision tree, each condition branches left for \"true\" and right for \"false\". When you end up at a value, the value array represents how many samples exist in each target value. So value = [0. 5.] mean there are 0 \"no hires\" and 5 \"hires\" by the tim we get to that point. value = [3. 0.] means 3 no-hires and 0 hires."
   ]
  },
  {
   "cell_type": "code",
   "execution_count": 61,
   "metadata": {},
   "outputs": [
    {
     "data": {
      "image/jpeg": "[encoded data removed]",
      "text/plain": [
       "<IPython.core.display.Image object>"
      ]
     },
     "execution_count": 61,
     "metadata": {},
     "output_type": "execute_result"
    }
   ],
   "source": [
    "from IPython.display import Image  \n",
    "from sklearn.externals.six import StringIO  \n",
    "import pydotplus\n",
    "\n",
    "\n",
    "\n",
    "dot_data = StringIO()  \n",
    "tree.export_graphviz(clf, out_file=dot_data,  \n",
    "                         feature_names=features)  \n",
    "graph = pydotplus.graph_from_dot_data(dot_data.getvalue())  \n",
    "Image(graph.create_jpeg())"
   ]
  },
  {
   "cell_type": "markdown",
   "metadata": {},
   "source": [
    "## Ensemble learning: using a random forest"
   ]
  },
  {
   "cell_type": "markdown",
   "metadata": {},
   "source": [
    "We'll use a random forest of 10 decision trees to predict employment of specific candidate profiles:"
   ]
  },
  {
   "cell_type": "code",
   "execution_count": 21,
   "metadata": {},
   "outputs": [
    {
     "name": "stdout",
     "output_type": "stream",
     "text": [
      "[0]\n",
      "[0]\n"
     ]
    }
   ],
   "source": [
    "from sklearn.ensemble import RandomForestClassifier\n",
    "\n",
    "clf = RandomForestClassifier(n_estimators=10)\n",
    "clf = clf.fit(X, y)\n",
    "\n",
    "#Predict employment of an employed 10-year veteran\n",
    "print clf.predict([[10, 1, 4, 0, 0, 0]])\n",
    "#...and an unemployed 10-year veteran\n",
    "print clf.predict([[10, 0, 4, 0, 0, 0]])"
   ]
  },
  {
   "cell_type": "markdown",
   "metadata": {},
   "source": [
    "## Activity"
   ]
  },
  {
   "cell_type": "markdown",
   "metadata": {},
   "source": [
    "Modify the test data to create an alternate universe where everyone I hire everyone I normally wouldn't have, and vice versa. Compare the resulting decision tree to the one from the original data."
   ]
  },
  {
   "cell_type": "code",
   "execution_count": null,
   "metadata": {},
   "outputs": [],
   "source": []
  },
  {
   "cell_type": "code",
   "execution_count": null,
   "metadata": {
    "collapsed": true
   },
   "outputs": [],
   "source": []
  }
 ],
 "metadata": {
  "kernelspec": {
   "display_name": "Python 2",
   "language": "python",
   "name": "python2"
  },
  "language_info": {
   "codemirror_mode": {
    "name": "ipython",
    "version": 2
   },
   "file_extension": ".py",
   "mimetype": "text/x-python",
   "name": "python",
   "nbconvert_exporter": "python",
   "pygments_lexer": "ipython2",
   "version": "2.7.13"
  }
 },
 "nbformat": 4,
 "nbformat_minor": 1
}
