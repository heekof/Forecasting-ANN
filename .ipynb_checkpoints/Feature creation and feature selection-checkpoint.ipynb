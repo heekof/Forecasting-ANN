{
 "cells": [
  {
   "cell_type": "markdown",
   "metadata": {},
   "source": [
    "# Importing modules and libraries"
   ]
  },
  {
   "cell_type": "code",
   "execution_count": 1,
   "metadata": {
    "collapsed": true
   },
   "outputs": [],
   "source": [
    "import datetime\n",
    "import time\n",
    "\n",
    "# Import libraries use for visualization and analysis\n",
    "import pandas as pd\n",
    "import numpy as np\n",
    "\n",
    "%matplotlib inline\n",
    "import matplotlib\n",
    "import matplotlib.pyplot as plt\n",
    "\n",
    "#import cufflinks as cf\n",
    "\n",
    "# Import the Monasca and Keystone clients\n",
    "from monascaclient import client\n",
    "from monascaclient import ksclient\n",
    "\n",
    "from pandas import Series,DataFrame\n",
    "\n",
    "# Import library to execute remote commands for monasca-agent demo\n",
    "#import spur\n",
    "\n",
    "\n",
    "import pymongo\n",
    "from pymongo import MongoClient\n",
    "\n",
    "from password import *"
   ]
  },
  {
   "cell_type": "markdown",
   "metadata": {},
   "source": [
    "# Loading the Data "
   ]
  },
  {
   "cell_type": "code",
   "execution_count": 6,
   "metadata": {
    "collapsed": false
   },
   "outputs": [],
   "source": [
    "\n",
    "df_Ellis  = DataFrame.from_csv(\"/home/jaafar/anaconda2/Forecasting-ANN/Data/Ellis.csv\",sep=';')\n",
    "df_Bono   = DataFrame.from_csv(\"/home/jaafar/anaconda2/Forecasting-ANN/Data/Bono.csv\",sep=';')\n",
    "df_Sprout = DataFrame.from_csv(\"/home/jaafar/anaconda2/Forecasting-ANN/Data/Sprout.csv\",sep=';')\n",
    "df_Homer  = DataFrame.from_csv(\"/home/jaafar/anaconda2/Forecasting-ANN/Data/Homer.csv\",sep=';')\n",
    "df_HS     = DataFrame.from_csv(\"/home/jaafar/anaconda2/Forecasting-ANN/Data/Homestead.csv\",sep=';')\n",
    "df_Ralf   = DataFrame.from_csv(\"/home/jaafar/anaconda2/Forecasting-ANN/Data/Ralf.csv\",sep=';')"
   ]
  },
  {
   "cell_type": "markdown",
   "metadata": {},
   "source": [
    "Here I will create new features :\n",
    "\n",
    "    features powered 2 and 3 \n",
    "    \n",
    "    moving avreges 2 to 10 \n",
    "    \n",
    "    Here add new things ...\n",
    "    \n",
    "And then I will Scale and transform my features: \n",
    "\n",
    "    PCA\n",
    "    \n",
    "    Whitening \n",
    "    \n",
    "    scalling \n",
    "    \n",
    "    \n",
    "Forecasting can also be recursive f(f(f(f(t))))"
   ]
  },
  {
   "cell_type": "code",
   "execution_count": 7,
   "metadata": {
    "collapsed": false
   },
   "outputs": [
    {
     "data": {
      "text/html": [
       "<div>\n",
       "<table border=\"1\" class=\"dataframe\">\n",
       "  <thead>\n",
       "    <tr style=\"text-align: right;\">\n",
       "      <th></th>\n",
       "      <th>load_avg_1_min</th>\n",
       "      <th>cpu_wait_perc</th>\n",
       "      <th>net_out_packets_sec</th>\n",
       "      <th>cpu_system_perc</th>\n",
       "      <th>net_in_bytes_sec</th>\n",
       "      <th>mem_free_mb</th>\n",
       "    </tr>\n",
       "    <tr>\n",
       "      <th>Timestamp</th>\n",
       "      <th></th>\n",
       "      <th></th>\n",
       "      <th></th>\n",
       "      <th></th>\n",
       "      <th></th>\n",
       "      <th></th>\n",
       "    </tr>\n",
       "  </thead>\n",
       "  <tbody>\n",
       "    <tr>\n",
       "      <th>2016-08-31 20:47:23.230</th>\n",
       "      <td>2.04</td>\n",
       "      <td>16.8</td>\n",
       "      <td>65.800000</td>\n",
       "      <td>3.6</td>\n",
       "      <td>5967.800000</td>\n",
       "      <td>4997.0</td>\n",
       "    </tr>\n",
       "    <tr>\n",
       "      <th>2016-08-31 20:47:53.252</th>\n",
       "      <td>1.82</td>\n",
       "      <td>12.7</td>\n",
       "      <td>65.266667</td>\n",
       "      <td>0.9</td>\n",
       "      <td>5722.100000</td>\n",
       "      <td>5014.0</td>\n",
       "    </tr>\n",
       "    <tr>\n",
       "      <th>2016-08-31 20:48:23.233</th>\n",
       "      <td>1.63</td>\n",
       "      <td>14.3</td>\n",
       "      <td>65.200000</td>\n",
       "      <td>0.6</td>\n",
       "      <td>5487.333333</td>\n",
       "      <td>5013.0</td>\n",
       "    </tr>\n",
       "    <tr>\n",
       "      <th>2016-08-31 20:48:53.256</th>\n",
       "      <td>1.63</td>\n",
       "      <td>17.5</td>\n",
       "      <td>65.233333</td>\n",
       "      <td>0.6</td>\n",
       "      <td>5545.433333</td>\n",
       "      <td>5014.0</td>\n",
       "    </tr>\n",
       "    <tr>\n",
       "      <th>2016-08-31 20:49:23.235</th>\n",
       "      <td>1.37</td>\n",
       "      <td>18.0</td>\n",
       "      <td>65.866667</td>\n",
       "      <td>0.5</td>\n",
       "      <td>5597.666667</td>\n",
       "      <td>5013.0</td>\n",
       "    </tr>\n",
       "  </tbody>\n",
       "</table>\n",
       "</div>"
      ],
      "text/plain": [
       "                         load_avg_1_min  cpu_wait_perc  net_out_packets_sec  \\\n",
       "Timestamp                                                                     \n",
       "2016-08-31 20:47:23.230            2.04           16.8            65.800000   \n",
       "2016-08-31 20:47:53.252            1.82           12.7            65.266667   \n",
       "2016-08-31 20:48:23.233            1.63           14.3            65.200000   \n",
       "2016-08-31 20:48:53.256            1.63           17.5            65.233333   \n",
       "2016-08-31 20:49:23.235            1.37           18.0            65.866667   \n",
       "\n",
       "                         cpu_system_perc  net_in_bytes_sec  mem_free_mb  \n",
       "Timestamp                                                                \n",
       "2016-08-31 20:47:23.230              3.6       5967.800000       4997.0  \n",
       "2016-08-31 20:47:53.252              0.9       5722.100000       5014.0  \n",
       "2016-08-31 20:48:23.233              0.6       5487.333333       5013.0  \n",
       "2016-08-31 20:48:53.256              0.6       5545.433333       5014.0  \n",
       "2016-08-31 20:49:23.235              0.5       5597.666667       5013.0  "
      ]
     },
     "execution_count": 7,
     "metadata": {},
     "output_type": "execute_result"
    }
   ],
   "source": [
    "df_Ellis.head()"
   ]
  },
  {
   "cell_type": "markdown",
   "metadata": {},
   "source": [
    "# Creating new features"
   ]
  },
  {
   "cell_type": "code",
   "execution_count": null,
   "metadata": {
    "collapsed": true
   },
   "outputs": [],
   "source": []
  },
  {
   "cell_type": "code",
   "execution_count": null,
   "metadata": {
    "collapsed": true
   },
   "outputs": [],
   "source": []
  },
  {
   "cell_type": "code",
   "execution_count": null,
   "metadata": {
    "collapsed": true
   },
   "outputs": [],
   "source": []
  },
  {
   "cell_type": "markdown",
   "metadata": {},
   "source": [
    "# Finding dependencies within the features"
   ]
  },
  {
   "cell_type": "code",
   "execution_count": null,
   "metadata": {
    "collapsed": true
   },
   "outputs": [],
   "source": []
  },
  {
   "cell_type": "code",
   "execution_count": null,
   "metadata": {
    "collapsed": true
   },
   "outputs": [],
   "source": []
  },
  {
   "cell_type": "code",
   "execution_count": null,
   "metadata": {
    "collapsed": true
   },
   "outputs": [],
   "source": [
    "\n"
   ]
  },
  {
   "cell_type": "markdown",
   "metadata": {},
   "source": [
    "# Principal Component Analysis"
   ]
  },
  {
   "cell_type": "code",
   "execution_count": null,
   "metadata": {
    "collapsed": true
   },
   "outputs": [],
   "source": []
  },
  {
   "cell_type": "code",
   "execution_count": null,
   "metadata": {
    "collapsed": true
   },
   "outputs": [],
   "source": []
  },
  {
   "cell_type": "code",
   "execution_count": null,
   "metadata": {
    "collapsed": true
   },
   "outputs": [],
   "source": []
  }
 ],
 "metadata": {
  "kernelspec": {
   "display_name": "Python 2",
   "language": "python",
   "name": "python2"
  },
  "language_info": {
   "codemirror_mode": {
    "name": "ipython",
    "version": 2
   },
   "file_extension": ".py",
   "mimetype": "text/x-python",
   "name": "python",
   "nbconvert_exporter": "python",
   "pygments_lexer": "ipython2",
   "version": "2.7.6"
  }
 },
 "nbformat": 4,
 "nbformat_minor": 0
}
